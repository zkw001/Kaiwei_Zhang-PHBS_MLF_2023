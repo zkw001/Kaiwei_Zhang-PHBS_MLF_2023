{
 "cells": [
  {
   "cell_type": "code",
   "execution_count": 1,
   "id": "7ecac4a5",
   "metadata": {},
   "outputs": [],
   "source": [
    "import numpy as np\n",
    "from numpy import *\n",
    "\n",
    "import pandas as pd\n",
    "import scorecardpy as sc\n",
    "import matplotlib.pyplot as plt\n"
   ]
  },
  {
   "cell_type": "code",
   "execution_count": 2,
   "id": "a24bb2fb",
   "metadata": {},
   "outputs": [],
   "source": [
    "from IPython.core.interactiveshell import InteractiveShell\n",
    "\n",
    "InteractiveShell.ast_node_interactivity = \"all\"\n",
    "# Print all output"
   ]
  },
  {
   "cell_type": "markdown",
   "id": "c52d7a44",
   "metadata": {},
   "source": [
    "# 1. Data Process"
   ]
  },
  {
   "cell_type": "markdown",
   "id": "914c4651",
   "metadata": {},
   "source": [
    "## 1.1 Data Display and Data Visualization"
   ]
  },
  {
   "cell_type": "code",
   "execution_count": 3,
   "id": "23d0e1a8",
   "metadata": {},
   "outputs": [],
   "source": [
    "import numpy as np \n",
    "import pandas as pd \n",
    "import matplotlib.pyplot as plt\n",
    "import seaborn as sns\n",
    "%matplotlib inline\n",
    "import os\n",
    "for dirname, _, filenames in os.walk('/kaggle/input'):\n",
    "    for filename in filenames:\n",
    "        print(os.path.join(dirname, filename))"
   ]
  },
  {
   "cell_type": "code",
   "execution_count": 4,
   "id": "975d2189",
   "metadata": {},
   "outputs": [
    {
     "data": {
      "text/html": [
       "<div>\n",
       "<style scoped>\n",
       "    .dataframe tbody tr th:only-of-type {\n",
       "        vertical-align: middle;\n",
       "    }\n",
       "\n",
       "    .dataframe tbody tr th {\n",
       "        vertical-align: top;\n",
       "    }\n",
       "\n",
       "    .dataframe thead th {\n",
       "        text-align: right;\n",
       "    }\n",
       "</style>\n",
       "<table border=\"1\" class=\"dataframe\">\n",
       "  <thead>\n",
       "    <tr style=\"text-align: right;\">\n",
       "      <th></th>\n",
       "      <th>event</th>\n",
       "      <th>var1</th>\n",
       "      <th>var2</th>\n",
       "      <th>var3</th>\n",
       "      <th>var4</th>\n",
       "      <th>var5</th>\n",
       "      <th>var6</th>\n",
       "      <th>var7</th>\n",
       "      <th>var8</th>\n",
       "      <th>split</th>\n",
       "      <th>id</th>\n",
       "    </tr>\n",
       "  </thead>\n",
       "  <tbody>\n",
       "    <tr>\n",
       "      <th>0</th>\n",
       "      <td>1</td>\n",
       "      <td>NaN</td>\n",
       "      <td>NaN</td>\n",
       "      <td>NaN</td>\n",
       "      <td>NaN</td>\n",
       "      <td>NaN</td>\n",
       "      <td>NaN</td>\n",
       "      <td>NaN</td>\n",
       "      <td>NaN</td>\n",
       "      <td>dev</td>\n",
       "      <td>0</td>\n",
       "    </tr>\n",
       "    <tr>\n",
       "      <th>1</th>\n",
       "      <td>1</td>\n",
       "      <td>NaN</td>\n",
       "      <td>NaN</td>\n",
       "      <td>NaN</td>\n",
       "      <td>NaN</td>\n",
       "      <td>NaN</td>\n",
       "      <td>NaN</td>\n",
       "      <td>NaN</td>\n",
       "      <td>NaN</td>\n",
       "      <td>dev</td>\n",
       "      <td>1</td>\n",
       "    </tr>\n",
       "    <tr>\n",
       "      <th>2</th>\n",
       "      <td>1</td>\n",
       "      <td>NaN</td>\n",
       "      <td>NaN</td>\n",
       "      <td>NaN</td>\n",
       "      <td>NaN</td>\n",
       "      <td>NaN</td>\n",
       "      <td>NaN</td>\n",
       "      <td>NaN</td>\n",
       "      <td>NaN</td>\n",
       "      <td>dev</td>\n",
       "      <td>2</td>\n",
       "    </tr>\n",
       "    <tr>\n",
       "      <th>3</th>\n",
       "      <td>1</td>\n",
       "      <td>1.0</td>\n",
       "      <td>2.096510e+07</td>\n",
       "      <td>NaN</td>\n",
       "      <td>NaN</td>\n",
       "      <td>NaN</td>\n",
       "      <td>NaN</td>\n",
       "      <td>NaN</td>\n",
       "      <td>62.75</td>\n",
       "      <td>dev</td>\n",
       "      <td>3</td>\n",
       "    </tr>\n",
       "    <tr>\n",
       "      <th>4</th>\n",
       "      <td>1</td>\n",
       "      <td>NaN</td>\n",
       "      <td>NaN</td>\n",
       "      <td>NaN</td>\n",
       "      <td>NaN</td>\n",
       "      <td>NaN</td>\n",
       "      <td>NaN</td>\n",
       "      <td>NaN</td>\n",
       "      <td>NaN</td>\n",
       "      <td>dev</td>\n",
       "      <td>4</td>\n",
       "    </tr>\n",
       "  </tbody>\n",
       "</table>\n",
       "</div>"
      ],
      "text/plain": [
       "   event  var1          var2  var3  var4  var5  var6  var7   var8 split  id\n",
       "0      1   NaN           NaN   NaN   NaN   NaN   NaN   NaN    NaN   dev   0\n",
       "1      1   NaN           NaN   NaN   NaN   NaN   NaN   NaN    NaN   dev   1\n",
       "2      1   NaN           NaN   NaN   NaN   NaN   NaN   NaN    NaN   dev   2\n",
       "3      1   1.0  2.096510e+07   NaN   NaN   NaN   NaN   NaN  62.75   dev   3\n",
       "4      1   NaN           NaN   NaN   NaN   NaN   NaN   NaN    NaN   dev   4"
      ]
     },
     "execution_count": 4,
     "metadata": {},
     "output_type": "execute_result"
    }
   ],
   "source": [
    "df = pd.read_csv('training.csv')\n",
    "df.head(5)"
   ]
  },
  {
   "cell_type": "code",
   "execution_count": 5,
   "id": "0a06ab11",
   "metadata": {},
   "outputs": [],
   "source": [
    "df.drop(columns=['split','id'], inplace=True)\n",
    "# Get rid of two unhelpful variables"
   ]
  },
  {
   "attachments": {},
   "cell_type": "markdown",
   "id": "10665181",
   "metadata": {},
   "source": [
    "# data distribution"
   ]
  },
  {
   "cell_type": "code",
   "execution_count": 6,
   "id": "58737509",
   "metadata": {},
   "outputs": [
    {
     "name": "stdout",
     "output_type": "stream",
     "text": [
      "1    97.474418\n",
      "0     2.525582\n",
      "Name: event, dtype: float64\n"
     ]
    },
    {
     "data": {
      "text/plain": [
       "([<matplotlib.patches.Wedge at 0x2256e96d550>,\n",
       "  <matplotlib.patches.Wedge at 0x2256e96d490>],\n",
       " [Text(-0.27097759586537584, 1.2714445102083776, 'Default'),\n",
       "  Text(0.22928876014480823, -1.0758376571171213, 'Non-Defaults')],\n",
       " [Text(-0.16675544360946204, 0.782427390897463, '6.7%'),\n",
       "  Text(0.12506659644262266, -0.5868205402457025, '93.3%')])"
      ]
     },
     "execution_count": 6,
     "metadata": {},
     "output_type": "execute_result"
    },
    {
     "data": {
      "text/plain": [
       "(-1.099999956941891,\n",
       " 1.0999998281967094,\n",
       " -1.1097800502804027,\n",
       " 1.3053871762007834)"
      ]
     },
     "execution_count": 6,
     "metadata": {},
     "output_type": "execute_result"
    },
    {
     "data": {
      "text/plain": [
       "Text(0.5, 1.0, 'Percentage of Defaults and Non-Defaults')"
      ]
     },
     "execution_count": 6,
     "metadata": {},
     "output_type": "execute_result"
    },
    {
     "data": {
      "image/png": "[encoded data removed]",
      "text/plain": [
       "<Figure size 400x400 with 1 Axes>"
      ]
     },
     "metadata": {},
     "output_type": "display_data"
    }
   ],
   "source": [
    "print(df['event'].value_counts()/df.shape[0] *100)\n",
    "\n",
    "## Pie Chart\n",
    "labels = 'Default', 'Non-Defaults'\n",
    "sizes = [6.684, 93.316]\n",
    "explode = (0.2, 0)\n",
    "cols    = ['#00FFFF', '#008080']\n",
    "\n",
    "fig = plt.figure(figsize = (4,4))\n",
    "plt.pie(sizes, explode=explode, colors = cols, labels=labels, autopct='%1.1f%%',\n",
    "        shadow=True, startangle=90)\n",
    "plt.axis('equal')\n",
    "plt. title(\"Percentage of Defaults and Non-Defaults\")\n",
    "plt.show()"
   ]
  },
  {
   "cell_type": "code",
   "execution_count": 114,
   "id": "d9b70740",
   "metadata": {},
   "outputs": [
    {
     "data": {
      "text/plain": [
       "<AxesSubplot:xlabel='event', ylabel='count'>"
      ]
     },
     "execution_count": 114,
     "metadata": {},
     "output_type": "execute_result"
    },
    {
     "name": "stdout",
     "output_type": "stream",
     "text": [
      "Proportion of People Who Defaulted: 0.974744175919878\n"
     ]
    },
    {
     "data": {
      "image/png": "[encoded data removed]",
      "text/plain": [
       "<Figure size 432x288 with 1 Axes>"
      ]
     },
     "metadata": {
      "needs_background": "light"
     },
     "output_type": "display_data"
    }
   ],
   "source": [
    "sns.countplot(x=\"event\", data=df)\n",
    "print(\"Proportion of People Who Defaulted: {}\".format(df[\"event\"].sum() / len(df)))"
   ]
  },
  {
   "cell_type": "code",
   "execution_count": 115,
   "id": "efcf792b",
   "metadata": {},
   "outputs": [
    {
     "data": {
      "text/html": [
       "<div>\n",
       "<style scoped>\n",
       "    .dataframe tbody tr th:only-of-type {\n",
       "        vertical-align: middle;\n",
       "    }\n",
       "\n",
       "    .dataframe tbody tr th {\n",
       "        vertical-align: top;\n",
       "    }\n",
       "\n",
       "    .dataframe thead th {\n",
       "        text-align: right;\n",
       "    }\n",
       "</style>\n",
       "<table border=\"1\" class=\"dataframe\">\n",
       "  <thead>\n",
       "    <tr style=\"text-align: right;\">\n",
       "      <th></th>\n",
       "      <th>Column</th>\n",
       "      <th>Number of Null Values</th>\n",
       "      <th>Proportion</th>\n",
       "    </tr>\n",
       "  </thead>\n",
       "  <tbody>\n",
       "    <tr>\n",
       "      <th>0</th>\n",
       "      <td>event</td>\n",
       "      <td>0</td>\n",
       "      <td>0.000000</td>\n",
       "    </tr>\n",
       "    <tr>\n",
       "      <th>1</th>\n",
       "      <td>var1</td>\n",
       "      <td>105800</td>\n",
       "      <td>0.442982</td>\n",
       "    </tr>\n",
       "    <tr>\n",
       "      <th>2</th>\n",
       "      <td>var2</td>\n",
       "      <td>121800</td>\n",
       "      <td>0.509973</td>\n",
       "    </tr>\n",
       "    <tr>\n",
       "      <th>3</th>\n",
       "      <td>var3</td>\n",
       "      <td>192199</td>\n",
       "      <td>0.804732</td>\n",
       "    </tr>\n",
       "    <tr>\n",
       "      <th>4</th>\n",
       "      <td>var4</td>\n",
       "      <td>160649</td>\n",
       "      <td>0.672633</td>\n",
       "    </tr>\n",
       "    <tr>\n",
       "      <th>5</th>\n",
       "      <td>var5</td>\n",
       "      <td>230549</td>\n",
       "      <td>0.965303</td>\n",
       "    </tr>\n",
       "    <tr>\n",
       "      <th>6</th>\n",
       "      <td>var6</td>\n",
       "      <td>232897</td>\n",
       "      <td>0.975134</td>\n",
       "    </tr>\n",
       "    <tr>\n",
       "      <th>7</th>\n",
       "      <td>var7</td>\n",
       "      <td>211294</td>\n",
       "      <td>0.884682</td>\n",
       "    </tr>\n",
       "    <tr>\n",
       "      <th>8</th>\n",
       "      <td>var8</td>\n",
       "      <td>137689</td>\n",
       "      <td>0.576500</td>\n",
       "    </tr>\n",
       "  </tbody>\n",
       "</table>\n",
       "</div>"
      ],
      "text/plain": [
       "  Column  Number of Null Values  Proportion\n",
       "0  event                      0    0.000000\n",
       "1   var1                 105800    0.442982\n",
       "2   var2                 121800    0.509973\n",
       "3   var3                 192199    0.804732\n",
       "4   var4                 160649    0.672633\n",
       "5   var5                 230549    0.965303\n",
       "6   var6                 232897    0.975134\n",
       "7   var7                 211294    0.884682\n",
       "8   var8                 137689    0.576500"
      ]
     },
     "execution_count": 115,
     "metadata": {},
     "output_type": "execute_result"
    }
   ],
   "source": [
    "null_val_sums = df.isnull().sum()\n",
    "pd.DataFrame({\"Column\": null_val_sums.index, \"Number of Null Values\": null_val_sums.values,\n",
    "             \"Proportion\": null_val_sums.values / len(df) })"
   ]
  },
  {
   "cell_type": "code",
   "execution_count": 116,
   "id": "598b76a8",
   "metadata": {},
   "outputs": [
    {
     "data": {
      "text/html": [
       "<div>\n",
       "<style scoped>\n",
       "    .dataframe tbody tr th:only-of-type {\n",
       "        vertical-align: middle;\n",
       "    }\n",
       "\n",
       "    .dataframe tbody tr th {\n",
       "        vertical-align: top;\n",
       "    }\n",
       "\n",
       "    .dataframe thead th {\n",
       "        text-align: right;\n",
       "    }\n",
       "</style>\n",
       "<table border=\"1\" class=\"dataframe\">\n",
       "  <thead>\n",
       "    <tr style=\"text-align: right;\">\n",
       "      <th></th>\n",
       "      <th>event</th>\n",
       "      <th>var1</th>\n",
       "      <th>var2</th>\n",
       "      <th>var3</th>\n",
       "      <th>var4</th>\n",
       "      <th>var5</th>\n",
       "      <th>var6</th>\n",
       "      <th>var7</th>\n",
       "      <th>var8</th>\n",
       "    </tr>\n",
       "  </thead>\n",
       "  <tbody>\n",
       "    <tr>\n",
       "      <th>count</th>\n",
       "      <td>238836.000000</td>\n",
       "      <td>133036.000000</td>\n",
       "      <td>1.170360e+05</td>\n",
       "      <td>46637.000000</td>\n",
       "      <td>78187.000000</td>\n",
       "      <td>8287.000000</td>\n",
       "      <td>5939.000000</td>\n",
       "      <td>27542.000000</td>\n",
       "      <td>101147.000000</td>\n",
       "    </tr>\n",
       "    <tr>\n",
       "      <th>mean</th>\n",
       "      <td>0.974744</td>\n",
       "      <td>1.873951</td>\n",
       "      <td>5.989773e+06</td>\n",
       "      <td>16.772031</td>\n",
       "      <td>11.586977</td>\n",
       "      <td>289.199746</td>\n",
       "      <td>28.430493</td>\n",
       "      <td>20.646794</td>\n",
       "      <td>58.497153</td>\n",
       "    </tr>\n",
       "    <tr>\n",
       "      <th>std</th>\n",
       "      <td>0.156901</td>\n",
       "      <td>3.750522</td>\n",
       "      <td>3.444271e+07</td>\n",
       "      <td>125.433035</td>\n",
       "      <td>3.459597</td>\n",
       "      <td>5099.352261</td>\n",
       "      <td>2133.407579</td>\n",
       "      <td>6.460506</td>\n",
       "      <td>11.731754</td>\n",
       "    </tr>\n",
       "    <tr>\n",
       "      <th>min</th>\n",
       "      <td>0.000000</td>\n",
       "      <td>1.000000</td>\n",
       "      <td>0.000000e+00</td>\n",
       "      <td>0.000000</td>\n",
       "      <td>1.000000</td>\n",
       "      <td>0.000000</td>\n",
       "      <td>-3127.163978</td>\n",
       "      <td>2.000000</td>\n",
       "      <td>24.416667</td>\n",
       "    </tr>\n",
       "    <tr>\n",
       "      <th>25%</th>\n",
       "      <td>1.000000</td>\n",
       "      <td>1.000000</td>\n",
       "      <td>1.102558e+05</td>\n",
       "      <td>0.397341</td>\n",
       "      <td>13.000000</td>\n",
       "      <td>2.341317</td>\n",
       "      <td>0.012441</td>\n",
       "      <td>22.000000</td>\n",
       "      <td>49.833333</td>\n",
       "    </tr>\n",
       "    <tr>\n",
       "      <th>50%</th>\n",
       "      <td>1.000000</td>\n",
       "      <td>1.000000</td>\n",
       "      <td>8.042291e+05</td>\n",
       "      <td>1.509004</td>\n",
       "      <td>13.000000</td>\n",
       "      <td>8.105200</td>\n",
       "      <td>0.296218</td>\n",
       "      <td>24.000000</td>\n",
       "      <td>58.666667</td>\n",
       "    </tr>\n",
       "    <tr>\n",
       "      <th>75%</th>\n",
       "      <td>1.000000</td>\n",
       "      <td>1.000000</td>\n",
       "      <td>3.247496e+06</td>\n",
       "      <td>6.628049</td>\n",
       "      <td>13.000000</td>\n",
       "      <td>45.835062</td>\n",
       "      <td>1.378717</td>\n",
       "      <td>24.000000</td>\n",
       "      <td>66.666667</td>\n",
       "    </tr>\n",
       "    <tr>\n",
       "      <th>max</th>\n",
       "      <td>1.000000</td>\n",
       "      <td>121.000000</td>\n",
       "      <td>2.817428e+09</td>\n",
       "      <td>10175.481564</td>\n",
       "      <td>13.000000</td>\n",
       "      <td>334283.557143</td>\n",
       "      <td>164300.400000</td>\n",
       "      <td>24.000000</td>\n",
       "      <td>118.666667</td>\n",
       "    </tr>\n",
       "  </tbody>\n",
       "</table>\n",
       "</div>"
      ],
      "text/plain": [
       "               event           var1          var2          var3          var4  \\\n",
       "count  238836.000000  133036.000000  1.170360e+05  46637.000000  78187.000000   \n",
       "mean        0.974744       1.873951  5.989773e+06     16.772031     11.586977   \n",
       "std         0.156901       3.750522  3.444271e+07    125.433035      3.459597   \n",
       "min         0.000000       1.000000  0.000000e+00      0.000000      1.000000   \n",
       "25%         1.000000       1.000000  1.102558e+05      0.397341     13.000000   \n",
       "50%         1.000000       1.000000  8.042291e+05      1.509004     13.000000   \n",
       "75%         1.000000       1.000000  3.247496e+06      6.628049     13.000000   \n",
       "max         1.000000     121.000000  2.817428e+09  10175.481564     13.000000   \n",
       "\n",
       "                var5           var6          var7           var8  \n",
       "count    8287.000000    5939.000000  27542.000000  101147.000000  \n",
       "mean      289.199746      28.430493     20.646794      58.497153  \n",
       "std      5099.352261    2133.407579      6.460506      11.731754  \n",
       "min         0.000000   -3127.163978      2.000000      24.416667  \n",
       "25%         2.341317       0.012441     22.000000      49.833333  \n",
       "50%         8.105200       0.296218     24.000000      58.666667  \n",
       "75%        45.835062       1.378717     24.000000      66.666667  \n",
       "max    334283.557143  164300.400000     24.000000     118.666667  "
      ]
     },
     "execution_count": 116,
     "metadata": {},
     "output_type": "execute_result"
    }
   ],
   "source": [
    "df.describe()"
   ]
  },
  {
   "cell_type": "code",
   "execution_count": 117,
   "id": "9743584c",
   "metadata": {},
   "outputs": [
    {
     "name": "stderr",
     "output_type": "stream",
     "text": [
      "C:\\ProgramData\\Anaconda3\\lib\\site-packages\\seaborn\\distributions.py:2619: FutureWarning: `distplot` is a deprecated function and will be removed in a future version. Please adapt your code to use either `displot` (a figure-level function with similar flexibility) or `histplot` (an axes-level function for histograms).\n",
      "  warnings.warn(msg, FutureWarning)\n"
     ]
    },
    {
     "data": {
      "text/plain": [
       "<AxesSubplot:xlabel='var4', ylabel='Density'>"
      ]
     },
     "execution_count": 117,
     "metadata": {},
     "output_type": "execute_result"
    },
    {
     "data": {
      "image/png": "[encoded data removed]",
      "text/plain": [
       "<Figure size 432x288 with 1 Axes>"
      ]
     },
     "metadata": {
      "needs_background": "light"
     },
     "output_type": "display_data"
    }
   ],
   "source": [
    "sns.distplot(df[\"var4\"].dropna())"
   ]
  },
  {
   "cell_type": "code",
   "execution_count": 118,
   "id": "c897f339",
   "metadata": {},
   "outputs": [
    {
     "name": "stderr",
     "output_type": "stream",
     "text": [
      "C:\\ProgramData\\Anaconda3\\lib\\site-packages\\seaborn\\distributions.py:2619: FutureWarning: `distplot` is a deprecated function and will be removed in a future version. Please adapt your code to use either `displot` (a figure-level function with similar flexibility) or `histplot` (an axes-level function for histograms).\n",
      "  warnings.warn(msg, FutureWarning)\n"
     ]
    },
    {
     "data": {
      "text/plain": [
       "<AxesSubplot:xlabel='var4', ylabel='Density'>"
      ]
     },
     "execution_count": 118,
     "metadata": {},
     "output_type": "execute_result"
    },
    {
     "data": {
      "image/png": "[encoded data removed]",
      "text/plain": [
       "<Figure size 432x288 with 1 Axes>"
      ]
     },
     "metadata": {
      "needs_background": "light"
     },
     "output_type": "display_data"
    }
   ],
   "source": [
    "sns.distplot(df.loc[df[\"event\"] == 0][\"var4\"])"
   ]
  },
  {
   "cell_type": "code",
   "execution_count": 119,
   "id": "b3b23b23",
   "metadata": {},
   "outputs": [
    {
     "data": {
      "text/plain": [
       "<AxesSubplot:xlabel='var4', ylabel='count'>"
      ]
     },
     "execution_count": 119,
     "metadata": {},
     "output_type": "execute_result"
    },
    {
     "data": {
      "image/png": "[encoded data removed]",
      "text/plain": [
       "<Figure size 432x288 with 1 Axes>"
      ]
     },
     "metadata": {
      "needs_background": "light"
     },
     "output_type": "display_data"
    }
   ],
   "source": [
    "sns.countplot(x=\"var4\", data=df.loc[df[\"var4\"] <= 13])"
   ]
  },
  {
   "cell_type": "code",
   "execution_count": 120,
   "id": "e5e49937",
   "metadata": {},
   "outputs": [
    {
     "data": {
      "image/png": "[encoded data removed]",
      "text/plain": [
       "<Figure size 432x288 with 2 Axes>"
      ]
     },
     "metadata": {
      "needs_background": "light"
     },
     "output_type": "display_data"
    }
   ],
   "source": [
    "mask = df.isnull()\n",
    "sns.heatmap(df, mask=mask,cmap=\"YlGnBu\");"
   ]
  },
  {
   "cell_type": "code",
   "execution_count": 121,
   "id": "81d6556e",
   "metadata": {},
   "outputs": [
    {
     "name": "stderr",
     "output_type": "stream",
     "text": [
      "C:\\ProgramData\\Anaconda3\\lib\\site-packages\\seaborn\\_decorators.py:36: FutureWarning: Pass the following variables as keyword args: x, y. From version 0.12, the only valid positional argument will be `data`, and passing other arguments without an explicit keyword will result in an error or misinterpretation.\n",
      "  warnings.warn(\n"
     ]
    },
    {
     "data": {
      "image/png": "[encoded data removed]",
      "text/plain": [
       "<Figure size 504x504 with 3 Axes>"
      ]
     },
     "metadata": {
      "needs_background": "light"
     },
     "output_type": "display_data"
    }
   ],
   "source": [
    "g = sns.jointplot(\"var1\", \"var4\", data=df, ylim=(0, 12),\n",
    "                  color=\"m\", height=7)"
   ]
  },
  {
   "cell_type": "markdown",
   "id": "7a090d0c",
   "metadata": {},
   "source": [
    "## 1.2 Data Resampling"
   ]
  },
  {
   "cell_type": "code",
   "execution_count": 7,
   "id": "74e60168",
   "metadata": {},
   "outputs": [],
   "source": [
    "df.dropna(axis=0,thresh=3, subset=None, inplace=True)\n",
    "# Delete rows with fewer than two variables"
   ]
  },
  {
   "cell_type": "code",
   "execution_count": 8,
   "id": "63293166",
   "metadata": {},
   "outputs": [
    {
     "data": {
      "text/html": [
       "<div>\n",
       "<style scoped>\n",
       "    .dataframe tbody tr th:only-of-type {\n",
       "        vertical-align: middle;\n",
       "    }\n",
       "\n",
       "    .dataframe tbody tr th {\n",
       "        vertical-align: top;\n",
       "    }\n",
       "\n",
       "    .dataframe thead th {\n",
       "        text-align: right;\n",
       "    }\n",
       "</style>\n",
       "<table border=\"1\" class=\"dataframe\">\n",
       "  <thead>\n",
       "    <tr style=\"text-align: right;\">\n",
       "      <th></th>\n",
       "      <th>event</th>\n",
       "      <th>var1</th>\n",
       "      <th>var2</th>\n",
       "      <th>var3</th>\n",
       "      <th>var4</th>\n",
       "      <th>var5</th>\n",
       "      <th>var6</th>\n",
       "      <th>var7</th>\n",
       "      <th>var8</th>\n",
       "    </tr>\n",
       "  </thead>\n",
       "  <tbody>\n",
       "    <tr>\n",
       "      <th>3</th>\n",
       "      <td>1</td>\n",
       "      <td>1.0</td>\n",
       "      <td>2.096510e+07</td>\n",
       "      <td>NaN</td>\n",
       "      <td>NaN</td>\n",
       "      <td>NaN</td>\n",
       "      <td>NaN</td>\n",
       "      <td>NaN</td>\n",
       "      <td>62.750000</td>\n",
       "    </tr>\n",
       "    <tr>\n",
       "      <th>6</th>\n",
       "      <td>1</td>\n",
       "      <td>1.0</td>\n",
       "      <td>1.361692e+06</td>\n",
       "      <td>NaN</td>\n",
       "      <td>NaN</td>\n",
       "      <td>NaN</td>\n",
       "      <td>NaN</td>\n",
       "      <td>NaN</td>\n",
       "      <td>65.166667</td>\n",
       "    </tr>\n",
       "    <tr>\n",
       "      <th>8</th>\n",
       "      <td>1</td>\n",
       "      <td>1.0</td>\n",
       "      <td>2.268649e+06</td>\n",
       "      <td>NaN</td>\n",
       "      <td>NaN</td>\n",
       "      <td>NaN</td>\n",
       "      <td>NaN</td>\n",
       "      <td>NaN</td>\n",
       "      <td>61.208333</td>\n",
       "    </tr>\n",
       "    <tr>\n",
       "      <th>9</th>\n",
       "      <td>1</td>\n",
       "      <td>1.0</td>\n",
       "      <td>2.149415e+03</td>\n",
       "      <td>NaN</td>\n",
       "      <td>13.0</td>\n",
       "      <td>NaN</td>\n",
       "      <td>NaN</td>\n",
       "      <td>NaN</td>\n",
       "      <td>NaN</td>\n",
       "    </tr>\n",
       "    <tr>\n",
       "      <th>11</th>\n",
       "      <td>1</td>\n",
       "      <td>2.0</td>\n",
       "      <td>7.522327e+06</td>\n",
       "      <td>1.163336</td>\n",
       "      <td>13.0</td>\n",
       "      <td>NaN</td>\n",
       "      <td>NaN</td>\n",
       "      <td>NaN</td>\n",
       "      <td>45.375000</td>\n",
       "    </tr>\n",
       "  </tbody>\n",
       "</table>\n",
       "</div>"
      ],
      "text/plain": [
       "    event  var1          var2      var3  var4  var5  var6  var7       var8\n",
       "3       1   1.0  2.096510e+07       NaN   NaN   NaN   NaN   NaN  62.750000\n",
       "6       1   1.0  1.361692e+06       NaN   NaN   NaN   NaN   NaN  65.166667\n",
       "8       1   1.0  2.268649e+06       NaN   NaN   NaN   NaN   NaN  61.208333\n",
       "9       1   1.0  2.149415e+03       NaN  13.0   NaN   NaN   NaN        NaN\n",
       "11      1   2.0  7.522327e+06  1.163336  13.0   NaN   NaN   NaN  45.375000"
      ]
     },
     "execution_count": 8,
     "metadata": {},
     "output_type": "execute_result"
    }
   ],
   "source": [
    "df.head(5)"
   ]
  },
  {
   "cell_type": "code",
   "execution_count": 9,
   "id": "06146254",
   "metadata": {},
   "outputs": [],
   "source": [
    "df = df.drop(df[df.event == 1].sample(frac=0.7).index)\n",
    "# Randomly drop 70% data with event 1"
   ]
  },
  {
   "cell_type": "code",
   "execution_count": 10,
   "id": "f9d7e3fa",
   "metadata": {},
   "outputs": [],
   "source": [
    "data_duplication = df.loc[df.event == 0]\n",
    "df = pd.concat([df, data_duplication], axis=0)\n",
    "# Use function loc[] to extract the row of event 0 from df and and \n",
    "# insert it into the original data"
   ]
  },
  {
   "cell_type": "code",
   "execution_count": 11,
   "id": "2d32e351",
   "metadata": {},
   "outputs": [
    {
     "data": {
      "text/plain": [
       "(2968, 9)"
      ]
     },
     "execution_count": 11,
     "metadata": {},
     "output_type": "execute_result"
    }
   ],
   "source": [
    "data_duplication.shape\n",
    "# the number of bad guys after drop 70% good guys"
   ]
  },
  {
   "cell_type": "code",
   "execution_count": 12,
   "id": "db42c9ce",
   "metadata": {
    "scrolled": true
   },
   "outputs": [
    {
     "data": {
      "text/plain": [
       "(45705, 9)"
      ]
     },
     "execution_count": 12,
     "metadata": {},
     "output_type": "execute_result"
    },
    {
     "data": {
      "text/plain": [
       "event        0\n",
       "var1      2783\n",
       "var2      6379\n",
       "var3     30046\n",
       "var4     20628\n",
       "var5     43219\n",
       "var6     43817\n",
       "var7     36191\n",
       "var8     14592\n",
       "dtype: int64"
      ]
     },
     "execution_count": 12,
     "metadata": {},
     "output_type": "execute_result"
    }
   ],
   "source": [
    "df.shape\n",
    "df.isnull().sum()"
   ]
  },
  {
   "cell_type": "code",
   "execution_count": 13,
   "id": "680d3c1a",
   "metadata": {
    "scrolled": true
   },
   "outputs": [
    {
     "data": {
      "text/plain": [
       "<Figure size 1200x800 with 0 Axes>"
      ]
     },
     "execution_count": 13,
     "metadata": {},
     "output_type": "execute_result"
    },
    {
     "data": {
      "text/plain": [
       "<Axes: >"
      ]
     },
     "execution_count": 13,
     "metadata": {},
     "output_type": "execute_result"
    },
    {
     "data": {
      "image/png": "[encoded data removed]",
      "text/plain": [
       "<Figure size 1200x800 with 2 Axes>"
      ]
     },
     "metadata": {},
     "output_type": "display_data"
    }
   ],
   "source": [
    "import seaborn as sns\n",
    "plt.figure(figsize=(12, 8))\n",
    "sns.heatmap(df.corr(), annot=True, cmap='viridis')"
   ]
  },
  {
   "cell_type": "code",
   "execution_count": 14,
   "id": "5597d032",
   "metadata": {},
   "outputs": [
    {
     "data": {
      "text/plain": [
       "(45705, 9)"
      ]
     },
     "execution_count": 14,
     "metadata": {},
     "output_type": "execute_result"
    },
    {
     "data": {
      "text/plain": [
       "event        0\n",
       "var1      2783\n",
       "var2      6379\n",
       "var3     30046\n",
       "var4     20628\n",
       "var5     43219\n",
       "var6     43817\n",
       "var7     36191\n",
       "var8     14592\n",
       "dtype: int64"
      ]
     },
     "execution_count": 14,
     "metadata": {},
     "output_type": "execute_result"
    },
    {
     "name": "stdout",
     "output_type": "stream",
     "text": [
      "rows: 45705\n",
      "columns: 9\n",
      "bad guys : 5936\n",
      "good guys : 39769\n"
     ]
    }
   ],
   "source": [
    "df.shape\n",
    "df.isnull().sum()\n",
    "print(\"rows:\", df.shape[0])\n",
    "print(\"columns:\", df.shape[1])\n",
    "counts = df.iloc[:, 0].value_counts()\n",
    "print(\"bad guys :\", counts[0])\n",
    "print(\"good guys :\", counts[1])"
   ]
  },
  {
   "cell_type": "code",
   "execution_count": 15,
   "id": "74b89cc9",
   "metadata": {},
   "outputs": [
    {
     "data": {
      "text/plain": [
       "<bound method DataFrame.info of         event  var1          var2      var3  var4  var5  var6  var7       var8\n",
       "3           1   1.0  2.096510e+07       NaN   NaN   NaN   NaN   NaN  62.750000\n",
       "33          1   1.0  1.313192e+06  0.920360  13.0   NaN   NaN  15.0  65.833333\n",
       "37          1   1.0  1.455551e+06       NaN  13.0   NaN   NaN   NaN        NaN\n",
       "60          1  13.0  7.577406e+04       NaN  12.0   NaN   NaN  24.0  40.166667\n",
       "71          1   2.0  0.000000e+00  0.738633  13.0   NaN   NaN   NaN        NaN\n",
       "...       ...   ...           ...       ...   ...   ...   ...   ...        ...\n",
       "238411      0   1.0  3.537968e+04  0.576213  13.0   NaN   NaN   NaN        NaN\n",
       "238429      0   1.0  1.122663e+04       NaN   NaN   NaN   NaN   NaN        NaN\n",
       "238436      0   1.0           NaN       NaN   1.0   NaN   NaN   NaN        NaN\n",
       "238770      0   2.0  7.053483e+05  0.100576  11.0   NaN   NaN   NaN        NaN\n",
       "238815      0   3.0  6.074078e+05       NaN   5.0   NaN   NaN  24.0  40.666667\n",
       "\n",
       "[45705 rows x 9 columns]>"
      ]
     },
     "execution_count": 15,
     "metadata": {},
     "output_type": "execute_result"
    }
   ],
   "source": [
    "df.info"
   ]
  },
  {
   "cell_type": "markdown",
   "id": "6f9fa1e3",
   "metadata": {},
   "source": [
    "## 1.3 Null value processing"
   ]
  },
  {
   "cell_type": "markdown",
   "id": "c91631d8",
   "metadata": {},
   "source": [
    "### Method 1:Data Binning"
   ]
  },
  {
   "cell_type": "markdown",
   "id": "2113f7e1",
   "metadata": {},
   "source": [
    "pip install pandas==1.1.5 to compatible(兼容) scorecardpy package"
   ]
  },
  {
   "attachments": {},
   "cell_type": "markdown",
   "id": "80a45eb6",
   "metadata": {},
   "source": [
    "WOE bin sorting is a data processing method used to divide continuous or discrete variables into several groups, and then calculate WOE values and IV values for each group. WOE value represents the difference between the proportion of bad people and the proportion of good people in each group, and IV value represents the forecasting ability of variables."
   ]
  },
  {
   "cell_type": "code",
   "execution_count": 16,
   "id": "21ab40ca",
   "metadata": {
    "scrolled": false
   },
   "outputs": [
    {
     "name": "stdout",
     "output_type": "stream",
     "text": [
      "Box the variables:\n",
      "[INFO] creating woe binning ...\n"
     ]
    },
    {
     "name": "stderr",
     "output_type": "stream",
     "text": [
      "d:\\Users\\ZcarryV\\anaconda3\\lib\\site-packages\\scorecardpy\\condition_fun.py:113: UserWarning: The positive value in \"event\" was replaced by 1 and negative value by 0.\n",
      "  warnings.warn(\"The positive value in \\\"{}\\\" was replaced by 1 and negative value by 0.\".format(y))\n",
      "d:\\Users\\ZcarryV\\anaconda3\\lib\\site-packages\\scorecardpy\\condition_fun.py:58: UserWarning: There are duplicated index in dataset. The index has been reseted.\n",
      "  warnings.warn('There are duplicated index in dataset. The index has been reseted.')\n"
     ]
    }
   ],
   "source": [
    "print('Box the variables:')\n",
    "dt = df[['var1', 'var2','var3','var5','var6','var7', 'var4','var8','event']]\n",
    "bins = sc.woebin(dt ,y='event',positive='bad|0')\n",
    "# the bad guys'event are 0 "
   ]
  },
  {
   "cell_type": "code",
   "execution_count": 17,
   "id": "805b1c28",
   "metadata": {
    "scrolled": true
   },
   "outputs": [
    {
     "data": {
      "text/plain": [
       "{'var6': <Figure size 640x480 with 2 Axes>,\n",
       " 'var8': <Figure size 640x480 with 2 Axes>,\n",
       " 'var3': <Figure size 640x480 with 2 Axes>,\n",
       " 'var4': <Figure size 640x480 with 2 Axes>,\n",
       " 'var7': <Figure size 640x480 with 2 Axes>,\n",
       " 'var2': <Figure size 640x480 with 2 Axes>,\n",
       " 'var5': <Figure size 640x480 with 2 Axes>,\n",
       " 'var1': <Figure size 640x480 with 2 Axes>}"
      ]
     },
     "execution_count": 17,
     "metadata": {},
     "output_type": "execute_result"
    },
    {
     "data": {
      "image/png": "[encoded data removed]",
      "text/plain": [
       "<Figure size 640x480 with 2 Axes>"
      ]
     },
     "metadata": {},
     "output_type": "display_data"
    },
    {
     "data": {
      "image/png": "[encoded data removed]",
      "text/plain": [
       "<Figure size 640x480 with 2 Axes>"
      ]
     },
     "metadata": {},
     "output_type": "display_data"
    },
    {
     "data": {
      "image/png": "[encoded data removed]",
      "text/plain": [
       "<Figure size 640x480 with 2 Axes>"
      ]
     },
     "metadata": {},
     "output_type": "display_data"
    },
    {
     "data": {
      "image/png": "[encoded data removed]",
      "text/plain": [
       "<Figure size 640x480 with 2 Axes>"
      ]
     },
     "metadata": {},
     "output_type": "display_data"
    },
    {
     "data": {
      "image/png": "[encoded data removed]",
      "text/plain": [
       "<Figure size 640x480 with 2 Axes>"
      ]
     },
     "metadata": {},
     "output_type": "display_data"
    },
    {
     "data": {
      "image/png": "[encoded data removed]",
      "text/plain": [
       "<Figure size 640x480 with 2 Axes>"
      ]
     },
     "metadata": {},
     "output_type": "display_data"
    },
    {
     "data": {
      "image/png": "[encoded data removed]",
      "text/plain": [
       "<Figure size 640x480 with 2 Axes>"
      ]
     },
     "metadata": {},
     "output_type": "display_data"
    },
    {
     "data": {
      "image/png": "[encoded data removed]",
      "text/plain": [
       "<Figure size 640x480 with 2 Axes>"
      ]
     },
     "metadata": {},
     "output_type": "display_data"
    }
   ],
   "source": [
    "sc.woebin_plot(bins)"
   ]
  },
  {
   "attachments": {},
   "cell_type": "markdown",
   "id": "7723bb29",
   "metadata": {},
   "source": [
    "1.The sample size in each sub-box is sufficient, at least 5% of the total sample\n",
    "2.The number of bad and good people in each sub-box is not zero to avoid infinite WOE value\n",
    "3.The WOE values of each sub-tank are different, which can distinguish different risk levels\n",
    "4.WOE values increase or decrease monotonically with the sequence of bin sorting, which conforms to the business logic"
   ]
  },
  {
   "cell_type": "code",
   "execution_count": 18,
   "id": "9d2b4ecf",
   "metadata": {
    "scrolled": true
   },
   "outputs": [
    {
     "name": "stdout",
     "output_type": "stream",
     "text": [
      "show iv of each variables:\n"
     ]
    },
    {
     "data": {
      "text/html": [
       "<div>\n",
       "<style scoped>\n",
       "    .dataframe tbody tr th:only-of-type {\n",
       "        vertical-align: middle;\n",
       "    }\n",
       "\n",
       "    .dataframe tbody tr th {\n",
       "        vertical-align: top;\n",
       "    }\n",
       "\n",
       "    .dataframe thead th {\n",
       "        text-align: right;\n",
       "    }\n",
       "</style>\n",
       "<table border=\"1\" class=\"dataframe\">\n",
       "  <thead>\n",
       "    <tr style=\"text-align: right;\">\n",
       "      <th></th>\n",
       "      <th>var</th>\n",
       "      <th>iv</th>\n",
       "    </tr>\n",
       "  </thead>\n",
       "  <tbody>\n",
       "    <tr>\n",
       "      <th>3</th>\n",
       "      <td>var4</td>\n",
       "      <td>0.931018</td>\n",
       "    </tr>\n",
       "    <tr>\n",
       "      <th>5</th>\n",
       "      <td>var2</td>\n",
       "      <td>0.399304</td>\n",
       "    </tr>\n",
       "    <tr>\n",
       "      <th>2</th>\n",
       "      <td>var3</td>\n",
       "      <td>0.268179</td>\n",
       "    </tr>\n",
       "    <tr>\n",
       "      <th>7</th>\n",
       "      <td>var1</td>\n",
       "      <td>0.191055</td>\n",
       "    </tr>\n",
       "    <tr>\n",
       "      <th>1</th>\n",
       "      <td>var8</td>\n",
       "      <td>0.175511</td>\n",
       "    </tr>\n",
       "    <tr>\n",
       "      <th>6</th>\n",
       "      <td>var5</td>\n",
       "      <td>0.053959</td>\n",
       "    </tr>\n",
       "    <tr>\n",
       "      <th>4</th>\n",
       "      <td>var7</td>\n",
       "      <td>0.037639</td>\n",
       "    </tr>\n",
       "    <tr>\n",
       "      <th>0</th>\n",
       "      <td>var6</td>\n",
       "      <td>0.030462</td>\n",
       "    </tr>\n",
       "  </tbody>\n",
       "</table>\n",
       "</div>"
      ],
      "text/plain": [
       "    var        iv\n",
       "3  var4  0.931018\n",
       "5  var2  0.399304\n",
       "2  var3  0.268179\n",
       "7  var1  0.191055\n",
       "1  var8  0.175511\n",
       "6  var5  0.053959\n",
       "4  var7  0.037639\n",
       "0  var6  0.030462"
      ]
     },
     "execution_count": 18,
     "metadata": {},
     "output_type": "execute_result"
    }
   ],
   "source": [
    "print('show iv of each variables:')\n",
    "iv_stat = pd.DataFrame()\n",
    "var = []\n",
    "iv = []\n",
    "for i,e in bins.items():\n",
    "    var.append(i)\n",
    "    iv.append(e['total_iv'].max())\n",
    "iv_stat['var'] = var\n",
    "iv_stat['iv'] = iv\n",
    "\n",
    "iv_stat.sort_values('iv',ascending = False)"
   ]
  },
  {
   "cell_type": "code",
   "execution_count": 19,
   "id": "2174bbe5",
   "metadata": {},
   "outputs": [],
   "source": [
    "df = df[['var1', 'var2','var3', 'var4','var8','event']]\n",
    "# Select variables whose IV value is greater than 0.1\n",
    "# We tried to increase the variables, but it got worse"
   ]
  },
  {
   "cell_type": "code",
   "execution_count": 20,
   "id": "43f539ea",
   "metadata": {
    "scrolled": false
   },
   "outputs": [
    {
     "data": {
      "text/plain": [
       "{'var6':   variable         bin  count  count_distr   good   bad   badprob       woe  \\\n",
       " 0     var6     missing  43817     0.958692  37977  5840  0.133282  0.029802   \n",
       " 1     var6  [-inf,inf)   1888     0.041308   1792    96  0.050847 -1.024687   \n",
       " \n",
       "      bin_iv  total_iv   breaks  is_special_values  \n",
       " 0  0.000861  0.030462  missing               True  \n",
       " 1  0.029601  0.030462      inf              False  ,\n",
       " 'var8':   variable          bin  count  count_distr   good   bad   badprob       woe  \\\n",
       " 0     var8      missing  14592     0.319265  12008  2584  0.177083  0.365818   \n",
       " 1     var8  [-inf,52.0)  10158     0.222251   8612  1546  0.152195  0.184567   \n",
       " 2     var8  [52.0,62.0)   9308     0.203654   8278  1030  0.110657 -0.181990   \n",
       " 3     var8  [62.0,74.0)   8986     0.196609   8334   652  0.072557 -0.646002   \n",
       " 4     var8   [74.0,inf)   2661     0.058221   2537   124  0.046599 -1.116404   \n",
       " \n",
       "      bin_iv  total_iv   breaks  is_special_values  \n",
       " 0  0.048788  0.175511  missing               True  \n",
       " 1  0.008101  0.175511     52.0              False  \n",
       " 2  0.006303  0.175511     62.0              False  \n",
       " 3  0.064421  0.175511     74.0              False  \n",
       " 4  0.047898  0.175511      inf              False  ,\n",
       " 'var3':   variable         bin  count  count_distr   good   bad   badprob       woe  \\\n",
       " 0     var3     missing  30046     0.657390  26200  3846  0.128004 -0.016674   \n",
       " 1     var3  [-inf,1.0)   7187     0.157248   5517  1670  0.232364  0.707042   \n",
       " 2     var3   [1.0,3.0)   3160     0.069139   2944   216  0.068354 -0.710194   \n",
       " 3     var3   [3.0,9.0)   2307     0.050476   2175   132  0.057217 -0.899930   \n",
       " 4     var3   [9.0,inf)   3005     0.065748   2933    72  0.023960 -1.805063   \n",
       " \n",
       "      bin_iv  total_iv   breaks  is_special_values  \n",
       " 0  0.000182  0.268179  missing               True  \n",
       " 1  0.100830  0.268179      1.0              False  \n",
       " 2  0.026731  0.268179      3.0              False  \n",
       " 3  0.029206  0.268179      9.0              False  \n",
       " 4  0.111231  0.268179      inf              False  ,\n",
       " 'var4':   variable         bin  count  count_distr   good   bad   badprob       woe  \\\n",
       " 0     var4     missing  20628     0.451329  18382  2246  0.108881 -0.200169   \n",
       " 1     var4  [-inf,2.0)   2613     0.057171    893  1720  0.658247  2.557545   \n",
       " 2     var4  [2.0,13.0)   3203     0.070080   2473   730  0.227911  0.681909   \n",
       " 3     var4  [13.0,inf)  19261     0.421420  18021  1240  0.064379 -0.774374   \n",
       " \n",
       "      bin_iv  total_iv   breaks  is_special_values  \n",
       " 0  0.016784  0.931018  missing               True  \n",
       " 1  0.683639  0.931018      2.0              False  \n",
       " 2  0.041456  0.931018     13.0              False  \n",
       " 3  0.189139  0.931018      inf              False  ,\n",
       " 'var7':   variable          bin  count  count_distr   good   bad   badprob       woe  \\\n",
       " 0     var7      missing  36191     0.791839  31747  4444  0.122793 -0.064191   \n",
       " 1     var7  [-inf,24.0)   2739     0.059928   2119   620  0.226360  0.673072   \n",
       " 2     var7   [24.0,inf)   6775     0.148233   5903   872  0.128708 -0.010374   \n",
       " \n",
       "      bin_iv  total_iv   breaks  is_special_values  \n",
       " 0  0.003186  0.037639  missing               True  \n",
       " 1  0.034438  0.037639     24.0              False  \n",
       " 2  0.000016  0.037639      inf              False  ,\n",
       " 'var2':   variable                   bin  count  count_distr   good   bad   badprob  \\\n",
       " 0     var2               missing   6379     0.139569   5429   950  0.148926   \n",
       " 1     var2       [-inf,200000.0)  13388     0.292922  10436  2952  0.220496   \n",
       " 2     var2   [200000.0,600000.0)   5676     0.124188   4920   756  0.133192   \n",
       " 3     var2  [600000.0,5600000.0)  13852     0.303074  12812  1040  0.075079   \n",
       " 4     var2       [5600000.0,inf)   6410     0.140247   6172   238  0.037129   \n",
       " \n",
       "         woe    bin_iv  total_iv     breaks  is_special_values  \n",
       " 0  0.159004  0.003741  0.399304    missing               True  \n",
       " 1  0.639274  0.150158  0.399304   200000.0              False  \n",
       " 2  0.029030  0.000106  0.399304   600000.0              False  \n",
       " 3 -0.609109  0.089514  0.399304  5600000.0              False  \n",
       " 4 -1.353455  0.155785  0.399304        inf              False  ,\n",
       " 'var5':   variable         bin  count  count_distr   good   bad   badprob       woe  \\\n",
       " 0     var5     missing  43219     0.945608  37387  5832  0.134941  0.044089   \n",
       " 1     var5  [-inf,inf)   2486     0.054392   2382   104  0.041834 -1.229253   \n",
       " \n",
       "      bin_iv  total_iv   breaks  is_special_values  \n",
       " 0  0.001868  0.053959  missing               True  \n",
       " 1  0.052090  0.053959      inf              False  ,\n",
       " 'var1':   variable         bin  count  count_distr   good   bad   badprob       woe  \\\n",
       " 0     var1     missing   2783     0.060890   2573   210  0.075458 -0.603668   \n",
       " 1     var1  [-inf,2.0)  34403     0.752719  30583  3820  0.111037 -0.178142   \n",
       " 2     var1   [2.0,4.0)   4583     0.100273   3887   696  0.151866  0.182009   \n",
       " 3     var1   [4.0,inf)   3936     0.086117   2726  1210  0.307419  1.089837   \n",
       " \n",
       "      bin_iv  total_iv   breaks  is_special_values  \n",
       " 0  0.017700  0.191055  missing               True  \n",
       " 1  0.022354  0.191055      2.0              False  \n",
       " 2  0.003551  0.191055      4.0              False  \n",
       " 3  0.147450  0.191055      inf              False  }"
      ]
     },
     "execution_count": 20,
     "metadata": {},
     "output_type": "execute_result"
    }
   ],
   "source": [
    "bins\n",
    "#detils of bins"
   ]
  },
  {
   "cell_type": "code",
   "execution_count": 21,
   "id": "d83630e5",
   "metadata": {},
   "outputs": [
    {
     "name": "stdout",
     "output_type": "stream",
     "text": [
      "[INFO] converting into woe values ...\n"
     ]
    },
    {
     "name": "stderr",
     "output_type": "stream",
     "text": [
      "d:\\Users\\ZcarryV\\anaconda3\\lib\\site-packages\\scorecardpy\\condition_fun.py:58: UserWarning: There are duplicated index in dataset. The index has been reseted.\n",
      "  warnings.warn('There are duplicated index in dataset. The index has been reseted.')\n"
     ]
    }
   ],
   "source": [
    "train_woe = sc.woebin_ply(df, bins)\n",
    "\n",
    "# Convert the variable into the corresponding WOE value\n",
    "\n",
    "y_train = train_woe.loc[:,'event']\n",
    "X_train = train_woe.loc[:,train_woe.columns != 'event']\n"
   ]
  },
  {
   "cell_type": "markdown",
   "id": "965fcbde",
   "metadata": {},
   "source": [
    "### Method 2:Fill in empty values with average"
   ]
  },
  {
   "cell_type": "code",
   "execution_count": 66,
   "id": "79773f1b",
   "metadata": {},
   "outputs": [
    {
     "data": {
      "text/html": [
       "<div>\n",
       "<style scoped>\n",
       "    .dataframe tbody tr th:only-of-type {\n",
       "        vertical-align: middle;\n",
       "    }\n",
       "\n",
       "    .dataframe tbody tr th {\n",
       "        vertical-align: top;\n",
       "    }\n",
       "\n",
       "    .dataframe thead th {\n",
       "        text-align: right;\n",
       "    }\n",
       "</style>\n",
       "<table border=\"1\" class=\"dataframe\">\n",
       "  <thead>\n",
       "    <tr style=\"text-align: right;\">\n",
       "      <th></th>\n",
       "      <th>event</th>\n",
       "      <th>var1</th>\n",
       "      <th>var2</th>\n",
       "      <th>var3</th>\n",
       "      <th>var4</th>\n",
       "      <th>var5</th>\n",
       "      <th>var6</th>\n",
       "      <th>var7</th>\n",
       "      <th>var8</th>\n",
       "      <th>split</th>\n",
       "      <th>id</th>\n",
       "    </tr>\n",
       "  </thead>\n",
       "  <tbody>\n",
       "    <tr>\n",
       "      <th>0</th>\n",
       "      <td>1</td>\n",
       "      <td>NaN</td>\n",
       "      <td>NaN</td>\n",
       "      <td>NaN</td>\n",
       "      <td>NaN</td>\n",
       "      <td>NaN</td>\n",
       "      <td>NaN</td>\n",
       "      <td>NaN</td>\n",
       "      <td>NaN</td>\n",
       "      <td>dev</td>\n",
       "      <td>0</td>\n",
       "    </tr>\n",
       "    <tr>\n",
       "      <th>1</th>\n",
       "      <td>1</td>\n",
       "      <td>NaN</td>\n",
       "      <td>NaN</td>\n",
       "      <td>NaN</td>\n",
       "      <td>NaN</td>\n",
       "      <td>NaN</td>\n",
       "      <td>NaN</td>\n",
       "      <td>NaN</td>\n",
       "      <td>NaN</td>\n",
       "      <td>dev</td>\n",
       "      <td>1</td>\n",
       "    </tr>\n",
       "    <tr>\n",
       "      <th>2</th>\n",
       "      <td>1</td>\n",
       "      <td>NaN</td>\n",
       "      <td>NaN</td>\n",
       "      <td>NaN</td>\n",
       "      <td>NaN</td>\n",
       "      <td>NaN</td>\n",
       "      <td>NaN</td>\n",
       "      <td>NaN</td>\n",
       "      <td>NaN</td>\n",
       "      <td>dev</td>\n",
       "      <td>2</td>\n",
       "    </tr>\n",
       "    <tr>\n",
       "      <th>3</th>\n",
       "      <td>1</td>\n",
       "      <td>1.0</td>\n",
       "      <td>2.096510e+07</td>\n",
       "      <td>NaN</td>\n",
       "      <td>NaN</td>\n",
       "      <td>NaN</td>\n",
       "      <td>NaN</td>\n",
       "      <td>NaN</td>\n",
       "      <td>62.75</td>\n",
       "      <td>dev</td>\n",
       "      <td>3</td>\n",
       "    </tr>\n",
       "    <tr>\n",
       "      <th>4</th>\n",
       "      <td>1</td>\n",
       "      <td>NaN</td>\n",
       "      <td>NaN</td>\n",
       "      <td>NaN</td>\n",
       "      <td>NaN</td>\n",
       "      <td>NaN</td>\n",
       "      <td>NaN</td>\n",
       "      <td>NaN</td>\n",
       "      <td>NaN</td>\n",
       "      <td>dev</td>\n",
       "      <td>4</td>\n",
       "    </tr>\n",
       "  </tbody>\n",
       "</table>\n",
       "</div>"
      ],
      "text/plain": [
       "   event  var1          var2  var3  var4  var5  var6  var7   var8 split  id\n",
       "0      1   NaN           NaN   NaN   NaN   NaN   NaN   NaN    NaN   dev   0\n",
       "1      1   NaN           NaN   NaN   NaN   NaN   NaN   NaN    NaN   dev   1\n",
       "2      1   NaN           NaN   NaN   NaN   NaN   NaN   NaN    NaN   dev   2\n",
       "3      1   1.0  2.096510e+07   NaN   NaN   NaN   NaN   NaN  62.75   dev   3\n",
       "4      1   NaN           NaN   NaN   NaN   NaN   NaN   NaN    NaN   dev   4"
      ]
     },
     "execution_count": 66,
     "metadata": {},
     "output_type": "execute_result"
    }
   ],
   "source": [
    "df = pd.read_csv('training.csv')\n",
    "df.head(5)\n",
    "df.drop(columns=['split','id'], inplace=True)\n",
    "# Get rid of two unhelpful variables"
   ]
  },
  {
   "cell_type": "code",
   "execution_count": 67,
   "id": "98417111",
   "metadata": {},
   "outputs": [
    {
     "data": {
      "text/html": [
       "<div>\n",
       "<style scoped>\n",
       "    .dataframe tbody tr th:only-of-type {\n",
       "        vertical-align: middle;\n",
       "    }\n",
       "\n",
       "    .dataframe tbody tr th {\n",
       "        vertical-align: top;\n",
       "    }\n",
       "\n",
       "    .dataframe thead th {\n",
       "        text-align: right;\n",
       "    }\n",
       "</style>\n",
       "<table border=\"1\" class=\"dataframe\">\n",
       "  <thead>\n",
       "    <tr style=\"text-align: right;\">\n",
       "      <th></th>\n",
       "      <th>event</th>\n",
       "      <th>var1</th>\n",
       "      <th>var2</th>\n",
       "      <th>var3</th>\n",
       "      <th>var4</th>\n",
       "      <th>var5</th>\n",
       "      <th>var6</th>\n",
       "      <th>var7</th>\n",
       "      <th>var8</th>\n",
       "    </tr>\n",
       "  </thead>\n",
       "  <tbody>\n",
       "    <tr>\n",
       "      <th>0</th>\n",
       "      <td>1</td>\n",
       "      <td>1.873951</td>\n",
       "      <td>5.989773e+06</td>\n",
       "      <td>16.772031</td>\n",
       "      <td>11.586977</td>\n",
       "      <td>289.199746</td>\n",
       "      <td>28.430493</td>\n",
       "      <td>20.646794</td>\n",
       "      <td>58.497153</td>\n",
       "    </tr>\n",
       "    <tr>\n",
       "      <th>1</th>\n",
       "      <td>1</td>\n",
       "      <td>1.873951</td>\n",
       "      <td>5.989773e+06</td>\n",
       "      <td>16.772031</td>\n",
       "      <td>11.586977</td>\n",
       "      <td>289.199746</td>\n",
       "      <td>28.430493</td>\n",
       "      <td>20.646794</td>\n",
       "      <td>58.497153</td>\n",
       "    </tr>\n",
       "    <tr>\n",
       "      <th>2</th>\n",
       "      <td>1</td>\n",
       "      <td>1.873951</td>\n",
       "      <td>5.989773e+06</td>\n",
       "      <td>16.772031</td>\n",
       "      <td>11.586977</td>\n",
       "      <td>289.199746</td>\n",
       "      <td>28.430493</td>\n",
       "      <td>20.646794</td>\n",
       "      <td>58.497153</td>\n",
       "    </tr>\n",
       "    <tr>\n",
       "      <th>3</th>\n",
       "      <td>1</td>\n",
       "      <td>1.000000</td>\n",
       "      <td>2.096510e+07</td>\n",
       "      <td>16.772031</td>\n",
       "      <td>11.586977</td>\n",
       "      <td>289.199746</td>\n",
       "      <td>28.430493</td>\n",
       "      <td>20.646794</td>\n",
       "      <td>62.750000</td>\n",
       "    </tr>\n",
       "    <tr>\n",
       "      <th>4</th>\n",
       "      <td>1</td>\n",
       "      <td>1.873951</td>\n",
       "      <td>5.989773e+06</td>\n",
       "      <td>16.772031</td>\n",
       "      <td>11.586977</td>\n",
       "      <td>289.199746</td>\n",
       "      <td>28.430493</td>\n",
       "      <td>20.646794</td>\n",
       "      <td>58.497153</td>\n",
       "    </tr>\n",
       "    <tr>\n",
       "      <th>...</th>\n",
       "      <td>...</td>\n",
       "      <td>...</td>\n",
       "      <td>...</td>\n",
       "      <td>...</td>\n",
       "      <td>...</td>\n",
       "      <td>...</td>\n",
       "      <td>...</td>\n",
       "      <td>...</td>\n",
       "      <td>...</td>\n",
       "    </tr>\n",
       "    <tr>\n",
       "      <th>238831</th>\n",
       "      <td>1</td>\n",
       "      <td>1.000000</td>\n",
       "      <td>6.523118e+04</td>\n",
       "      <td>16.772031</td>\n",
       "      <td>11.586977</td>\n",
       "      <td>289.199746</td>\n",
       "      <td>28.430493</td>\n",
       "      <td>20.646794</td>\n",
       "      <td>58.916667</td>\n",
       "    </tr>\n",
       "    <tr>\n",
       "      <th>238832</th>\n",
       "      <td>1</td>\n",
       "      <td>1.000000</td>\n",
       "      <td>5.989773e+06</td>\n",
       "      <td>16.772031</td>\n",
       "      <td>11.586977</td>\n",
       "      <td>289.199746</td>\n",
       "      <td>28.430493</td>\n",
       "      <td>20.646794</td>\n",
       "      <td>58.497153</td>\n",
       "    </tr>\n",
       "    <tr>\n",
       "      <th>238833</th>\n",
       "      <td>1</td>\n",
       "      <td>1.873951</td>\n",
       "      <td>5.989773e+06</td>\n",
       "      <td>16.772031</td>\n",
       "      <td>11.586977</td>\n",
       "      <td>289.199746</td>\n",
       "      <td>28.430493</td>\n",
       "      <td>20.646794</td>\n",
       "      <td>58.497153</td>\n",
       "    </tr>\n",
       "    <tr>\n",
       "      <th>238834</th>\n",
       "      <td>1</td>\n",
       "      <td>1.000000</td>\n",
       "      <td>8.880325e+05</td>\n",
       "      <td>3.213000</td>\n",
       "      <td>13.000000</td>\n",
       "      <td>289.199746</td>\n",
       "      <td>28.430493</td>\n",
       "      <td>20.646794</td>\n",
       "      <td>63.958333</td>\n",
       "    </tr>\n",
       "    <tr>\n",
       "      <th>238835</th>\n",
       "      <td>1</td>\n",
       "      <td>1.873951</td>\n",
       "      <td>5.989773e+06</td>\n",
       "      <td>16.772031</td>\n",
       "      <td>11.586977</td>\n",
       "      <td>289.199746</td>\n",
       "      <td>28.430493</td>\n",
       "      <td>20.646794</td>\n",
       "      <td>58.497153</td>\n",
       "    </tr>\n",
       "  </tbody>\n",
       "</table>\n",
       "<p>238836 rows × 9 columns</p>\n",
       "</div>"
      ],
      "text/plain": [
       "        event      var1          var2       var3       var4        var5  \\\n",
       "0           1  1.873951  5.989773e+06  16.772031  11.586977  289.199746   \n",
       "1           1  1.873951  5.989773e+06  16.772031  11.586977  289.199746   \n",
       "2           1  1.873951  5.989773e+06  16.772031  11.586977  289.199746   \n",
       "3           1  1.000000  2.096510e+07  16.772031  11.586977  289.199746   \n",
       "4           1  1.873951  5.989773e+06  16.772031  11.586977  289.199746   \n",
       "...       ...       ...           ...        ...        ...         ...   \n",
       "238831      1  1.000000  6.523118e+04  16.772031  11.586977  289.199746   \n",
       "238832      1  1.000000  5.989773e+06  16.772031  11.586977  289.199746   \n",
       "238833      1  1.873951  5.989773e+06  16.772031  11.586977  289.199746   \n",
       "238834      1  1.000000  8.880325e+05   3.213000  13.000000  289.199746   \n",
       "238835      1  1.873951  5.989773e+06  16.772031  11.586977  289.199746   \n",
       "\n",
       "             var6       var7       var8  \n",
       "0       28.430493  20.646794  58.497153  \n",
       "1       28.430493  20.646794  58.497153  \n",
       "2       28.430493  20.646794  58.497153  \n",
       "3       28.430493  20.646794  62.750000  \n",
       "4       28.430493  20.646794  58.497153  \n",
       "...           ...        ...        ...  \n",
       "238831  28.430493  20.646794  58.916667  \n",
       "238832  28.430493  20.646794  58.497153  \n",
       "238833  28.430493  20.646794  58.497153  \n",
       "238834  28.430493  20.646794  63.958333  \n",
       "238835  28.430493  20.646794  58.497153  \n",
       "\n",
       "[238836 rows x 9 columns]"
      ]
     },
     "execution_count": 67,
     "metadata": {},
     "output_type": "execute_result"
    }
   ],
   "source": [
    "#fill all null value and show the dataset\n",
    "df=df.fillna(df.mean())\n",
    "df"
   ]
  },
  {
   "cell_type": "markdown",
   "id": "8aca9d60",
   "metadata": {},
   "source": [
    "### Method 3:Fill in empty values with median"
   ]
  },
  {
   "cell_type": "code",
   "execution_count": 68,
   "id": "d543811b",
   "metadata": {},
   "outputs": [
    {
     "data": {
      "text/html": [
       "<div>\n",
       "<style scoped>\n",
       "    .dataframe tbody tr th:only-of-type {\n",
       "        vertical-align: middle;\n",
       "    }\n",
       "\n",
       "    .dataframe tbody tr th {\n",
       "        vertical-align: top;\n",
       "    }\n",
       "\n",
       "    .dataframe thead th {\n",
       "        text-align: right;\n",
       "    }\n",
       "</style>\n",
       "<table border=\"1\" class=\"dataframe\">\n",
       "  <thead>\n",
       "    <tr style=\"text-align: right;\">\n",
       "      <th></th>\n",
       "      <th>event</th>\n",
       "      <th>var1</th>\n",
       "      <th>var2</th>\n",
       "      <th>var3</th>\n",
       "      <th>var4</th>\n",
       "      <th>var5</th>\n",
       "      <th>var6</th>\n",
       "      <th>var7</th>\n",
       "      <th>var8</th>\n",
       "      <th>split</th>\n",
       "      <th>id</th>\n",
       "    </tr>\n",
       "  </thead>\n",
       "  <tbody>\n",
       "    <tr>\n",
       "      <th>0</th>\n",
       "      <td>1</td>\n",
       "      <td>NaN</td>\n",
       "      <td>NaN</td>\n",
       "      <td>NaN</td>\n",
       "      <td>NaN</td>\n",
       "      <td>NaN</td>\n",
       "      <td>NaN</td>\n",
       "      <td>NaN</td>\n",
       "      <td>NaN</td>\n",
       "      <td>dev</td>\n",
       "      <td>0</td>\n",
       "    </tr>\n",
       "    <tr>\n",
       "      <th>1</th>\n",
       "      <td>1</td>\n",
       "      <td>NaN</td>\n",
       "      <td>NaN</td>\n",
       "      <td>NaN</td>\n",
       "      <td>NaN</td>\n",
       "      <td>NaN</td>\n",
       "      <td>NaN</td>\n",
       "      <td>NaN</td>\n",
       "      <td>NaN</td>\n",
       "      <td>dev</td>\n",
       "      <td>1</td>\n",
       "    </tr>\n",
       "    <tr>\n",
       "      <th>2</th>\n",
       "      <td>1</td>\n",
       "      <td>NaN</td>\n",
       "      <td>NaN</td>\n",
       "      <td>NaN</td>\n",
       "      <td>NaN</td>\n",
       "      <td>NaN</td>\n",
       "      <td>NaN</td>\n",
       "      <td>NaN</td>\n",
       "      <td>NaN</td>\n",
       "      <td>dev</td>\n",
       "      <td>2</td>\n",
       "    </tr>\n",
       "    <tr>\n",
       "      <th>3</th>\n",
       "      <td>1</td>\n",
       "      <td>1.0</td>\n",
       "      <td>2.096510e+07</td>\n",
       "      <td>NaN</td>\n",
       "      <td>NaN</td>\n",
       "      <td>NaN</td>\n",
       "      <td>NaN</td>\n",
       "      <td>NaN</td>\n",
       "      <td>62.75</td>\n",
       "      <td>dev</td>\n",
       "      <td>3</td>\n",
       "    </tr>\n",
       "    <tr>\n",
       "      <th>4</th>\n",
       "      <td>1</td>\n",
       "      <td>NaN</td>\n",
       "      <td>NaN</td>\n",
       "      <td>NaN</td>\n",
       "      <td>NaN</td>\n",
       "      <td>NaN</td>\n",
       "      <td>NaN</td>\n",
       "      <td>NaN</td>\n",
       "      <td>NaN</td>\n",
       "      <td>dev</td>\n",
       "      <td>4</td>\n",
       "    </tr>\n",
       "  </tbody>\n",
       "</table>\n",
       "</div>"
      ],
      "text/plain": [
       "   event  var1          var2  var3  var4  var5  var6  var7   var8 split  id\n",
       "0      1   NaN           NaN   NaN   NaN   NaN   NaN   NaN    NaN   dev   0\n",
       "1      1   NaN           NaN   NaN   NaN   NaN   NaN   NaN    NaN   dev   1\n",
       "2      1   NaN           NaN   NaN   NaN   NaN   NaN   NaN    NaN   dev   2\n",
       "3      1   1.0  2.096510e+07   NaN   NaN   NaN   NaN   NaN  62.75   dev   3\n",
       "4      1   NaN           NaN   NaN   NaN   NaN   NaN   NaN    NaN   dev   4"
      ]
     },
     "execution_count": 68,
     "metadata": {},
     "output_type": "execute_result"
    }
   ],
   "source": [
    "df = pd.read_csv('training.csv')\n",
    "df.head(5)\n",
    "df.drop(columns=['split','id'], inplace=True)\n",
    "# Get rid of two unhelpful variables"
   ]
  },
  {
   "cell_type": "code",
   "execution_count": 69,
   "id": "50444858",
   "metadata": {},
   "outputs": [
    {
     "data": {
      "text/html": [
       "<div>\n",
       "<style scoped>\n",
       "    .dataframe tbody tr th:only-of-type {\n",
       "        vertical-align: middle;\n",
       "    }\n",
       "\n",
       "    .dataframe tbody tr th {\n",
       "        vertical-align: top;\n",
       "    }\n",
       "\n",
       "    .dataframe thead th {\n",
       "        text-align: right;\n",
       "    }\n",
       "</style>\n",
       "<table border=\"1\" class=\"dataframe\">\n",
       "  <thead>\n",
       "    <tr style=\"text-align: right;\">\n",
       "      <th></th>\n",
       "      <th>event</th>\n",
       "      <th>var1</th>\n",
       "      <th>var2</th>\n",
       "      <th>var3</th>\n",
       "      <th>var4</th>\n",
       "      <th>var5</th>\n",
       "      <th>var6</th>\n",
       "      <th>var7</th>\n",
       "      <th>var8</th>\n",
       "    </tr>\n",
       "  </thead>\n",
       "  <tbody>\n",
       "    <tr>\n",
       "      <th>0</th>\n",
       "      <td>1</td>\n",
       "      <td>1.0</td>\n",
       "      <td>8.042291e+05</td>\n",
       "      <td>1.509004</td>\n",
       "      <td>13.0</td>\n",
       "      <td>8.1052</td>\n",
       "      <td>0.296218</td>\n",
       "      <td>24.0</td>\n",
       "      <td>58.666667</td>\n",
       "    </tr>\n",
       "    <tr>\n",
       "      <th>1</th>\n",
       "      <td>1</td>\n",
       "      <td>1.0</td>\n",
       "      <td>8.042291e+05</td>\n",
       "      <td>1.509004</td>\n",
       "      <td>13.0</td>\n",
       "      <td>8.1052</td>\n",
       "      <td>0.296218</td>\n",
       "      <td>24.0</td>\n",
       "      <td>58.666667</td>\n",
       "    </tr>\n",
       "    <tr>\n",
       "      <th>2</th>\n",
       "      <td>1</td>\n",
       "      <td>1.0</td>\n",
       "      <td>8.042291e+05</td>\n",
       "      <td>1.509004</td>\n",
       "      <td>13.0</td>\n",
       "      <td>8.1052</td>\n",
       "      <td>0.296218</td>\n",
       "      <td>24.0</td>\n",
       "      <td>58.666667</td>\n",
       "    </tr>\n",
       "    <tr>\n",
       "      <th>3</th>\n",
       "      <td>1</td>\n",
       "      <td>1.0</td>\n",
       "      <td>2.096510e+07</td>\n",
       "      <td>1.509004</td>\n",
       "      <td>13.0</td>\n",
       "      <td>8.1052</td>\n",
       "      <td>0.296218</td>\n",
       "      <td>24.0</td>\n",
       "      <td>62.750000</td>\n",
       "    </tr>\n",
       "    <tr>\n",
       "      <th>4</th>\n",
       "      <td>1</td>\n",
       "      <td>1.0</td>\n",
       "      <td>8.042291e+05</td>\n",
       "      <td>1.509004</td>\n",
       "      <td>13.0</td>\n",
       "      <td>8.1052</td>\n",
       "      <td>0.296218</td>\n",
       "      <td>24.0</td>\n",
       "      <td>58.666667</td>\n",
       "    </tr>\n",
       "    <tr>\n",
       "      <th>...</th>\n",
       "      <td>...</td>\n",
       "      <td>...</td>\n",
       "      <td>...</td>\n",
       "      <td>...</td>\n",
       "      <td>...</td>\n",
       "      <td>...</td>\n",
       "      <td>...</td>\n",
       "      <td>...</td>\n",
       "      <td>...</td>\n",
       "    </tr>\n",
       "    <tr>\n",
       "      <th>238831</th>\n",
       "      <td>1</td>\n",
       "      <td>1.0</td>\n",
       "      <td>6.523118e+04</td>\n",
       "      <td>1.509004</td>\n",
       "      <td>13.0</td>\n",
       "      <td>8.1052</td>\n",
       "      <td>0.296218</td>\n",
       "      <td>24.0</td>\n",
       "      <td>58.916667</td>\n",
       "    </tr>\n",
       "    <tr>\n",
       "      <th>238832</th>\n",
       "      <td>1</td>\n",
       "      <td>1.0</td>\n",
       "      <td>8.042291e+05</td>\n",
       "      <td>1.509004</td>\n",
       "      <td>13.0</td>\n",
       "      <td>8.1052</td>\n",
       "      <td>0.296218</td>\n",
       "      <td>24.0</td>\n",
       "      <td>58.666667</td>\n",
       "    </tr>\n",
       "    <tr>\n",
       "      <th>238833</th>\n",
       "      <td>1</td>\n",
       "      <td>1.0</td>\n",
       "      <td>8.042291e+05</td>\n",
       "      <td>1.509004</td>\n",
       "      <td>13.0</td>\n",
       "      <td>8.1052</td>\n",
       "      <td>0.296218</td>\n",
       "      <td>24.0</td>\n",
       "      <td>58.666667</td>\n",
       "    </tr>\n",
       "    <tr>\n",
       "      <th>238834</th>\n",
       "      <td>1</td>\n",
       "      <td>1.0</td>\n",
       "      <td>8.880325e+05</td>\n",
       "      <td>3.213000</td>\n",
       "      <td>13.0</td>\n",
       "      <td>8.1052</td>\n",
       "      <td>0.296218</td>\n",
       "      <td>24.0</td>\n",
       "      <td>63.958333</td>\n",
       "    </tr>\n",
       "    <tr>\n",
       "      <th>238835</th>\n",
       "      <td>1</td>\n",
       "      <td>1.0</td>\n",
       "      <td>8.042291e+05</td>\n",
       "      <td>1.509004</td>\n",
       "      <td>13.0</td>\n",
       "      <td>8.1052</td>\n",
       "      <td>0.296218</td>\n",
       "      <td>24.0</td>\n",
       "      <td>58.666667</td>\n",
       "    </tr>\n",
       "  </tbody>\n",
       "</table>\n",
       "<p>238836 rows × 9 columns</p>\n",
       "</div>"
      ],
      "text/plain": [
       "        event  var1          var2      var3  var4    var5      var6  var7  \\\n",
       "0           1   1.0  8.042291e+05  1.509004  13.0  8.1052  0.296218  24.0   \n",
       "1           1   1.0  8.042291e+05  1.509004  13.0  8.1052  0.296218  24.0   \n",
       "2           1   1.0  8.042291e+05  1.509004  13.0  8.1052  0.296218  24.0   \n",
       "3           1   1.0  2.096510e+07  1.509004  13.0  8.1052  0.296218  24.0   \n",
       "4           1   1.0  8.042291e+05  1.509004  13.0  8.1052  0.296218  24.0   \n",
       "...       ...   ...           ...       ...   ...     ...       ...   ...   \n",
       "238831      1   1.0  6.523118e+04  1.509004  13.0  8.1052  0.296218  24.0   \n",
       "238832      1   1.0  8.042291e+05  1.509004  13.0  8.1052  0.296218  24.0   \n",
       "238833      1   1.0  8.042291e+05  1.509004  13.0  8.1052  0.296218  24.0   \n",
       "238834      1   1.0  8.880325e+05  3.213000  13.0  8.1052  0.296218  24.0   \n",
       "238835      1   1.0  8.042291e+05  1.509004  13.0  8.1052  0.296218  24.0   \n",
       "\n",
       "             var8  \n",
       "0       58.666667  \n",
       "1       58.666667  \n",
       "2       58.666667  \n",
       "3       62.750000  \n",
       "4       58.666667  \n",
       "...           ...  \n",
       "238831  58.916667  \n",
       "238832  58.666667  \n",
       "238833  58.666667  \n",
       "238834  63.958333  \n",
       "238835  58.666667  \n",
       "\n",
       "[238836 rows x 9 columns]"
      ]
     },
     "execution_count": 69,
     "metadata": {},
     "output_type": "execute_result"
    }
   ],
   "source": [
    "#fill all null value and show the dataset\n",
    "df=df.fillna(df.median())\n",
    "df"
   ]
  },
  {
   "cell_type": "markdown",
   "id": "1ce7f3d2",
   "metadata": {},
   "source": [
    "### Method 4:Fill in empty values with mode"
   ]
  },
  {
   "cell_type": "code",
   "execution_count": 104,
   "id": "1a3068fd",
   "metadata": {},
   "outputs": [
    {
     "data": {
      "text/html": [
       "<div>\n",
       "<style scoped>\n",
       "    .dataframe tbody tr th:only-of-type {\n",
       "        vertical-align: middle;\n",
       "    }\n",
       "\n",
       "    .dataframe tbody tr th {\n",
       "        vertical-align: top;\n",
       "    }\n",
       "\n",
       "    .dataframe thead th {\n",
       "        text-align: right;\n",
       "    }\n",
       "</style>\n",
       "<table border=\"1\" class=\"dataframe\">\n",
       "  <thead>\n",
       "    <tr style=\"text-align: right;\">\n",
       "      <th></th>\n",
       "      <th>event</th>\n",
       "      <th>var1</th>\n",
       "      <th>var2</th>\n",
       "      <th>var3</th>\n",
       "      <th>var4</th>\n",
       "      <th>var5</th>\n",
       "      <th>var6</th>\n",
       "      <th>var7</th>\n",
       "      <th>var8</th>\n",
       "      <th>split</th>\n",
       "      <th>id</th>\n",
       "    </tr>\n",
       "  </thead>\n",
       "  <tbody>\n",
       "    <tr>\n",
       "      <th>0</th>\n",
       "      <td>1</td>\n",
       "      <td>NaN</td>\n",
       "      <td>NaN</td>\n",
       "      <td>NaN</td>\n",
       "      <td>NaN</td>\n",
       "      <td>NaN</td>\n",
       "      <td>NaN</td>\n",
       "      <td>NaN</td>\n",
       "      <td>NaN</td>\n",
       "      <td>dev</td>\n",
       "      <td>0</td>\n",
       "    </tr>\n",
       "    <tr>\n",
       "      <th>1</th>\n",
       "      <td>1</td>\n",
       "      <td>NaN</td>\n",
       "      <td>NaN</td>\n",
       "      <td>NaN</td>\n",
       "      <td>NaN</td>\n",
       "      <td>NaN</td>\n",
       "      <td>NaN</td>\n",
       "      <td>NaN</td>\n",
       "      <td>NaN</td>\n",
       "      <td>dev</td>\n",
       "      <td>1</td>\n",
       "    </tr>\n",
       "    <tr>\n",
       "      <th>2</th>\n",
       "      <td>1</td>\n",
       "      <td>NaN</td>\n",
       "      <td>NaN</td>\n",
       "      <td>NaN</td>\n",
       "      <td>NaN</td>\n",
       "      <td>NaN</td>\n",
       "      <td>NaN</td>\n",
       "      <td>NaN</td>\n",
       "      <td>NaN</td>\n",
       "      <td>dev</td>\n",
       "      <td>2</td>\n",
       "    </tr>\n",
       "    <tr>\n",
       "      <th>3</th>\n",
       "      <td>1</td>\n",
       "      <td>1.0</td>\n",
       "      <td>2.096510e+07</td>\n",
       "      <td>NaN</td>\n",
       "      <td>NaN</td>\n",
       "      <td>NaN</td>\n",
       "      <td>NaN</td>\n",
       "      <td>NaN</td>\n",
       "      <td>62.75</td>\n",
       "      <td>dev</td>\n",
       "      <td>3</td>\n",
       "    </tr>\n",
       "    <tr>\n",
       "      <th>4</th>\n",
       "      <td>1</td>\n",
       "      <td>NaN</td>\n",
       "      <td>NaN</td>\n",
       "      <td>NaN</td>\n",
       "      <td>NaN</td>\n",
       "      <td>NaN</td>\n",
       "      <td>NaN</td>\n",
       "      <td>NaN</td>\n",
       "      <td>NaN</td>\n",
       "      <td>dev</td>\n",
       "      <td>4</td>\n",
       "    </tr>\n",
       "  </tbody>\n",
       "</table>\n",
       "</div>"
      ],
      "text/plain": [
       "   event  var1          var2  var3  var4  var5  var6  var7   var8 split  id\n",
       "0      1   NaN           NaN   NaN   NaN   NaN   NaN   NaN    NaN   dev   0\n",
       "1      1   NaN           NaN   NaN   NaN   NaN   NaN   NaN    NaN   dev   1\n",
       "2      1   NaN           NaN   NaN   NaN   NaN   NaN   NaN    NaN   dev   2\n",
       "3      1   1.0  2.096510e+07   NaN   NaN   NaN   NaN   NaN  62.75   dev   3\n",
       "4      1   NaN           NaN   NaN   NaN   NaN   NaN   NaN    NaN   dev   4"
      ]
     },
     "execution_count": 104,
     "metadata": {},
     "output_type": "execute_result"
    }
   ],
   "source": [
    "df = pd.read_csv('training.csv')\n",
    "df.head(5)\n",
    "df.drop(columns=['split','id'], inplace=True)\n",
    "# Get rid of two unhelpful variables"
   ]
  },
  {
   "cell_type": "code",
   "execution_count": 106,
   "id": "dab8d183",
   "metadata": {},
   "outputs": [
    {
     "data": {
      "text/html": [
       "<div>\n",
       "<style scoped>\n",
       "    .dataframe tbody tr th:only-of-type {\n",
       "        vertical-align: middle;\n",
       "    }\n",
       "\n",
       "    .dataframe tbody tr th {\n",
       "        vertical-align: top;\n",
       "    }\n",
       "\n",
       "    .dataframe thead th {\n",
       "        text-align: right;\n",
       "    }\n",
       "</style>\n",
       "<table border=\"1\" class=\"dataframe\">\n",
       "  <thead>\n",
       "    <tr style=\"text-align: right;\">\n",
       "      <th></th>\n",
       "      <th>event</th>\n",
       "      <th>var1</th>\n",
       "      <th>var2</th>\n",
       "      <th>var3</th>\n",
       "      <th>var4</th>\n",
       "      <th>var5</th>\n",
       "      <th>var6</th>\n",
       "      <th>var8</th>\n",
       "    </tr>\n",
       "  </thead>\n",
       "  <tbody>\n",
       "    <tr>\n",
       "      <th>74</th>\n",
       "      <td>1</td>\n",
       "      <td>1.0</td>\n",
       "      <td>6.613558e+05</td>\n",
       "      <td>0.152680</td>\n",
       "      <td>13.0</td>\n",
       "      <td>9.082821</td>\n",
       "      <td>1.328204</td>\n",
       "      <td>41.500000</td>\n",
       "    </tr>\n",
       "    <tr>\n",
       "      <th>583</th>\n",
       "      <td>1</td>\n",
       "      <td>5.0</td>\n",
       "      <td>7.941561e+06</td>\n",
       "      <td>0.035305</td>\n",
       "      <td>13.0</td>\n",
       "      <td>3.870215</td>\n",
       "      <td>0.031024</td>\n",
       "      <td>52.416667</td>\n",
       "    </tr>\n",
       "    <tr>\n",
       "      <th>830</th>\n",
       "      <td>1</td>\n",
       "      <td>1.0</td>\n",
       "      <td>4.861405e+05</td>\n",
       "      <td>0.312546</td>\n",
       "      <td>13.0</td>\n",
       "      <td>1106.211765</td>\n",
       "      <td>0.136506</td>\n",
       "      <td>67.583333</td>\n",
       "    </tr>\n",
       "    <tr>\n",
       "      <th>1117</th>\n",
       "      <td>1</td>\n",
       "      <td>1.0</td>\n",
       "      <td>4.492599e+06</td>\n",
       "      <td>0.255175</td>\n",
       "      <td>13.0</td>\n",
       "      <td>337.559804</td>\n",
       "      <td>-0.071065</td>\n",
       "      <td>76.000000</td>\n",
       "    </tr>\n",
       "    <tr>\n",
       "      <th>1218</th>\n",
       "      <td>1</td>\n",
       "      <td>1.0</td>\n",
       "      <td>1.036874e+05</td>\n",
       "      <td>0.131360</td>\n",
       "      <td>13.0</td>\n",
       "      <td>21.699236</td>\n",
       "      <td>3.557547</td>\n",
       "      <td>37.291667</td>\n",
       "    </tr>\n",
       "    <tr>\n",
       "      <th>...</th>\n",
       "      <td>...</td>\n",
       "      <td>...</td>\n",
       "      <td>...</td>\n",
       "      <td>...</td>\n",
       "      <td>...</td>\n",
       "      <td>...</td>\n",
       "      <td>...</td>\n",
       "      <td>...</td>\n",
       "    </tr>\n",
       "    <tr>\n",
       "      <th>238700</th>\n",
       "      <td>1</td>\n",
       "      <td>1.0</td>\n",
       "      <td>1.949792e+05</td>\n",
       "      <td>0.007406</td>\n",
       "      <td>13.0</td>\n",
       "      <td>129.572414</td>\n",
       "      <td>-1.924282</td>\n",
       "      <td>63.208333</td>\n",
       "    </tr>\n",
       "    <tr>\n",
       "      <th>238730</th>\n",
       "      <td>1</td>\n",
       "      <td>1.0</td>\n",
       "      <td>1.770839e+05</td>\n",
       "      <td>0.000799</td>\n",
       "      <td>13.0</td>\n",
       "      <td>1917.850000</td>\n",
       "      <td>3.303107</td>\n",
       "      <td>70.125000</td>\n",
       "    </tr>\n",
       "    <tr>\n",
       "      <th>238742</th>\n",
       "      <td>1</td>\n",
       "      <td>1.0</td>\n",
       "      <td>2.548475e+06</td>\n",
       "      <td>0.659666</td>\n",
       "      <td>13.0</td>\n",
       "      <td>2.141300</td>\n",
       "      <td>0.005080</td>\n",
       "      <td>59.895833</td>\n",
       "    </tr>\n",
       "    <tr>\n",
       "      <th>238751</th>\n",
       "      <td>1</td>\n",
       "      <td>1.0</td>\n",
       "      <td>1.850347e+06</td>\n",
       "      <td>0.286215</td>\n",
       "      <td>13.0</td>\n",
       "      <td>1.015538</td>\n",
       "      <td>0.771867</td>\n",
       "      <td>65.875000</td>\n",
       "    </tr>\n",
       "    <tr>\n",
       "      <th>238805</th>\n",
       "      <td>1</td>\n",
       "      <td>1.0</td>\n",
       "      <td>2.005662e+07</td>\n",
       "      <td>6.242316</td>\n",
       "      <td>13.0</td>\n",
       "      <td>3.730723</td>\n",
       "      <td>0.103969</td>\n",
       "      <td>49.750000</td>\n",
       "    </tr>\n",
       "  </tbody>\n",
       "</table>\n",
       "<p>2172 rows × 8 columns</p>\n",
       "</div>"
      ],
      "text/plain": [
       "        event  var1          var2      var3  var4         var5      var6  \\\n",
       "74          1   1.0  6.613558e+05  0.152680  13.0     9.082821  1.328204   \n",
       "583         1   5.0  7.941561e+06  0.035305  13.0     3.870215  0.031024   \n",
       "830         1   1.0  4.861405e+05  0.312546  13.0  1106.211765  0.136506   \n",
       "1117        1   1.0  4.492599e+06  0.255175  13.0   337.559804 -0.071065   \n",
       "1218        1   1.0  1.036874e+05  0.131360  13.0    21.699236  3.557547   \n",
       "...       ...   ...           ...       ...   ...          ...       ...   \n",
       "238700      1   1.0  1.949792e+05  0.007406  13.0   129.572414 -1.924282   \n",
       "238730      1   1.0  1.770839e+05  0.000799  13.0  1917.850000  3.303107   \n",
       "238742      1   1.0  2.548475e+06  0.659666  13.0     2.141300  0.005080   \n",
       "238751      1   1.0  1.850347e+06  0.286215  13.0     1.015538  0.771867   \n",
       "238805      1   1.0  2.005662e+07  6.242316  13.0     3.730723  0.103969   \n",
       "\n",
       "             var8  \n",
       "74      41.500000  \n",
       "583     52.416667  \n",
       "830     67.583333  \n",
       "1117    76.000000  \n",
       "1218    37.291667  \n",
       "...           ...  \n",
       "238700  63.208333  \n",
       "238730  70.125000  \n",
       "238742  59.895833  \n",
       "238751  65.875000  \n",
       "238805  49.750000  \n",
       "\n",
       "[2172 rows x 8 columns]"
      ]
     },
     "execution_count": 106,
     "metadata": {},
     "output_type": "execute_result"
    }
   ],
   "source": [
    "#fill all null value and show the dataset\n",
    "df=df.dropna(axis=1, how='any', thresh=1000, subset=None, inplace=False)\n",
    "df=df.fillna(df.mode())\n",
    "df"
   ]
  },
  {
   "cell_type": "markdown",
   "id": "b8d8ebbc",
   "metadata": {},
   "source": [
    "### Method 5:Regression imputation"
   ]
  },
  {
   "cell_type": "code",
   "execution_count": 107,
   "id": "d7f33675",
   "metadata": {},
   "outputs": [
    {
     "data": {
      "text/html": [
       "<div>\n",
       "<style scoped>\n",
       "    .dataframe tbody tr th:only-of-type {\n",
       "        vertical-align: middle;\n",
       "    }\n",
       "\n",
       "    .dataframe tbody tr th {\n",
       "        vertical-align: top;\n",
       "    }\n",
       "\n",
       "    .dataframe thead th {\n",
       "        text-align: right;\n",
       "    }\n",
       "</style>\n",
       "<table border=\"1\" class=\"dataframe\">\n",
       "  <thead>\n",
       "    <tr style=\"text-align: right;\">\n",
       "      <th></th>\n",
       "      <th>event</th>\n",
       "      <th>var1</th>\n",
       "      <th>var2</th>\n",
       "      <th>var3</th>\n",
       "      <th>var4</th>\n",
       "      <th>var5</th>\n",
       "      <th>var6</th>\n",
       "      <th>var7</th>\n",
       "      <th>var8</th>\n",
       "      <th>split</th>\n",
       "      <th>id</th>\n",
       "    </tr>\n",
       "  </thead>\n",
       "  <tbody>\n",
       "    <tr>\n",
       "      <th>0</th>\n",
       "      <td>1</td>\n",
       "      <td>NaN</td>\n",
       "      <td>NaN</td>\n",
       "      <td>NaN</td>\n",
       "      <td>NaN</td>\n",
       "      <td>NaN</td>\n",
       "      <td>NaN</td>\n",
       "      <td>NaN</td>\n",
       "      <td>NaN</td>\n",
       "      <td>dev</td>\n",
       "      <td>0</td>\n",
       "    </tr>\n",
       "    <tr>\n",
       "      <th>1</th>\n",
       "      <td>1</td>\n",
       "      <td>NaN</td>\n",
       "      <td>NaN</td>\n",
       "      <td>NaN</td>\n",
       "      <td>NaN</td>\n",
       "      <td>NaN</td>\n",
       "      <td>NaN</td>\n",
       "      <td>NaN</td>\n",
       "      <td>NaN</td>\n",
       "      <td>dev</td>\n",
       "      <td>1</td>\n",
       "    </tr>\n",
       "    <tr>\n",
       "      <th>2</th>\n",
       "      <td>1</td>\n",
       "      <td>NaN</td>\n",
       "      <td>NaN</td>\n",
       "      <td>NaN</td>\n",
       "      <td>NaN</td>\n",
       "      <td>NaN</td>\n",
       "      <td>NaN</td>\n",
       "      <td>NaN</td>\n",
       "      <td>NaN</td>\n",
       "      <td>dev</td>\n",
       "      <td>2</td>\n",
       "    </tr>\n",
       "    <tr>\n",
       "      <th>3</th>\n",
       "      <td>1</td>\n",
       "      <td>1.0</td>\n",
       "      <td>2.096510e+07</td>\n",
       "      <td>NaN</td>\n",
       "      <td>NaN</td>\n",
       "      <td>NaN</td>\n",
       "      <td>NaN</td>\n",
       "      <td>NaN</td>\n",
       "      <td>62.75</td>\n",
       "      <td>dev</td>\n",
       "      <td>3</td>\n",
       "    </tr>\n",
       "    <tr>\n",
       "      <th>4</th>\n",
       "      <td>1</td>\n",
       "      <td>NaN</td>\n",
       "      <td>NaN</td>\n",
       "      <td>NaN</td>\n",
       "      <td>NaN</td>\n",
       "      <td>NaN</td>\n",
       "      <td>NaN</td>\n",
       "      <td>NaN</td>\n",
       "      <td>NaN</td>\n",
       "      <td>dev</td>\n",
       "      <td>4</td>\n",
       "    </tr>\n",
       "  </tbody>\n",
       "</table>\n",
       "</div>"
      ],
      "text/plain": [
       "   event  var1          var2  var3  var4  var5  var6  var7   var8 split  id\n",
       "0      1   NaN           NaN   NaN   NaN   NaN   NaN   NaN    NaN   dev   0\n",
       "1      1   NaN           NaN   NaN   NaN   NaN   NaN   NaN    NaN   dev   1\n",
       "2      1   NaN           NaN   NaN   NaN   NaN   NaN   NaN    NaN   dev   2\n",
       "3      1   1.0  2.096510e+07   NaN   NaN   NaN   NaN   NaN  62.75   dev   3\n",
       "4      1   NaN           NaN   NaN   NaN   NaN   NaN   NaN    NaN   dev   4"
      ]
     },
     "execution_count": 107,
     "metadata": {},
     "output_type": "execute_result"
    }
   ],
   "source": [
    "df = pd.read_csv('training.csv')\n",
    "df.head(5)\n",
    "df.drop(columns=['split','id'], inplace=True)\n",
    "# Get rid of two unhelpful variables"
   ]
  },
  {
   "cell_type": "code",
   "execution_count": 108,
   "id": "d66715a6",
   "metadata": {},
   "outputs": [
    {
     "data": {
      "text/plain": [
       "IterativeImputer(max_iter=50, random_state=1)"
      ]
     },
     "execution_count": 108,
     "metadata": {},
     "output_type": "execute_result"
    },
    {
     "data": {
      "text/html": [
       "<div>\n",
       "<style scoped>\n",
       "    .dataframe tbody tr th:only-of-type {\n",
       "        vertical-align: middle;\n",
       "    }\n",
       "\n",
       "    .dataframe tbody tr th {\n",
       "        vertical-align: top;\n",
       "    }\n",
       "\n",
       "    .dataframe thead th {\n",
       "        text-align: right;\n",
       "    }\n",
       "</style>\n",
       "<table border=\"1\" class=\"dataframe\">\n",
       "  <thead>\n",
       "    <tr style=\"text-align: right;\">\n",
       "      <th></th>\n",
       "      <th>event</th>\n",
       "      <th>var1</th>\n",
       "      <th>var2</th>\n",
       "      <th>var3</th>\n",
       "      <th>var4</th>\n",
       "      <th>var5</th>\n",
       "      <th>var6</th>\n",
       "      <th>var7</th>\n",
       "      <th>var8</th>\n",
       "    </tr>\n",
       "  </thead>\n",
       "  <tbody>\n",
       "    <tr>\n",
       "      <th>830</th>\n",
       "      <td>1</td>\n",
       "      <td>1.0</td>\n",
       "      <td>4.861405e+05</td>\n",
       "      <td>0.312546</td>\n",
       "      <td>13.0</td>\n",
       "      <td>1106.211765</td>\n",
       "      <td>0.136506</td>\n",
       "      <td>14.0</td>\n",
       "      <td>67.583333</td>\n",
       "    </tr>\n",
       "    <tr>\n",
       "      <th>2185</th>\n",
       "      <td>1</td>\n",
       "      <td>1.0</td>\n",
       "      <td>3.182024e+06</td>\n",
       "      <td>3.419688</td>\n",
       "      <td>13.0</td>\n",
       "      <td>5.308941</td>\n",
       "      <td>1.154519</td>\n",
       "      <td>24.0</td>\n",
       "      <td>59.333333</td>\n",
       "    </tr>\n",
       "    <tr>\n",
       "      <th>2265</th>\n",
       "      <td>1</td>\n",
       "      <td>1.0</td>\n",
       "      <td>3.563793e+04</td>\n",
       "      <td>0.005322</td>\n",
       "      <td>13.0</td>\n",
       "      <td>22.608235</td>\n",
       "      <td>1.775113</td>\n",
       "      <td>24.0</td>\n",
       "      <td>65.666667</td>\n",
       "    </tr>\n",
       "    <tr>\n",
       "      <th>2409</th>\n",
       "      <td>1</td>\n",
       "      <td>1.0</td>\n",
       "      <td>1.416264e+06</td>\n",
       "      <td>0.072695</td>\n",
       "      <td>13.0</td>\n",
       "      <td>183.520787</td>\n",
       "      <td>-0.365487</td>\n",
       "      <td>24.0</td>\n",
       "      <td>72.000000</td>\n",
       "    </tr>\n",
       "    <tr>\n",
       "      <th>2582</th>\n",
       "      <td>1</td>\n",
       "      <td>1.0</td>\n",
       "      <td>6.761754e+05</td>\n",
       "      <td>0.632366</td>\n",
       "      <td>13.0</td>\n",
       "      <td>1.031123</td>\n",
       "      <td>0.095340</td>\n",
       "      <td>24.0</td>\n",
       "      <td>68.895833</td>\n",
       "    </tr>\n",
       "    <tr>\n",
       "      <th>...</th>\n",
       "      <td>...</td>\n",
       "      <td>...</td>\n",
       "      <td>...</td>\n",
       "      <td>...</td>\n",
       "      <td>...</td>\n",
       "      <td>...</td>\n",
       "      <td>...</td>\n",
       "      <td>...</td>\n",
       "      <td>...</td>\n",
       "    </tr>\n",
       "    <tr>\n",
       "      <th>238324</th>\n",
       "      <td>1</td>\n",
       "      <td>1.0</td>\n",
       "      <td>5.728944e+05</td>\n",
       "      <td>0.067404</td>\n",
       "      <td>13.0</td>\n",
       "      <td>32.733518</td>\n",
       "      <td>4.855479</td>\n",
       "      <td>24.0</td>\n",
       "      <td>42.166667</td>\n",
       "    </tr>\n",
       "    <tr>\n",
       "      <th>238426</th>\n",
       "      <td>1</td>\n",
       "      <td>8.0</td>\n",
       "      <td>1.018695e+04</td>\n",
       "      <td>0.001683</td>\n",
       "      <td>1.0</td>\n",
       "      <td>1098.900000</td>\n",
       "      <td>0.661117</td>\n",
       "      <td>24.0</td>\n",
       "      <td>68.916667</td>\n",
       "    </tr>\n",
       "    <tr>\n",
       "      <th>238580</th>\n",
       "      <td>1</td>\n",
       "      <td>1.0</td>\n",
       "      <td>1.083489e+06</td>\n",
       "      <td>0.008642</td>\n",
       "      <td>13.0</td>\n",
       "      <td>333.905000</td>\n",
       "      <td>-0.122265</td>\n",
       "      <td>24.0</td>\n",
       "      <td>57.083333</td>\n",
       "    </tr>\n",
       "    <tr>\n",
       "      <th>238588</th>\n",
       "      <td>1</td>\n",
       "      <td>1.0</td>\n",
       "      <td>1.850616e+03</td>\n",
       "      <td>0.004344</td>\n",
       "      <td>3.0</td>\n",
       "      <td>644.746667</td>\n",
       "      <td>1.440189</td>\n",
       "      <td>22.0</td>\n",
       "      <td>68.791667</td>\n",
       "    </tr>\n",
       "    <tr>\n",
       "      <th>238667</th>\n",
       "      <td>1</td>\n",
       "      <td>1.0</td>\n",
       "      <td>3.183682e+05</td>\n",
       "      <td>0.038059</td>\n",
       "      <td>13.0</td>\n",
       "      <td>15.789583</td>\n",
       "      <td>1.530736</td>\n",
       "      <td>24.0</td>\n",
       "      <td>55.375000</td>\n",
       "    </tr>\n",
       "  </tbody>\n",
       "</table>\n",
       "<p>606 rows × 9 columns</p>\n",
       "</div>"
      ],
      "text/plain": [
       "        event  var1          var2      var3  var4         var5      var6  \\\n",
       "830         1   1.0  4.861405e+05  0.312546  13.0  1106.211765  0.136506   \n",
       "2185        1   1.0  3.182024e+06  3.419688  13.0     5.308941  1.154519   \n",
       "2265        1   1.0  3.563793e+04  0.005322  13.0    22.608235  1.775113   \n",
       "2409        1   1.0  1.416264e+06  0.072695  13.0   183.520787 -0.365487   \n",
       "2582        1   1.0  6.761754e+05  0.632366  13.0     1.031123  0.095340   \n",
       "...       ...   ...           ...       ...   ...          ...       ...   \n",
       "238324      1   1.0  5.728944e+05  0.067404  13.0    32.733518  4.855479   \n",
       "238426      1   8.0  1.018695e+04  0.001683   1.0  1098.900000  0.661117   \n",
       "238580      1   1.0  1.083489e+06  0.008642  13.0   333.905000 -0.122265   \n",
       "238588      1   1.0  1.850616e+03  0.004344   3.0   644.746667  1.440189   \n",
       "238667      1   1.0  3.183682e+05  0.038059  13.0    15.789583  1.530736   \n",
       "\n",
       "        var7       var8  \n",
       "830     14.0  67.583333  \n",
       "2185    24.0  59.333333  \n",
       "2265    24.0  65.666667  \n",
       "2409    24.0  72.000000  \n",
       "2582    24.0  68.895833  \n",
       "...      ...        ...  \n",
       "238324  24.0  42.166667  \n",
       "238426  24.0  68.916667  \n",
       "238580  24.0  57.083333  \n",
       "238588  22.0  68.791667  \n",
       "238667  24.0  55.375000  \n",
       "\n",
       "[606 rows x 9 columns]"
      ]
     },
     "execution_count": 108,
     "metadata": {},
     "output_type": "execute_result"
    }
   ],
   "source": [
    "from sklearn.experimental import enable_iterative_imputer\n",
    "from sklearn.impute import IterativeImputer\n",
    "df=df.dropna(axis=0, how='any', thresh=None, subset=None, inplace=False)\n",
    "imp = IterativeImputer(max_iter=50, random_state=1)\n",
    "imp.fit(df)  \n",
    "df"
   ]
  },
  {
   "attachments": {},
   "cell_type": "markdown",
   "id": "33f6dc31",
   "metadata": {},
   "source": [
    "# 2.Model and Algorithm (bins)"
   ]
  },
  {
   "cell_type": "markdown",
   "id": "25e25bf9",
   "metadata": {},
   "source": [
    "## 2.1.Logistic Regression"
   ]
  },
  {
   "cell_type": "markdown",
   "id": "21646553",
   "metadata": {},
   "source": [
    "lr is the most common and the easiest to explain, so we'll use lr as well"
   ]
  },
  {
   "cell_type": "markdown",
   "id": "5f90640d",
   "metadata": {},
   "source": [
    "### 2.1.1 trian"
   ]
  },
  {
   "cell_type": "code",
   "execution_count": 154,
   "id": "8716a6ed",
   "metadata": {},
   "outputs": [
    {
     "name": "stdout",
     "output_type": "stream",
     "text": [
      "0.8872114648287933\n",
      "{'logisticregression__C': 0.007, 'logisticregression__solver': 'lbfgs'}\n"
     ]
    }
   ],
   "source": [
    "from sklearn.preprocessing import StandardScaler\n",
    "from sklearn.model_selection import GridSearchCV\n",
    "from sklearn.linear_model import LogisticRegression\n",
    "from sklearn.pipeline import make_pipeline\n",
    "\n",
    "\n",
    "pipe_lr = make_pipeline(StandardScaler(),\n",
    "                        LogisticRegression(random_state=1))\n",
    "\n",
    "param_range = np.arange(0.001, 0.1, 0.001)\n",
    "\n",
    "param_grid = [{'logisticregression__C': param_range, \n",
    "               'logisticregression__solver': ['lbfgs']},\n",
    "              {'logisticregression__C': param_range,\n",
    "               'logisticregression__solver': ['saga']},\n",
    "              {'logisticregression__C': param_range,\n",
    "               'logisticregression__solver': ['newton-cg']},\n",
    "              {'logisticregression__C': param_range,\n",
    "               'logisticregression__solver': ['sag']},              \n",
    "              {'logisticregression__C': param_range,\n",
    "               'logisticregression__solver': ['liblinear']}]\n",
    "\n",
    "lr = GridSearchCV(estimator=pipe_lr, \n",
    "                  param_grid=param_grid, \n",
    "                  scoring='accuracy', \n",
    "                  refit=True,\n",
    "                  cv=5,\n",
    "                  n_jobs=-1)\n",
    "lr = lr.fit(X_train, y_train)\n",
    "print(lr.best_score_)\n",
    "print(lr.best_params_)\n",
    "# adjust parameters"
   ]
  },
  {
   "cell_type": "code",
   "execution_count": 155,
   "id": "b57b4d78",
   "metadata": {},
   "outputs": [
    {
     "name": "stdout",
     "output_type": "stream",
     "text": [
      "0.8872114648287933\n",
      "{'logisticregression__C': 0.007000000000000003, 'logisticregression__solver': 'lbfgs'}\n"
     ]
    }
   ],
   "source": [
    "# more precision C \n",
    "pipe_lr = make_pipeline(StandardScaler(),\n",
    "                        LogisticRegression(random_state=1))\n",
    "\n",
    "param_range = np.arange(0.006,0.008,0.0001)\n",
    "\n",
    "param_grid = [{'logisticregression__C': param_range,\n",
    "               'logisticregression__solver': ['lbfgs']}]\n",
    "\n",
    "lr = GridSearchCV(estimator=pipe_lr, \n",
    "                  param_grid=param_grid, \n",
    "                  scoring='accuracy',\n",
    "                  refit=True,\n",
    "                  n_jobs=-1)\n",
    "lr = lr.fit(X_train, y_train)\n",
    "print(lr.best_score_)\n",
    "print(lr.best_params_)"
   ]
  },
  {
   "cell_type": "markdown",
   "id": "923da84c",
   "metadata": {},
   "source": [
    "### 2.1.2. test "
   ]
  },
  {
   "cell_type": "code",
   "execution_count": 36,
   "id": "711cc4aa",
   "metadata": {
    "scrolled": true
   },
   "outputs": [
    {
     "data": {
      "text/html": [
       "<div>\n",
       "<style scoped>\n",
       "    .dataframe tbody tr th:only-of-type {\n",
       "        vertical-align: middle;\n",
       "    }\n",
       "\n",
       "    .dataframe tbody tr th {\n",
       "        vertical-align: top;\n",
       "    }\n",
       "\n",
       "    .dataframe thead th {\n",
       "        text-align: right;\n",
       "    }\n",
       "</style>\n",
       "<table border=\"1\" class=\"dataframe\">\n",
       "  <thead>\n",
       "    <tr style=\"text-align: right;\">\n",
       "      <th></th>\n",
       "      <th>event</th>\n",
       "      <th>var1</th>\n",
       "      <th>var2</th>\n",
       "      <th>var3</th>\n",
       "      <th>var4</th>\n",
       "      <th>var5</th>\n",
       "      <th>var6</th>\n",
       "      <th>var7</th>\n",
       "      <th>var8</th>\n",
       "      <th>split</th>\n",
       "      <th>id</th>\n",
       "    </tr>\n",
       "  </thead>\n",
       "  <tbody>\n",
       "    <tr>\n",
       "      <th>0</th>\n",
       "      <td>1</td>\n",
       "      <td>1.0</td>\n",
       "      <td>9.248254e+07</td>\n",
       "      <td>0.908051</td>\n",
       "      <td>13.0</td>\n",
       "      <td>0.133592</td>\n",
       "      <td>0.027241</td>\n",
       "      <td>NaN</td>\n",
       "      <td>73.041667</td>\n",
       "      <td>test</td>\n",
       "      <td>0</td>\n",
       "    </tr>\n",
       "    <tr>\n",
       "      <th>1</th>\n",
       "      <td>1</td>\n",
       "      <td>NaN</td>\n",
       "      <td>NaN</td>\n",
       "      <td>NaN</td>\n",
       "      <td>4.0</td>\n",
       "      <td>NaN</td>\n",
       "      <td>NaN</td>\n",
       "      <td>NaN</td>\n",
       "      <td>NaN</td>\n",
       "      <td>test</td>\n",
       "      <td>1</td>\n",
       "    </tr>\n",
       "    <tr>\n",
       "      <th>2</th>\n",
       "      <td>1</td>\n",
       "      <td>1.0</td>\n",
       "      <td>6.718715e+06</td>\n",
       "      <td>7.035461</td>\n",
       "      <td>13.0</td>\n",
       "      <td>41.878073</td>\n",
       "      <td>-7.422937</td>\n",
       "      <td>NaN</td>\n",
       "      <td>76.250000</td>\n",
       "      <td>test</td>\n",
       "      <td>2</td>\n",
       "    </tr>\n",
       "    <tr>\n",
       "      <th>3</th>\n",
       "      <td>1</td>\n",
       "      <td>1.0</td>\n",
       "      <td>3.576348e+06</td>\n",
       "      <td>0.483255</td>\n",
       "      <td>13.0</td>\n",
       "      <td>60.801780</td>\n",
       "      <td>NaN</td>\n",
       "      <td>NaN</td>\n",
       "      <td>80.083333</td>\n",
       "      <td>test</td>\n",
       "      <td>3</td>\n",
       "    </tr>\n",
       "    <tr>\n",
       "      <th>4</th>\n",
       "      <td>1</td>\n",
       "      <td>1.0</td>\n",
       "      <td>8.443072e+06</td>\n",
       "      <td>NaN</td>\n",
       "      <td>NaN</td>\n",
       "      <td>0.525225</td>\n",
       "      <td>NaN</td>\n",
       "      <td>NaN</td>\n",
       "      <td>87.625000</td>\n",
       "      <td>test</td>\n",
       "      <td>4</td>\n",
       "    </tr>\n",
       "  </tbody>\n",
       "</table>\n",
       "</div>"
      ],
      "text/plain": [
       "   event  var1          var2      var3  var4       var5      var6  var7  \\\n",
       "0      1   1.0  9.248254e+07  0.908051  13.0   0.133592  0.027241   NaN   \n",
       "1      1   NaN           NaN       NaN   4.0        NaN       NaN   NaN   \n",
       "2      1   1.0  6.718715e+06  7.035461  13.0  41.878073 -7.422937   NaN   \n",
       "3      1   1.0  3.576348e+06  0.483255  13.0  60.801780       NaN   NaN   \n",
       "4      1   1.0  8.443072e+06       NaN   NaN   0.525225       NaN   NaN   \n",
       "\n",
       "        var8 split  id  \n",
       "0  73.041667  test   0  \n",
       "1        NaN  test   1  \n",
       "2  76.250000  test   2  \n",
       "3  80.083333  test   3  \n",
       "4  87.625000  test   4  "
      ]
     },
     "execution_count": 36,
     "metadata": {},
     "output_type": "execute_result"
    }
   ],
   "source": [
    "df_test = pd.read_csv('test.csv')\n",
    "df_test.head(5)"
   ]
  },
  {
   "cell_type": "code",
   "execution_count": 203,
   "id": "d97d418c",
   "metadata": {},
   "outputs": [],
   "source": [
    "y_exam = df_test.event\n",
    "\n",
    "colu_name = ['var1','var2','var3','var4','var8']\n",
    "x_exam = df_test.loc[:,colu_name]"
   ]
  },
  {
   "cell_type": "code",
   "execution_count": 204,
   "id": "6c1a96e1",
   "metadata": {},
   "outputs": [
    {
     "data": {
      "text/plain": [
       "1493"
      ]
     },
     "execution_count": 204,
     "metadata": {},
     "output_type": "execute_result"
    }
   ],
   "source": [
    "len(y_exam) - sum(y_exam)\n",
    "# the number of bad guys in test.csv"
   ]
  },
  {
   "cell_type": "code",
   "execution_count": 205,
   "id": "61e8544a",
   "metadata": {},
   "outputs": [
    {
     "name": "stdout",
     "output_type": "stream",
     "text": [
      "[INFO] converting into woe values ...\n"
     ]
    }
   ],
   "source": [
    "# change it to WOE value\n",
    "x_exam_woe = sc.woebin_ply(x_exam, bins)"
   ]
  },
  {
   "cell_type": "code",
   "execution_count": 206,
   "id": "2d85382d",
   "metadata": {},
   "outputs": [],
   "source": [
    "# predict it\n",
    "pred_exam = lr.predict(x_exam_woe)"
   ]
  },
  {
   "cell_type": "code",
   "execution_count": 161,
   "id": "4980f2aa",
   "metadata": {},
   "outputs": [
    {
     "data": {
      "text/plain": [
       "[<matplotlib.lines.Line2D at 0x1ba0078f4f0>]"
      ]
     },
     "execution_count": 161,
     "metadata": {},
     "output_type": "execute_result"
    },
    {
     "data": {
      "text/plain": [
       "[<matplotlib.lines.Line2D at 0x1ba0328e3d0>]"
      ]
     },
     "execution_count": 161,
     "metadata": {},
     "output_type": "execute_result"
    },
    {
     "data": {
      "text/plain": [
       "(-0.05, 1.05)"
      ]
     },
     "execution_count": 161,
     "metadata": {},
     "output_type": "execute_result"
    },
    {
     "data": {
      "text/plain": [
       "(-0.05, 1.05)"
      ]
     },
     "execution_count": 161,
     "metadata": {},
     "output_type": "execute_result"
    },
    {
     "data": {
      "text/plain": [
       "Text(0.5, 0, 'False positive rate')"
      ]
     },
     "execution_count": 161,
     "metadata": {},
     "output_type": "execute_result"
    },
    {
     "data": {
      "text/plain": [
       "Text(0, 0.5, 'True positive rate')"
      ]
     },
     "execution_count": 161,
     "metadata": {},
     "output_type": "execute_result"
    },
    {
     "data": {
      "text/plain": [
       "<matplotlib.legend.Legend at 0x1ba0078f8e0>"
      ]
     },
     "execution_count": 161,
     "metadata": {},
     "output_type": "execute_result"
    },
    {
     "data": {
      "image/png": "[encoded data removed]",
      "text/plain": [
       "<Figure size 432x288 with 1 Axes>"
      ]
     },
     "metadata": {
      "needs_background": "light"
     },
     "output_type": "display_data"
    }
   ],
   "source": [
    "from sklearn.metrics import roc_curve, auc\n",
    "\n",
    "mean_tpr = 0.0\n",
    "mean_fpr = np.linspace(0, 1, 100)\n",
    "all_tpr = []\n",
    "\n",
    "\n",
    "probas = lr.predict_proba(x_exam_woe)\n",
    "\n",
    "fpr, tpr, thresholds = roc_curve(y_exam,\n",
    "                                     probas[:, 1],\n",
    "                                     pos_label=1)\n",
    "mean_tpr += interp(mean_fpr, fpr, tpr)\n",
    "mean_tpr[0] = 0.0\n",
    "roc_auc = auc(fpr, tpr)\n",
    "plt.plot(fpr,tpr,label='ROC (area = %0.2f)' % (roc_auc))\n",
    "\n",
    "plt.plot([0, 0, 1],\n",
    "         [0, 1, 1],\n",
    "         linestyle=':',\n",
    "         color='black',\n",
    "         label='Perfect performance')\n",
    "\n",
    "plt.xlim([-0.05, 1.05])\n",
    "plt.ylim([-0.05, 1.05])\n",
    "plt.xlabel('False positive rate')\n",
    "plt.ylabel('True positive rate')\n",
    "plt.legend(loc=\"lower right\")\n",
    "\n",
    "plt.tight_layout()\n",
    "plt.show()"
   ]
  },
  {
   "cell_type": "code",
   "execution_count": 163,
   "id": "78145115",
   "metadata": {},
   "outputs": [
    {
     "data": {
      "text/plain": [
       "0.9830001452979035"
      ]
     },
     "execution_count": 163,
     "metadata": {},
     "output_type": "execute_result"
    },
    {
     "data": {
      "text/plain": [
       "0.9666884389288047"
      ]
     },
     "execution_count": 163,
     "metadata": {},
     "output_type": "execute_result"
    },
    {
     "data": {
      "text/plain": [
       "0.9782427490005954"
      ]
     },
     "execution_count": 163,
     "metadata": {},
     "output_type": "execute_result"
    },
    {
     "data": {
      "text/plain": [
       "0.9878040401264258"
      ]
     },
     "execution_count": 163,
     "metadata": {},
     "output_type": "execute_result"
    }
   ],
   "source": [
    "# calculate F1-score\n",
    "# calculate accuracy\n",
    "# calculate recall\n",
    "# calculate precision\n",
    "from sklearn.metrics import f1_score\n",
    "from sklearn.metrics import accuracy_score\n",
    "from sklearn.metrics import recall_score\n",
    "from sklearn.metrics import precision_score\n",
    "\n",
    "f1_score(y_exam, pred_exam)\n",
    "accuracy_score(y_exam, pred_exam)\n",
    "precision_score(y_exam, pred_exam)\n",
    "recall_score(y_exam, pred_exam)\n",
    "\n",
    "\n"
   ]
  },
  {
   "cell_type": "markdown",
   "id": "8c9c7125",
   "metadata": {},
   "source": [
    "## 2.2. Random Forest"
   ]
  },
  {
   "cell_type": "markdown",
   "id": "3ce82db6",
   "metadata": {},
   "source": [
    "### 2.2.1. train"
   ]
  },
  {
   "cell_type": "code",
   "execution_count": 95,
   "id": "a10c0088",
   "metadata": {},
   "outputs": [
    {
     "name": "stdout",
     "output_type": "stream",
     "text": [
      "[INFO] converting into woe values ...\n"
     ]
    },
    {
     "name": "stderr",
     "output_type": "stream",
     "text": [
      "C:\\Users\\29128\\AppData\\Roaming\\Python\\Python39\\site-packages\\scorecardpy\\condition_fun.py:58: UserWarning: There are duplicated index in dataset. The index has been reseted.\n",
      "  warnings.warn('There are duplicated index in dataset. The index has been reseted.')\n"
     ]
    }
   ],
   "source": [
    "train_woe = sc.woebin_ply(df, bins)\n",
    "\n",
    "# Convert the variable into the corresponding WOE value\n",
    "\n",
    "y_train = train_woe.loc[:,'event']\n",
    "X_train = train_woe.loc[:,train_woe.columns != 'event']\n"
   ]
  },
  {
   "cell_type": "code",
   "execution_count": 138,
   "id": "ed6e6a32",
   "metadata": {},
   "outputs": [],
   "source": [
    "from sklearn.model_selection import cross_val_score\n",
    "from sklearn.pipeline import make_pipeline\n",
    "from sklearn.preprocessing import StandardScaler\n",
    "from sklearn.model_selection import KFold, GridSearchCV\n",
    "from sklearn.ensemble import RandomForestClassifier\n",
    "from sklearn.model_selection import StratifiedKFold\n",
    "param_grid = {\n",
    "    'n_estimators': [10,20,50,60,80],\n",
    "    'max_depth': [1,2,3,4,5,],\n",
    "}\n",
    "\n",
    "# 进行网格搜索\n",
    "cv = KFold(n_splits=5, shuffle=True, random_state=1)\n",
    "rf = RandomForestClassifier(random_state=1)\n",
    "grid_search = GridSearchCV(estimator=rf, param_grid=param_grid, cv=cv, scoring='f1')\n",
    "grid_result = grid_search.fit(X_train, y_train)"
   ]
  },
  {
   "cell_type": "code",
   "execution_count": 139,
   "id": "00050a7f",
   "metadata": {},
   "outputs": [
    {
     "name": "stdout",
     "output_type": "stream",
     "text": [
      "Best f1: 0.9401 with Parameters: {'max_depth': 5, 'n_estimators': 50}\n"
     ]
    }
   ],
   "source": [
    "print(f\"Best f1: {grid_result.best_score_:.4f} with Parameters: {grid_result.best_params_}\")"
   ]
  },
  {
   "cell_type": "code",
   "execution_count": 179,
   "id": "c1a6af46",
   "metadata": {},
   "outputs": [
    {
     "data": {
      "text/plain": [
       "RandomForestClassifier(max_depth=5, min_samples_leaf=4, n_estimators=50,\n",
       "                       n_jobs=2, random_state=1)"
      ]
     },
     "execution_count": 179,
     "metadata": {},
     "output_type": "execute_result"
    }
   ],
   "source": [
    "forest = RandomForestClassifier(criterion='gini',\n",
    "                                n_estimators=50 , \n",
    "                                random_state=1 ,\n",
    "                                 n_jobs=2, \n",
    "                                max_depth=5,min_samples_leaf=4,min_samples_split=2)\n",
    "forest.fit(X_train, y_train)"
   ]
  },
  {
   "cell_type": "markdown",
   "id": "4248b070",
   "metadata": {},
   "source": [
    "### 2.2.2. test"
   ]
  },
  {
   "cell_type": "code",
   "execution_count": 180,
   "id": "c3b50f6e",
   "metadata": {},
   "outputs": [
    {
     "data": {
      "text/html": [
       "<div>\n",
       "<style scoped>\n",
       "    .dataframe tbody tr th:only-of-type {\n",
       "        vertical-align: middle;\n",
       "    }\n",
       "\n",
       "    .dataframe tbody tr th {\n",
       "        vertical-align: top;\n",
       "    }\n",
       "\n",
       "    .dataframe thead th {\n",
       "        text-align: right;\n",
       "    }\n",
       "</style>\n",
       "<table border=\"1\" class=\"dataframe\">\n",
       "  <thead>\n",
       "    <tr style=\"text-align: right;\">\n",
       "      <th></th>\n",
       "      <th>event</th>\n",
       "      <th>var1</th>\n",
       "      <th>var2</th>\n",
       "      <th>var3</th>\n",
       "      <th>var4</th>\n",
       "      <th>var5</th>\n",
       "      <th>var6</th>\n",
       "      <th>var7</th>\n",
       "      <th>var8</th>\n",
       "      <th>split</th>\n",
       "      <th>id</th>\n",
       "    </tr>\n",
       "  </thead>\n",
       "  <tbody>\n",
       "    <tr>\n",
       "      <th>0</th>\n",
       "      <td>1</td>\n",
       "      <td>1.0</td>\n",
       "      <td>9.248254e+07</td>\n",
       "      <td>0.908051</td>\n",
       "      <td>13.0</td>\n",
       "      <td>0.133592</td>\n",
       "      <td>0.027241</td>\n",
       "      <td>NaN</td>\n",
       "      <td>73.041667</td>\n",
       "      <td>test</td>\n",
       "      <td>0</td>\n",
       "    </tr>\n",
       "    <tr>\n",
       "      <th>1</th>\n",
       "      <td>1</td>\n",
       "      <td>NaN</td>\n",
       "      <td>NaN</td>\n",
       "      <td>NaN</td>\n",
       "      <td>4.0</td>\n",
       "      <td>NaN</td>\n",
       "      <td>NaN</td>\n",
       "      <td>NaN</td>\n",
       "      <td>NaN</td>\n",
       "      <td>test</td>\n",
       "      <td>1</td>\n",
       "    </tr>\n",
       "    <tr>\n",
       "      <th>2</th>\n",
       "      <td>1</td>\n",
       "      <td>1.0</td>\n",
       "      <td>6.718715e+06</td>\n",
       "      <td>7.035461</td>\n",
       "      <td>13.0</td>\n",
       "      <td>41.878073</td>\n",
       "      <td>-7.422937</td>\n",
       "      <td>NaN</td>\n",
       "      <td>76.250000</td>\n",
       "      <td>test</td>\n",
       "      <td>2</td>\n",
       "    </tr>\n",
       "    <tr>\n",
       "      <th>3</th>\n",
       "      <td>1</td>\n",
       "      <td>1.0</td>\n",
       "      <td>3.576348e+06</td>\n",
       "      <td>0.483255</td>\n",
       "      <td>13.0</td>\n",
       "      <td>60.801780</td>\n",
       "      <td>NaN</td>\n",
       "      <td>NaN</td>\n",
       "      <td>80.083333</td>\n",
       "      <td>test</td>\n",
       "      <td>3</td>\n",
       "    </tr>\n",
       "    <tr>\n",
       "      <th>4</th>\n",
       "      <td>1</td>\n",
       "      <td>1.0</td>\n",
       "      <td>8.443072e+06</td>\n",
       "      <td>NaN</td>\n",
       "      <td>NaN</td>\n",
       "      <td>0.525225</td>\n",
       "      <td>NaN</td>\n",
       "      <td>NaN</td>\n",
       "      <td>87.625000</td>\n",
       "      <td>test</td>\n",
       "      <td>4</td>\n",
       "    </tr>\n",
       "  </tbody>\n",
       "</table>\n",
       "</div>"
      ],
      "text/plain": [
       "   event  var1          var2      var3  var4       var5      var6  var7  \\\n",
       "0      1   1.0  9.248254e+07  0.908051  13.0   0.133592  0.027241   NaN   \n",
       "1      1   NaN           NaN       NaN   4.0        NaN       NaN   NaN   \n",
       "2      1   1.0  6.718715e+06  7.035461  13.0  41.878073 -7.422937   NaN   \n",
       "3      1   1.0  3.576348e+06  0.483255  13.0  60.801780       NaN   NaN   \n",
       "4      1   1.0  8.443072e+06       NaN   NaN   0.525225       NaN   NaN   \n",
       "\n",
       "        var8 split  id  \n",
       "0  73.041667  test   0  \n",
       "1        NaN  test   1  \n",
       "2  76.250000  test   2  \n",
       "3  80.083333  test   3  \n",
       "4  87.625000  test   4  "
      ]
     },
     "execution_count": 180,
     "metadata": {},
     "output_type": "execute_result"
    }
   ],
   "source": [
    "df_test = pd.read_csv('test.csv')\n",
    "df_test.head(5)"
   ]
  },
  {
   "cell_type": "code",
   "execution_count": 181,
   "id": "ebb94a6f",
   "metadata": {},
   "outputs": [],
   "source": [
    "y_exam = df_test.event\n",
    "\n",
    "colu_name = ['var1','var2','var3','var4','var8']\n",
    "x_exam = df_test.loc[:,colu_name]"
   ]
  },
  {
   "cell_type": "code",
   "execution_count": 182,
   "id": "eaf081fd",
   "metadata": {},
   "outputs": [
    {
     "data": {
      "text/plain": [
       "1493"
      ]
     },
     "execution_count": 182,
     "metadata": {},
     "output_type": "execute_result"
    }
   ],
   "source": [
    "len(y_exam) - sum(y_exam)"
   ]
  },
  {
   "cell_type": "code",
   "execution_count": 183,
   "id": "5e0fe796",
   "metadata": {},
   "outputs": [
    {
     "name": "stdout",
     "output_type": "stream",
     "text": [
      "[INFO] converting into woe values ...\n"
     ]
    }
   ],
   "source": [
    "x_exam_woe = sc.woebin_ply(x_exam, bins)"
   ]
  },
  {
   "cell_type": "code",
   "execution_count": 184,
   "id": "e31305d5",
   "metadata": {},
   "outputs": [],
   "source": [
    "pred_exam = forest.predict(x_exam_woe)"
   ]
  },
  {
   "cell_type": "code",
   "execution_count": 185,
   "id": "8ead4f5b",
   "metadata": {},
   "outputs": [
    {
     "data": {
      "text/plain": [
       "[<matplotlib.lines.Line2D at 0x1d416ffa5b0>]"
      ]
     },
     "execution_count": 185,
     "metadata": {},
     "output_type": "execute_result"
    },
    {
     "data": {
      "text/plain": [
       "[<matplotlib.lines.Line2D at 0x1d416ffa880>]"
      ]
     },
     "execution_count": 185,
     "metadata": {},
     "output_type": "execute_result"
    },
    {
     "data": {
      "text/plain": [
       "(-0.05, 1.05)"
      ]
     },
     "execution_count": 185,
     "metadata": {},
     "output_type": "execute_result"
    },
    {
     "data": {
      "text/plain": [
       "(-0.05, 1.05)"
      ]
     },
     "execution_count": 185,
     "metadata": {},
     "output_type": "execute_result"
    },
    {
     "data": {
      "text/plain": [
       "Text(0.5, 0, 'False positive rate')"
      ]
     },
     "execution_count": 185,
     "metadata": {},
     "output_type": "execute_result"
    },
    {
     "data": {
      "text/plain": [
       "Text(0, 0.5, 'True positive rate')"
      ]
     },
     "execution_count": 185,
     "metadata": {},
     "output_type": "execute_result"
    },
    {
     "data": {
      "text/plain": [
       "<matplotlib.legend.Legend at 0x1d419e6b910>"
      ]
     },
     "execution_count": 185,
     "metadata": {},
     "output_type": "execute_result"
    },
    {
     "data": {
      "image/png": "[encoded data removed]",
      "text/plain": [
       "<Figure size 432x288 with 1 Axes>"
      ]
     },
     "metadata": {
      "needs_background": "light"
     },
     "output_type": "display_data"
    }
   ],
   "source": [
    "from sklearn.metrics import roc_curve, auc\n",
    "\n",
    "mean_tpr = 0.0\n",
    "mean_fpr = np.linspace(0, 1, 100)\n",
    "all_tpr = []\n",
    "\n",
    "\n",
    "probas = forest.predict_proba(x_exam_woe)\n",
    "\n",
    "fpr, tpr, thresholds = roc_curve(y_exam,\n",
    "                                     probas[:, 1],\n",
    "                                     pos_label=1)\n",
    "mean_tpr += interp(mean_fpr, fpr, tpr)\n",
    "mean_tpr[0] = 0.0\n",
    "roc_auc = auc(fpr, tpr)\n",
    "plt.plot(fpr,tpr,label='ROC (area = %0.2f)' % (roc_auc))\n",
    "\n",
    "plt.plot([0, 0, 1],\n",
    "         [0, 1, 1],\n",
    "         linestyle=':',\n",
    "         color='black',\n",
    "         label='Perfect performance')\n",
    "\n",
    "plt.xlim([-0.05, 1.05])\n",
    "plt.ylim([-0.05, 1.05])\n",
    "plt.xlabel('False positive rate')\n",
    "plt.ylabel('True positive rate')\n",
    "plt.legend(loc=\"lower right\")\n",
    "\n",
    "plt.tight_layout()\n",
    "plt.show()"
   ]
  },
  {
   "cell_type": "code",
   "execution_count": 186,
   "id": "a9e03a01",
   "metadata": {},
   "outputs": [
    {
     "data": {
      "text/plain": [
       "0.9835676340467691"
      ]
     },
     "execution_count": 186,
     "metadata": {},
     "output_type": "execute_result"
    },
    {
     "data": {
      "text/plain": [
       "0.9677770520357065"
      ]
     },
     "execution_count": 186,
     "metadata": {},
     "output_type": "execute_result"
    },
    {
     "data": {
      "text/plain": [
       "0.9781042976048921"
      ]
     },
     "execution_count": 186,
     "metadata": {},
     "output_type": "execute_result"
    },
    {
     "data": {
      "text/plain": [
       "0.9890923457468737"
      ]
     },
     "execution_count": 186,
     "metadata": {},
     "output_type": "execute_result"
    }
   ],
   "source": [
    "from sklearn.metrics import f1_score\n",
    "from sklearn.metrics import accuracy_score\n",
    "from sklearn.metrics import recall_score\n",
    "from sklearn.metrics import precision_score\n",
    "\n",
    "f1_score(y_exam, pred_exam)\n",
    "accuracy_score(y_exam, pred_exam)\n",
    "precision_score(y_exam, pred_exam)\n",
    "recall_score(y_exam, pred_exam)"
   ]
  },
  {
   "cell_type": "markdown",
   "id": "2aa0580f",
   "metadata": {},
   "source": [
    "### 2.2.3 Feature importance"
   ]
  },
  {
   "cell_type": "code",
   "execution_count": 148,
   "id": "463212f8",
   "metadata": {},
   "outputs": [
    {
     "name": "stdout",
     "output_type": "stream",
     "text": [
      "Feature ranking:\n",
      "1. var4_woe (0.675976)\n",
      "2. var2_woe (0.137447)\n",
      "3. var3_woe (0.079891)\n",
      "4. var1_woe (0.079370)\n",
      "5. var8_woe (0.027315)\n"
     ]
    }
   ],
   "source": [
    "importances = forest.feature_importances_\n",
    "indices = np.argsort(importances)[::-1]\n",
    "print(\"Feature ranking:\")\n",
    "for f in range(X_train.shape[1]):\n",
    "    print(\"%d. %s (%f)\" % (f + 1, X_train.columns[indices[f]], importances[indices[f]]))"
   ]
  },
  {
   "cell_type": "code",
   "execution_count": 149,
   "id": "c025b29e",
   "metadata": {},
   "outputs": [
    {
     "data": {
      "text/plain": [
       "<Figure size 720x432 with 0 Axes>"
      ]
     },
     "execution_count": 149,
     "metadata": {},
     "output_type": "execute_result"
    },
    {
     "data": {
      "text/plain": [
       "Text(0.5, 1.0, 'Feature importance')"
      ]
     },
     "execution_count": 149,
     "metadata": {},
     "output_type": "execute_result"
    },
    {
     "data": {
      "text/plain": [
       "<BarContainer object of 5 artists>"
      ]
     },
     "execution_count": 149,
     "metadata": {},
     "output_type": "execute_result"
    },
    {
     "data": {
      "text/plain": [
       "([<matplotlib.axis.XTick at 0x1d41aeed790>,\n",
       "  <matplotlib.axis.XTick at 0x1d41aeed3d0>,\n",
       "  <matplotlib.axis.XTick at 0x1d41bd08c10>,\n",
       "  <matplotlib.axis.XTick at 0x1d417fb17c0>,\n",
       "  <matplotlib.axis.XTick at 0x1d416d86070>],\n",
       " [Text(0, 0, 'var4_woe'),\n",
       "  Text(1, 0, 'var2_woe'),\n",
       "  Text(2, 0, 'var3_woe'),\n",
       "  Text(3, 0, 'var1_woe'),\n",
       "  Text(4, 0, 'var8_woe')])"
      ]
     },
     "execution_count": 149,
     "metadata": {},
     "output_type": "execute_result"
    },
    {
     "data": {
      "text/plain": [
       "(-1.0, 5.0)"
      ]
     },
     "execution_count": 149,
     "metadata": {},
     "output_type": "execute_result"
    },
    {
     "data": {
      "image/png": "[encoded data removed]",
      "text/plain": [
       "<Figure size 720x432 with 1 Axes>"
      ]
     },
     "metadata": {
      "needs_background": "light"
     },
     "output_type": "display_data"
    }
   ],
   "source": [
    "plt.figure(figsize=(10, 6))\n",
    "plt.title(\"Feature importance\")\n",
    "plt.bar(range(X_train.shape[1]), importances[indices], color=\"g\", align=\"center\")\n",
    "plt.xticks(range(X_train.shape[1]), X_train.columns[indices])\n",
    "plt.xlim([-1, X_train.shape[1]])\n",
    "plt.tight_layout()\n",
    "plt.show()"
   ]
  },
  {
   "cell_type": "markdown",
   "id": "36f4549b",
   "metadata": {},
   "source": [
    "## 2.3. XGboost"
   ]
  },
  {
   "cell_type": "markdown",
   "id": "d23a29a5",
   "metadata": {},
   "source": [
    "### 2.3.1 train"
   ]
  },
  {
   "cell_type": "code",
   "execution_count": 150,
   "id": "58cb6021",
   "metadata": {},
   "outputs": [
    {
     "data": {
      "text/plain": [
       "GridSearchCV(cv=KFold(n_splits=10, random_state=0, shuffle=True),\n",
       "             estimator=XGBClassifier(base_score=None, booster=None,\n",
       "                                     callbacks=None, colsample_bylevel=None,\n",
       "                                     colsample_bynode=None,\n",
       "                                     colsample_bytree=None,\n",
       "                                     early_stopping_rounds=None,\n",
       "                                     enable_categorical=False, eval_metric=None,\n",
       "                                     feature_types=None, gamma=None,\n",
       "                                     gpu_id=None, grow_policy=None,\n",
       "                                     importance_type=None,\n",
       "                                     int...\n",
       "                                     max_cat_to_onehot=None,\n",
       "                                     max_delta_step=None, max_depth=None,\n",
       "                                     max_leaves=None, min_child_weight=None,\n",
       "                                     missing=nan, monotone_constraints=None,\n",
       "                                     n_estimators=100, n_jobs=None,\n",
       "                                     num_parallel_tree=None,\n",
       "                                     objective='reg:squarederror',\n",
       "                                     predictor=None, ...),\n",
       "             n_jobs=-1,\n",
       "             param_grid={'learning_rate': [0.01, 0.05, 0.1, 0.15],\n",
       "                         'max_depth': [3, 5, 7, 9],\n",
       "                         'n_estimators': [20, 50, 100]},\n",
       "             scoring='f1')"
      ]
     },
     "execution_count": 150,
     "metadata": {},
     "output_type": "execute_result"
    },
    {
     "name": "stdout",
     "output_type": "stream",
     "text": [
      "Best parameters: {'learning_rate': 0.05, 'max_depth': 5, 'n_estimators': 20}\n",
      "Best f1: 0.940388\n"
     ]
    }
   ],
   "source": [
    "from xgboost import XGBClassifier\n",
    "from sklearn.model_selection import GridSearchCV, KFold\n",
    "\n",
    "parameters = {\n",
    "    'max_depth': [3, 5, 7, 9],\n",
    "    'learning_rate': [0.01, 0.05, 0.1, 0.15],\n",
    "    'n_estimators': [10,20,50,100],\n",
    "}\n",
    "\n",
    "kfold = KFold(n_splits=10, shuffle=True, random_state=0)\n",
    "clf = GridSearchCV(xgb_model, parameters, cv=kfold, scoring='f1', n_jobs=2)\n",
    "clf.fit(X_train, y_train)\n",
    "\n",
    "print(\"Best parameters: %s\" % clf.best_params_)\n",
    "print(\"Best f1: %f\" % clf.best_score_)"
   ]
  },
  {
   "cell_type": "code",
   "execution_count": 235,
   "id": "a9e463fd",
   "metadata": {},
   "outputs": [
    {
     "data": {
      "text/plain": [
       "XGBClassifier(base_score=None, booster=None, callbacks=None,\n",
       "              colsample_bylevel=None, colsample_bynode=None,\n",
       "              colsample_bytree=None, early_stopping_rounds=None,\n",
       "              enable_categorical=False, eval_metric=None, feature_types=None,\n",
       "              gamma=None, gpu_id=None, grow_policy=None, importance_type=None,\n",
       "              interaction_constraints=None, learning_rate=0.05, max_bin=None,\n",
       "              max_cat_threshold=None, max_cat_to_onehot=None,\n",
       "              max_delta_step=None, max_depth=5, max_leaves=None,\n",
       "              min_child_weight=None, missing=nan, monotone_constraints=None,\n",
       "              n_estimators=20, n_jobs=None, num_parallel_tree=None,\n",
       "              predictor=None, random_state=0, ...)"
      ]
     },
     "execution_count": 235,
     "metadata": {},
     "output_type": "execute_result"
    }
   ],
   "source": [
    "xgb_model = XGBClassifier(objective='binary:logistic',learning_rate= 0.05, max_depth= 5,n_estimators= 20, random_state=0)\n",
    "xgb_model.fit(X_train, y_train)"
   ]
  },
  {
   "cell_type": "code",
   "execution_count": 236,
   "id": "a7fe76ea",
   "metadata": {},
   "outputs": [
    {
     "name": "stdout",
     "output_type": "stream",
     "text": [
      "Feature ranking:\n",
      "1. var4_woe (557.701416)\n",
      "2. var2_woe (54.135258)\n",
      "3. var3_woe (21.400480)\n",
      "4. var1_woe (16.748735)\n",
      "5. var8_woe (13.326175)\n"
     ]
    }
   ],
   "source": [
    "importances = xgb_model.get_booster().get_score(importance_type='gain')\n",
    "importances = {feature: score for feature, score in sorted(importances.items(), key=lambda x: x[1], reverse=True)}\n",
    "print(\"Feature ranking:\")\n",
    "for f, imp in enumerate(importances.items()):\n",
    "    print(\"%d. %s (%f)\" % (f + 1, imp[0], imp[1]))"
   ]
  },
  {
   "cell_type": "code",
   "execution_count": 237,
   "id": "38a9c5e5",
   "metadata": {},
   "outputs": [
    {
     "data": {
      "text/plain": [
       "<Figure size 720x432 with 0 Axes>"
      ]
     },
     "execution_count": 237,
     "metadata": {},
     "output_type": "execute_result"
    },
    {
     "data": {
      "text/plain": [
       "Text(0.5, 1.0, 'Feature importance')"
      ]
     },
     "execution_count": 237,
     "metadata": {},
     "output_type": "execute_result"
    },
    {
     "data": {
      "text/plain": [
       "<BarContainer object of 5 artists>"
      ]
     },
     "execution_count": 237,
     "metadata": {},
     "output_type": "execute_result"
    },
    {
     "data": {
      "text/plain": [
       "([<matplotlib.axis.XTick at 0x1d41a6fa5b0>,\n",
       "  <matplotlib.axis.XTick at 0x1d41a6fa100>,\n",
       "  <matplotlib.axis.XTick at 0x1d41bb524c0>,\n",
       "  <matplotlib.axis.XTick at 0x1d41ba43790>,\n",
       "  <matplotlib.axis.XTick at 0x1d41ba43ee0>],\n",
       " [Text(0, 0, 'var4_woe'),\n",
       "  Text(1, 0, 'var2_woe'),\n",
       "  Text(2, 0, 'var3_woe'),\n",
       "  Text(3, 0, 'var1_woe'),\n",
       "  Text(4, 0, 'var8_woe')])"
      ]
     },
     "execution_count": 237,
     "metadata": {},
     "output_type": "execute_result"
    },
    {
     "data": {
      "text/plain": [
       "(-1.0, 5.0)"
      ]
     },
     "execution_count": 237,
     "metadata": {},
     "output_type": "execute_result"
    },
    {
     "data": {
      "image/png": "[encoded data removed]",
      "text/plain": [
       "<Figure size 720x432 with 1 Axes>"
      ]
     },
     "metadata": {
      "needs_background": "light"
     },
     "output_type": "display_data"
    }
   ],
   "source": [
    "# 可视化各特征重要性排序结果\n",
    "plt.figure(figsize=(10, 6))\n",
    "plt.title(\"Feature importance\")\n",
    "plt.bar(range(len(importances)), list(importances.values()), color=\"g\", align=\"center\")\n",
    "plt.xticks(range(len(importances)), list(importances.keys()), rotation=90)\n",
    "plt.xlim([-1, len(importances)])\n",
    "plt.tight_layout()\n",
    "plt.show()"
   ]
  },
  {
   "cell_type": "markdown",
   "id": "930e937b",
   "metadata": {},
   "source": [
    "### 2.3.2 test"
   ]
  },
  {
   "cell_type": "code",
   "execution_count": 238,
   "id": "68be9f1b",
   "metadata": {},
   "outputs": [
    {
     "data": {
      "text/html": [
       "<div>\n",
       "<style scoped>\n",
       "    .dataframe tbody tr th:only-of-type {\n",
       "        vertical-align: middle;\n",
       "    }\n",
       "\n",
       "    .dataframe tbody tr th {\n",
       "        vertical-align: top;\n",
       "    }\n",
       "\n",
       "    .dataframe thead th {\n",
       "        text-align: right;\n",
       "    }\n",
       "</style>\n",
       "<table border=\"1\" class=\"dataframe\">\n",
       "  <thead>\n",
       "    <tr style=\"text-align: right;\">\n",
       "      <th></th>\n",
       "      <th>event</th>\n",
       "      <th>var1</th>\n",
       "      <th>var2</th>\n",
       "      <th>var3</th>\n",
       "      <th>var4</th>\n",
       "      <th>var5</th>\n",
       "      <th>var6</th>\n",
       "      <th>var7</th>\n",
       "      <th>var8</th>\n",
       "      <th>split</th>\n",
       "      <th>id</th>\n",
       "    </tr>\n",
       "  </thead>\n",
       "  <tbody>\n",
       "    <tr>\n",
       "      <th>0</th>\n",
       "      <td>1</td>\n",
       "      <td>1.0</td>\n",
       "      <td>9.248254e+07</td>\n",
       "      <td>0.908051</td>\n",
       "      <td>13.0</td>\n",
       "      <td>0.133592</td>\n",
       "      <td>0.027241</td>\n",
       "      <td>NaN</td>\n",
       "      <td>73.041667</td>\n",
       "      <td>test</td>\n",
       "      <td>0</td>\n",
       "    </tr>\n",
       "    <tr>\n",
       "      <th>1</th>\n",
       "      <td>1</td>\n",
       "      <td>NaN</td>\n",
       "      <td>NaN</td>\n",
       "      <td>NaN</td>\n",
       "      <td>4.0</td>\n",
       "      <td>NaN</td>\n",
       "      <td>NaN</td>\n",
       "      <td>NaN</td>\n",
       "      <td>NaN</td>\n",
       "      <td>test</td>\n",
       "      <td>1</td>\n",
       "    </tr>\n",
       "    <tr>\n",
       "      <th>2</th>\n",
       "      <td>1</td>\n",
       "      <td>1.0</td>\n",
       "      <td>6.718715e+06</td>\n",
       "      <td>7.035461</td>\n",
       "      <td>13.0</td>\n",
       "      <td>41.878073</td>\n",
       "      <td>-7.422937</td>\n",
       "      <td>NaN</td>\n",
       "      <td>76.250000</td>\n",
       "      <td>test</td>\n",
       "      <td>2</td>\n",
       "    </tr>\n",
       "    <tr>\n",
       "      <th>3</th>\n",
       "      <td>1</td>\n",
       "      <td>1.0</td>\n",
       "      <td>3.576348e+06</td>\n",
       "      <td>0.483255</td>\n",
       "      <td>13.0</td>\n",
       "      <td>60.801780</td>\n",
       "      <td>NaN</td>\n",
       "      <td>NaN</td>\n",
       "      <td>80.083333</td>\n",
       "      <td>test</td>\n",
       "      <td>3</td>\n",
       "    </tr>\n",
       "    <tr>\n",
       "      <th>4</th>\n",
       "      <td>1</td>\n",
       "      <td>1.0</td>\n",
       "      <td>8.443072e+06</td>\n",
       "      <td>NaN</td>\n",
       "      <td>NaN</td>\n",
       "      <td>0.525225</td>\n",
       "      <td>NaN</td>\n",
       "      <td>NaN</td>\n",
       "      <td>87.625000</td>\n",
       "      <td>test</td>\n",
       "      <td>4</td>\n",
       "    </tr>\n",
       "  </tbody>\n",
       "</table>\n",
       "</div>"
      ],
      "text/plain": [
       "   event  var1          var2      var3  var4       var5      var6  var7  \\\n",
       "0      1   1.0  9.248254e+07  0.908051  13.0   0.133592  0.027241   NaN   \n",
       "1      1   NaN           NaN       NaN   4.0        NaN       NaN   NaN   \n",
       "2      1   1.0  6.718715e+06  7.035461  13.0  41.878073 -7.422937   NaN   \n",
       "3      1   1.0  3.576348e+06  0.483255  13.0  60.801780       NaN   NaN   \n",
       "4      1   1.0  8.443072e+06       NaN   NaN   0.525225       NaN   NaN   \n",
       "\n",
       "        var8 split  id  \n",
       "0  73.041667  test   0  \n",
       "1        NaN  test   1  \n",
       "2  76.250000  test   2  \n",
       "3  80.083333  test   3  \n",
       "4  87.625000  test   4  "
      ]
     },
     "execution_count": 238,
     "metadata": {},
     "output_type": "execute_result"
    }
   ],
   "source": [
    "df_test = pd.read_csv('test.csv')\n",
    "df_test.head(5)"
   ]
  },
  {
   "cell_type": "code",
   "execution_count": 239,
   "id": "b41437d0",
   "metadata": {},
   "outputs": [],
   "source": [
    "y_exam = df_test.event\n",
    "\n",
    "colu_name = ['var1','var2','var3','var4','var8']\n",
    "x_exam = df_test.loc[:,colu_name]"
   ]
  },
  {
   "cell_type": "code",
   "execution_count": 240,
   "id": "3c065c71",
   "metadata": {},
   "outputs": [
    {
     "data": {
      "text/plain": [
       "1493"
      ]
     },
     "execution_count": 240,
     "metadata": {},
     "output_type": "execute_result"
    }
   ],
   "source": [
    "len(y_exam) - sum(y_exam)"
   ]
  },
  {
   "cell_type": "code",
   "execution_count": 241,
   "id": "c5ae6716",
   "metadata": {},
   "outputs": [
    {
     "name": "stdout",
     "output_type": "stream",
     "text": [
      "[INFO] converting into woe values ...\n"
     ]
    }
   ],
   "source": [
    "x_exam_woe = sc.woebin_ply(x_exam, bins)"
   ]
  },
  {
   "cell_type": "code",
   "execution_count": 242,
   "id": "2b607e14",
   "metadata": {},
   "outputs": [],
   "source": [
    "pred_exam3 =  xgb_model.predict(x_exam_woe)"
   ]
  },
  {
   "cell_type": "code",
   "execution_count": 243,
   "id": "0a5a9ee1",
   "metadata": {},
   "outputs": [
    {
     "data": {
      "text/plain": [
       "[<matplotlib.lines.Line2D at 0x1d417bf4be0>]"
      ]
     },
     "execution_count": 243,
     "metadata": {},
     "output_type": "execute_result"
    },
    {
     "data": {
      "text/plain": [
       "[<matplotlib.lines.Line2D at 0x1d417bf4fd0>]"
      ]
     },
     "execution_count": 243,
     "metadata": {},
     "output_type": "execute_result"
    },
    {
     "data": {
      "text/plain": [
       "(-0.05, 1.05)"
      ]
     },
     "execution_count": 243,
     "metadata": {},
     "output_type": "execute_result"
    },
    {
     "data": {
      "text/plain": [
       "(-0.05, 1.05)"
      ]
     },
     "execution_count": 243,
     "metadata": {},
     "output_type": "execute_result"
    },
    {
     "data": {
      "text/plain": [
       "Text(0.5, 0, 'False positive rate')"
      ]
     },
     "execution_count": 243,
     "metadata": {},
     "output_type": "execute_result"
    },
    {
     "data": {
      "text/plain": [
       "Text(0, 0.5, 'True positive rate')"
      ]
     },
     "execution_count": 243,
     "metadata": {},
     "output_type": "execute_result"
    },
    {
     "data": {
      "text/plain": [
       "<matplotlib.legend.Legend at 0x1d417bf4a00>"
      ]
     },
     "execution_count": 243,
     "metadata": {},
     "output_type": "execute_result"
    },
    {
     "data": {
      "image/png": "[encoded data removed]",
      "text/plain": [
       "<Figure size 432x288 with 1 Axes>"
      ]
     },
     "metadata": {
      "needs_background": "light"
     },
     "output_type": "display_data"
    }
   ],
   "source": [
    "from sklearn.metrics import roc_curve, auc\n",
    "\n",
    "mean_tpr = 0.0\n",
    "mean_fpr = np.linspace(0, 1, 100)\n",
    "all_tpr = []\n",
    "\n",
    "\n",
    "probas = xgb_model.predict_proba(x_exam_woe)\n",
    "\n",
    "fpr, tpr, thresholds = roc_curve(y_exam,\n",
    "                                     probas[:, 1],\n",
    "                                     pos_label=1)\n",
    "mean_tpr += interp(mean_fpr, fpr, tpr)\n",
    "mean_tpr[0] = 0.0\n",
    "roc_auc = auc(fpr, tpr)\n",
    "plt.plot(fpr,tpr,label='ROC (area = %0.2f)' % (roc_auc))\n",
    "\n",
    "plt.plot([0, 0, 1],\n",
    "         [0, 1, 1],\n",
    "         linestyle=':',\n",
    "         color='black',\n",
    "         label='Perfect performance')\n",
    "\n",
    "plt.xlim([-0.05, 1.05])\n",
    "plt.ylim([-0.05, 1.05])\n",
    "plt.xlabel('False positive rate')\n",
    "plt.ylabel('True positive rate')\n",
    "plt.legend(loc=\"lower right\")\n",
    "\n",
    "plt.tight_layout()\n",
    "plt.show()"
   ]
  },
  {
   "cell_type": "code",
   "execution_count": 244,
   "id": "9d187ce0",
   "metadata": {},
   "outputs": [
    {
     "data": {
      "text/plain": [
       "0.9840115410552553"
      ]
     },
     "execution_count": 244,
     "metadata": {},
     "output_type": "execute_result"
    },
    {
     "data": {
      "text/plain": [
       "0.9686311946272756"
      ]
     },
     "execution_count": 244,
     "metadata": {},
     "output_type": "execute_result"
    },
    {
     "data": {
      "text/plain": [
       "0.9780421170521457"
      ]
     },
     "execution_count": 244,
     "metadata": {},
     "output_type": "execute_result"
    },
    {
     "data": {
      "text/plain": [
       "0.9900542806101416"
      ]
     },
     "execution_count": 244,
     "metadata": {},
     "output_type": "execute_result"
    }
   ],
   "source": [
    "# calculate F1-score\n",
    "# calculate accuracy\n",
    "# calculate recall\n",
    "# calculate precision\n",
    "from sklearn.metrics import f1_score\n",
    "from sklearn.metrics import accuracy_score\n",
    "from sklearn.metrics import recall_score\n",
    "from sklearn.metrics import precision_score\n",
    "\n",
    "f1_score(y_exam, pred_exam3)\n",
    "accuracy_score(y_exam, pred_exam3)\n",
    "precision_score(y_exam, pred_exam3)\n",
    "recall_score(y_exam, pred_exam3)"
   ]
  },
  {
   "cell_type": "markdown",
   "id": "c9ed43a9",
   "metadata": {},
   "source": [
    "## 2.4.Decision Tree"
   ]
  },
  {
   "cell_type": "markdown",
   "id": "846b41b5",
   "metadata": {},
   "source": [
    "### 2.4.1 train"
   ]
  },
  {
   "cell_type": "code",
   "execution_count": 255,
   "id": "9bf2b922",
   "metadata": {},
   "outputs": [
    {
     "data": {
      "text/plain": [
       "GridSearchCV(cv=KFold(n_splits=10, random_state=0, shuffle=True),\n",
       "             estimator=DecisionTreeClassifier(random_state=0), n_jobs=-1,\n",
       "             param_grid={'criterion': ['gini', 'entropy'],\n",
       "                         'max_depth': range(3, 10),\n",
       "                         'min_samples_leaf': range(1, 5),\n",
       "                         'min_samples_split': range(2, 10)},\n",
       "             scoring='f1')"
      ]
     },
     "execution_count": 255,
     "metadata": {},
     "output_type": "execute_result"
    },
    {
     "name": "stdout",
     "output_type": "stream",
     "text": [
      "Best parameters: {'criterion': 'entropy', 'max_depth': 5, 'min_samples_leaf': 1, 'min_samples_split': 2}\n",
      "Best accuracy: 0.940280\n"
     ]
    }
   ],
   "source": [
    "from sklearn.tree import DecisionTreeClassifier\n",
    "\n",
    "dt_model = DecisionTreeClassifier(random_state=0)\n",
    "parameters = {\n",
    "    'criterion': ['gini', 'entropy'],\n",
    "    'max_depth': range(3, 10),\n",
    "    'min_samples_split': range(2, 10),\n",
    "    'min_samples_leaf': range(1, 5),\n",
    "}\n",
    "kfold = KFold(n_splits=10, shuffle=True, random_state=0)\n",
    "clftree = GridSearchCV(dt_model, parameters, cv=kfold, scoring='f1', n_jobs=-1)\n",
    "clftree.fit(X_train, y_train)\n",
    "print(\"Best parameters: %s\" % clftree.best_params_)\n",
    "print(\"Best accuracy: %f\" % clftree.best_score_)\n"
   ]
  },
  {
   "cell_type": "code",
   "execution_count": 294,
   "id": "8943f7fe",
   "metadata": {},
   "outputs": [
    {
     "data": {
      "text/plain": [
       "DecisionTreeClassifier(criterion='entropy', max_depth=5, random_state=1)"
      ]
     },
     "execution_count": 294,
     "metadata": {},
     "output_type": "execute_result"
    }
   ],
   "source": [
    "DecisionTree = DecisionTreeClassifier(criterion='entropy',\n",
    "                                random_state=1,\n",
    "                                max_depth=5,\n",
    "                                min_samples_leaf=1,\n",
    "                                min_samples_split=2)\n",
    "DecisionTree.fit(X_train, y_train)"
   ]
  },
  {
   "cell_type": "markdown",
   "id": "459f015b",
   "metadata": {},
   "source": [
    "### 2.4.2 test"
   ]
  },
  {
   "cell_type": "code",
   "execution_count": 27,
   "id": "faba22f6",
   "metadata": {},
   "outputs": [
    {
     "data": {
      "text/html": [
       "<div>\n",
       "<style scoped>\n",
       "    .dataframe tbody tr th:only-of-type {\n",
       "        vertical-align: middle;\n",
       "    }\n",
       "\n",
       "    .dataframe tbody tr th {\n",
       "        vertical-align: top;\n",
       "    }\n",
       "\n",
       "    .dataframe thead th {\n",
       "        text-align: right;\n",
       "    }\n",
       "</style>\n",
       "<table border=\"1\" class=\"dataframe\">\n",
       "  <thead>\n",
       "    <tr style=\"text-align: right;\">\n",
       "      <th></th>\n",
       "      <th>event</th>\n",
       "      <th>var1</th>\n",
       "      <th>var2</th>\n",
       "      <th>var3</th>\n",
       "      <th>var4</th>\n",
       "      <th>var5</th>\n",
       "      <th>var6</th>\n",
       "      <th>var7</th>\n",
       "      <th>var8</th>\n",
       "      <th>split</th>\n",
       "      <th>id</th>\n",
       "    </tr>\n",
       "  </thead>\n",
       "  <tbody>\n",
       "    <tr>\n",
       "      <th>0</th>\n",
       "      <td>1</td>\n",
       "      <td>1.0</td>\n",
       "      <td>9.248254e+07</td>\n",
       "      <td>0.908051</td>\n",
       "      <td>13.0</td>\n",
       "      <td>0.133592</td>\n",
       "      <td>0.027241</td>\n",
       "      <td>NaN</td>\n",
       "      <td>73.041667</td>\n",
       "      <td>test</td>\n",
       "      <td>0</td>\n",
       "    </tr>\n",
       "    <tr>\n",
       "      <th>1</th>\n",
       "      <td>1</td>\n",
       "      <td>NaN</td>\n",
       "      <td>NaN</td>\n",
       "      <td>NaN</td>\n",
       "      <td>4.0</td>\n",
       "      <td>NaN</td>\n",
       "      <td>NaN</td>\n",
       "      <td>NaN</td>\n",
       "      <td>NaN</td>\n",
       "      <td>test</td>\n",
       "      <td>1</td>\n",
       "    </tr>\n",
       "    <tr>\n",
       "      <th>2</th>\n",
       "      <td>1</td>\n",
       "      <td>1.0</td>\n",
       "      <td>6.718715e+06</td>\n",
       "      <td>7.035461</td>\n",
       "      <td>13.0</td>\n",
       "      <td>41.878073</td>\n",
       "      <td>-7.422937</td>\n",
       "      <td>NaN</td>\n",
       "      <td>76.250000</td>\n",
       "      <td>test</td>\n",
       "      <td>2</td>\n",
       "    </tr>\n",
       "    <tr>\n",
       "      <th>3</th>\n",
       "      <td>1</td>\n",
       "      <td>1.0</td>\n",
       "      <td>3.576348e+06</td>\n",
       "      <td>0.483255</td>\n",
       "      <td>13.0</td>\n",
       "      <td>60.801780</td>\n",
       "      <td>NaN</td>\n",
       "      <td>NaN</td>\n",
       "      <td>80.083333</td>\n",
       "      <td>test</td>\n",
       "      <td>3</td>\n",
       "    </tr>\n",
       "    <tr>\n",
       "      <th>4</th>\n",
       "      <td>1</td>\n",
       "      <td>1.0</td>\n",
       "      <td>8.443072e+06</td>\n",
       "      <td>NaN</td>\n",
       "      <td>NaN</td>\n",
       "      <td>0.525225</td>\n",
       "      <td>NaN</td>\n",
       "      <td>NaN</td>\n",
       "      <td>87.625000</td>\n",
       "      <td>test</td>\n",
       "      <td>4</td>\n",
       "    </tr>\n",
       "  </tbody>\n",
       "</table>\n",
       "</div>"
      ],
      "text/plain": [
       "   event  var1          var2      var3  var4       var5      var6  var7  \\\n",
       "0      1   1.0  9.248254e+07  0.908051  13.0   0.133592  0.027241   NaN   \n",
       "1      1   NaN           NaN       NaN   4.0        NaN       NaN   NaN   \n",
       "2      1   1.0  6.718715e+06  7.035461  13.0  41.878073 -7.422937   NaN   \n",
       "3      1   1.0  3.576348e+06  0.483255  13.0  60.801780       NaN   NaN   \n",
       "4      1   1.0  8.443072e+06       NaN   NaN   0.525225       NaN   NaN   \n",
       "\n",
       "        var8 split  id  \n",
       "0  73.041667  test   0  \n",
       "1        NaN  test   1  \n",
       "2  76.250000  test   2  \n",
       "3  80.083333  test   3  \n",
       "4  87.625000  test   4  "
      ]
     },
     "execution_count": 27,
     "metadata": {},
     "output_type": "execute_result"
    }
   ],
   "source": [
    "df_test = pd.read_csv('test.csv')\n",
    "df_test.head(5)"
   ]
  },
  {
   "cell_type": "code",
   "execution_count": 28,
   "id": "8670e826",
   "metadata": {},
   "outputs": [],
   "source": [
    "y_exam = df_test.event\n",
    "\n",
    "colu_name = ['var1','var2','var3','var4','var8']\n",
    "x_exam = df_test.loc[:,colu_name]"
   ]
  },
  {
   "cell_type": "code",
   "execution_count": 297,
   "id": "1c848cea",
   "metadata": {},
   "outputs": [
    {
     "data": {
      "text/plain": [
       "1493"
      ]
     },
     "execution_count": 297,
     "metadata": {},
     "output_type": "execute_result"
    }
   ],
   "source": [
    "len(y_exam) - sum(y_exam)\n",
    "# the number of bad guys in test.csv"
   ]
  },
  {
   "cell_type": "code",
   "execution_count": 29,
   "id": "614dab60",
   "metadata": {},
   "outputs": [
    {
     "name": "stdout",
     "output_type": "stream",
     "text": [
      "[INFO] converting into woe values ...\n"
     ]
    }
   ],
   "source": [
    "x_exam_woe = sc.woebin_ply(x_exam, bins)"
   ]
  },
  {
   "cell_type": "code",
   "execution_count": 30,
   "id": "143aa202",
   "metadata": {},
   "outputs": [
    {
     "ename": "NameError",
     "evalue": "name 'DecisionTree' is not defined",
     "output_type": "error",
     "traceback": [
      "\u001b[1;31m---------------------------------------------------------------------------\u001b[0m",
      "\u001b[1;31mNameError\u001b[0m                                 Traceback (most recent call last)",
      "Cell \u001b[1;32mIn[30], line 1\u001b[0m\n\u001b[1;32m----> 1\u001b[0m pred_exam \u001b[39m=\u001b[39m DecisionTree\u001b[39m.\u001b[39mpredict(x_exam_woe)\n",
      "\u001b[1;31mNameError\u001b[0m: name 'DecisionTree' is not defined"
     ]
    }
   ],
   "source": [
    "pred_exam = DecisionTree.predict(x_exam_woe)"
   ]
  },
  {
   "cell_type": "code",
   "execution_count": 300,
   "id": "fbec9469",
   "metadata": {},
   "outputs": [
    {
     "data": {
      "text/plain": [
       "[<matplotlib.lines.Line2D at 0x1d41f238340>]"
      ]
     },
     "execution_count": 300,
     "metadata": {},
     "output_type": "execute_result"
    },
    {
     "data": {
      "text/plain": [
       "[<matplotlib.lines.Line2D at 0x1d41f238730>]"
      ]
     },
     "execution_count": 300,
     "metadata": {},
     "output_type": "execute_result"
    },
    {
     "data": {
      "text/plain": [
       "(-0.05, 1.05)"
      ]
     },
     "execution_count": 300,
     "metadata": {},
     "output_type": "execute_result"
    },
    {
     "data": {
      "text/plain": [
       "(-0.05, 1.05)"
      ]
     },
     "execution_count": 300,
     "metadata": {},
     "output_type": "execute_result"
    },
    {
     "data": {
      "text/plain": [
       "Text(0.5, 0, 'False positive rate')"
      ]
     },
     "execution_count": 300,
     "metadata": {},
     "output_type": "execute_result"
    },
    {
     "data": {
      "text/plain": [
       "Text(0, 0.5, 'True positive rate')"
      ]
     },
     "execution_count": 300,
     "metadata": {},
     "output_type": "execute_result"
    },
    {
     "data": {
      "text/plain": [
       "<matplotlib.legend.Legend at 0x1d41f238520>"
      ]
     },
     "execution_count": 300,
     "metadata": {},
     "output_type": "execute_result"
    },
    {
     "data": {
      "image/png": "[encoded data removed]",
      "text/plain": [
       "<Figure size 432x288 with 1 Axes>"
      ]
     },
     "metadata": {
      "needs_background": "light"
     },
     "output_type": "display_data"
    }
   ],
   "source": [
    "from sklearn.metrics import roc_curve, auc\n",
    "\n",
    "mean_tpr = 0.0\n",
    "mean_fpr = np.linspace(0, 1, 100)\n",
    "all_tpr = []\n",
    "\n",
    "\n",
    "probas = DecisionTree.predict_proba(x_exam_woe)\n",
    "\n",
    "fpr, tpr, thresholds = roc_curve(y_exam,\n",
    "                                     probas[:, 1],\n",
    "                                     pos_label=1)\n",
    "mean_tpr += interp(mean_fpr, fpr, tpr)\n",
    "mean_tpr[0] = 0.0\n",
    "roc_auc = auc(fpr, tpr)\n",
    "plt.plot(fpr,tpr,label='ROC (area = %0.2f)' % (roc_auc))\n",
    "\n",
    "plt.plot([0, 0, 1],\n",
    "         [0, 1, 1],\n",
    "         linestyle=':',\n",
    "         color='black',\n",
    "         label='Perfect performance')\n",
    "\n",
    "plt.xlim([-0.05, 1.05])\n",
    "plt.ylim([-0.05, 1.05])\n",
    "plt.xlabel('False positive rate')\n",
    "plt.ylabel('True positive rate')\n",
    "plt.legend(loc=\"lower right\")\n",
    "\n",
    "plt.tight_layout()\n",
    "plt.show()"
   ]
  },
  {
   "cell_type": "code",
   "execution_count": 301,
   "id": "97eb78fa",
   "metadata": {},
   "outputs": [
    {
     "data": {
      "text/plain": [
       "0.984377532998302"
      ]
     },
     "execution_count": 301,
     "metadata": {},
     "output_type": "execute_result"
    },
    {
     "data": {
      "text/plain": [
       "0.9693346061732737"
      ]
     },
     "execution_count": 301,
     "metadata": {},
     "output_type": "execute_result"
    },
    {
     "data": {
      "text/plain": [
       "0.9779442928102803"
      ]
     },
     "execution_count": 301,
     "metadata": {},
     "output_type": "execute_result"
    },
    {
     "data": {
      "text/plain": [
       "0.9908959736155009"
      ]
     },
     "execution_count": 301,
     "metadata": {},
     "output_type": "execute_result"
    }
   ],
   "source": [
    "from sklearn.metrics import f1_score\n",
    "from sklearn.metrics import accuracy_score\n",
    "from sklearn.metrics import recall_score\n",
    "from sklearn.metrics import precision_score\n",
    "\n",
    "f1_score(y_exam, pred_exam)\n",
    "accuracy_score(y_exam, pred_exam)\n",
    "precision_score(y_exam, pred_exam)\n",
    "recall_score(y_exam, pred_exam)\n"
   ]
  },
  {
   "cell_type": "markdown",
   "id": "9834f997",
   "metadata": {},
   "source": [
    "## 2.5 K-means"
   ]
  },
  {
   "cell_type": "markdown",
   "id": "e74e8918",
   "metadata": {},
   "source": [
    "### 2.5.1 train"
   ]
  },
  {
   "cell_type": "code",
   "execution_count": 16,
   "id": "d4915930",
   "metadata": {},
   "outputs": [],
   "source": [
    "# A utility class to test all of our models on different datasets\n",
    "\n",
    "from sklearn.model_selection import cross_validate\n",
    "\n",
    "class Tester():\n",
    "    def __init__(self, target):\n",
    "        self.target = target\n",
    "        self.datasets = {}\n",
    "        self.models = {}\n",
    "        self.cache = {} # we added a simple cache to speed things up\n",
    "\n",
    "    def addDataset(self, name, df):\n",
    "        self.datasets[name] = df.copy()\n",
    "\n",
    "    def addModel(self, name, model):\n",
    "        self.models[name] = model\n",
    "        \n",
    "    def clearModels(self):\n",
    "        self.models = {}\n",
    "\n",
    "    def clearCache(self):\n",
    "        self.cache = {}\n",
    "    \n",
    "    def testModelWithDataset(self, m_name, df_name, sample_len, cv):\n",
    "        if (m_name, df_name, sample_len, cv) in self.cache:\n",
    "            return self.cache[(m_name, df_name, sample_len, cv)]\n",
    "\n",
    "        clf = self.models[m_name]\n",
    "        \n",
    "        if not sample_len: \n",
    "            sample = self.datasets[df_name]\n",
    "        else: sample = self.datasets[df_name].sample(sample_len)\n",
    "            \n",
    "        X = sample.drop([self.target], axis=1)\n",
    "        Y = sample[self.target]\n",
    "\n",
    "        s = cross_validate(clf, X, Y, scoring=['roc_auc'], cv=cv, n_jobs=-1)\n",
    "        self.cache[(m_name, df_name, sample_len, cv)] = s\n",
    "\n",
    "        return s\n",
    "\n",
    "    def runTests(self, sample_len=80000, cv=5):\n",
    "        # Tests the added models on all the added datasets\n",
    "        scores = {}\n",
    "        for m_name in self.models:\n",
    "            for df_name in self.datasets:\n",
    "                # print('Testing %s' % str((m_name, df_name)), end='')\n",
    "                start = time.time()\n",
    "\n",
    "                score = self.testModelWithDataset(m_name, df_name, sample_len, cv)\n",
    "                scores[(m_name, df_name)] = score\n",
    "                \n",
    "                end = time.time()\n",
    "                \n",
    "                # print(' -- %0.2fs ' % (end - start))\n",
    "\n",
    "        print('--- Top 10 Results ---')\n",
    "        for score in sorted(scores.items(), key=lambda x: -1 * x[1]['test_roc_auc'].mean())[:10]:\n",
    "            auc = score[1]['test_roc_auc']\n",
    "            print(\"%s --> AUC: %0.4f (+/- %0.4f)\" % (str(score[0]), auc.mean(), auc.std()))\n",
    "\n",
    "            "
   ]
  },
  {
   "cell_type": "code",
   "execution_count": 17,
   "id": "5da6a261",
   "metadata": {},
   "outputs": [
    {
     "name": "stdout",
     "output_type": "stream",
     "text": [
      "--- Top 10 Results ---\n",
      "('KNN k=6', 'Drop Missing') --> AUC: 0.6038 (+/- 0.1989)\n",
      "('KNN k=9', 'Drop Missing') --> AUC: 0.5922 (+/- 0.1818)\n",
      "('KNN k=5', 'Drop Missing') --> AUC: 0.5459 (+/- 0.1310)\n",
      "('KNN k=8', 'Drop Missing') --> AUC: 0.5451 (+/- 0.1238)\n",
      "('KNN k=7', 'Drop Missing') --> AUC: 0.4337 (+/- 0.0204)\n"
     ]
    }
   ],
   "source": [
    "from sklearn.neighbors import KNeighborsClassifier\n",
    "import time\n",
    "from sklearn.model_selection import KFold, GridSearchCV\n",
    "tester = Tester('event')\n",
    "cv = KFold(n_splits=2, shuffle=True, random_state=1)\n",
    "tester.addDataset('Drop Missing', df.dropna())\n",
    "tester.clearModels()\n",
    "\n",
    "for i in range(5, 10):\n",
    "    neigh = KNeighborsClassifier(n_neighbors=i)\n",
    "    tester.addModel('KNN k=%d' % i, neigh)\n",
    "    \n",
    "tester.runTests(500)"
   ]
  },
  {
   "cell_type": "code",
   "execution_count": 375,
   "id": "27ce1c90",
   "metadata": {},
   "outputs": [],
   "source": [
    "### 2.5.2 test"
   ]
  },
  {
   "cell_type": "code",
   "execution_count": 376,
   "id": "971ae8da",
   "metadata": {},
   "outputs": [
    {
     "data": {
      "text/html": [
       "<div>\n",
       "<style scoped>\n",
       "    .dataframe tbody tr th:only-of-type {\n",
       "        vertical-align: middle;\n",
       "    }\n",
       "\n",
       "    .dataframe tbody tr th {\n",
       "        vertical-align: top;\n",
       "    }\n",
       "\n",
       "    .dataframe thead th {\n",
       "        text-align: right;\n",
       "    }\n",
       "</style>\n",
       "<table border=\"1\" class=\"dataframe\">\n",
       "  <thead>\n",
       "    <tr style=\"text-align: right;\">\n",
       "      <th></th>\n",
       "      <th>event</th>\n",
       "      <th>var1</th>\n",
       "      <th>var2</th>\n",
       "      <th>var3</th>\n",
       "      <th>var4</th>\n",
       "      <th>var5</th>\n",
       "      <th>var6</th>\n",
       "      <th>var7</th>\n",
       "      <th>var8</th>\n",
       "      <th>split</th>\n",
       "      <th>id</th>\n",
       "    </tr>\n",
       "  </thead>\n",
       "  <tbody>\n",
       "    <tr>\n",
       "      <th>0</th>\n",
       "      <td>1</td>\n",
       "      <td>1.0</td>\n",
       "      <td>9.248254e+07</td>\n",
       "      <td>0.908051</td>\n",
       "      <td>13.0</td>\n",
       "      <td>0.133592</td>\n",
       "      <td>0.027241</td>\n",
       "      <td>NaN</td>\n",
       "      <td>73.041667</td>\n",
       "      <td>test</td>\n",
       "      <td>0</td>\n",
       "    </tr>\n",
       "    <tr>\n",
       "      <th>1</th>\n",
       "      <td>1</td>\n",
       "      <td>NaN</td>\n",
       "      <td>NaN</td>\n",
       "      <td>NaN</td>\n",
       "      <td>4.0</td>\n",
       "      <td>NaN</td>\n",
       "      <td>NaN</td>\n",
       "      <td>NaN</td>\n",
       "      <td>NaN</td>\n",
       "      <td>test</td>\n",
       "      <td>1</td>\n",
       "    </tr>\n",
       "    <tr>\n",
       "      <th>2</th>\n",
       "      <td>1</td>\n",
       "      <td>1.0</td>\n",
       "      <td>6.718715e+06</td>\n",
       "      <td>7.035461</td>\n",
       "      <td>13.0</td>\n",
       "      <td>41.878073</td>\n",
       "      <td>-7.422937</td>\n",
       "      <td>NaN</td>\n",
       "      <td>76.250000</td>\n",
       "      <td>test</td>\n",
       "      <td>2</td>\n",
       "    </tr>\n",
       "    <tr>\n",
       "      <th>3</th>\n",
       "      <td>1</td>\n",
       "      <td>1.0</td>\n",
       "      <td>3.576348e+06</td>\n",
       "      <td>0.483255</td>\n",
       "      <td>13.0</td>\n",
       "      <td>60.801780</td>\n",
       "      <td>NaN</td>\n",
       "      <td>NaN</td>\n",
       "      <td>80.083333</td>\n",
       "      <td>test</td>\n",
       "      <td>3</td>\n",
       "    </tr>\n",
       "    <tr>\n",
       "      <th>4</th>\n",
       "      <td>1</td>\n",
       "      <td>1.0</td>\n",
       "      <td>8.443072e+06</td>\n",
       "      <td>NaN</td>\n",
       "      <td>NaN</td>\n",
       "      <td>0.525225</td>\n",
       "      <td>NaN</td>\n",
       "      <td>NaN</td>\n",
       "      <td>87.625000</td>\n",
       "      <td>test</td>\n",
       "      <td>4</td>\n",
       "    </tr>\n",
       "    <tr>\n",
       "      <th>...</th>\n",
       "      <td>...</td>\n",
       "      <td>...</td>\n",
       "      <td>...</td>\n",
       "      <td>...</td>\n",
       "      <td>...</td>\n",
       "      <td>...</td>\n",
       "      <td>...</td>\n",
       "      <td>...</td>\n",
       "      <td>...</td>\n",
       "      <td>...</td>\n",
       "      <td>...</td>\n",
       "    </tr>\n",
       "    <tr>\n",
       "      <th>59704</th>\n",
       "      <td>1</td>\n",
       "      <td>1.0</td>\n",
       "      <td>1.060430e+06</td>\n",
       "      <td>NaN</td>\n",
       "      <td>NaN</td>\n",
       "      <td>NaN</td>\n",
       "      <td>NaN</td>\n",
       "      <td>NaN</td>\n",
       "      <td>NaN</td>\n",
       "      <td>test</td>\n",
       "      <td>59704</td>\n",
       "    </tr>\n",
       "    <tr>\n",
       "      <th>59705</th>\n",
       "      <td>1</td>\n",
       "      <td>NaN</td>\n",
       "      <td>NaN</td>\n",
       "      <td>NaN</td>\n",
       "      <td>NaN</td>\n",
       "      <td>NaN</td>\n",
       "      <td>NaN</td>\n",
       "      <td>NaN</td>\n",
       "      <td>NaN</td>\n",
       "      <td>test</td>\n",
       "      <td>59705</td>\n",
       "    </tr>\n",
       "    <tr>\n",
       "      <th>59706</th>\n",
       "      <td>1</td>\n",
       "      <td>1.0</td>\n",
       "      <td>1.593264e+07</td>\n",
       "      <td>NaN</td>\n",
       "      <td>NaN</td>\n",
       "      <td>NaN</td>\n",
       "      <td>NaN</td>\n",
       "      <td>NaN</td>\n",
       "      <td>NaN</td>\n",
       "      <td>test</td>\n",
       "      <td>59706</td>\n",
       "    </tr>\n",
       "    <tr>\n",
       "      <th>59707</th>\n",
       "      <td>1</td>\n",
       "      <td>NaN</td>\n",
       "      <td>NaN</td>\n",
       "      <td>NaN</td>\n",
       "      <td>NaN</td>\n",
       "      <td>NaN</td>\n",
       "      <td>NaN</td>\n",
       "      <td>NaN</td>\n",
       "      <td>NaN</td>\n",
       "      <td>test</td>\n",
       "      <td>59707</td>\n",
       "    </tr>\n",
       "    <tr>\n",
       "      <th>59708</th>\n",
       "      <td>1</td>\n",
       "      <td>1.0</td>\n",
       "      <td>9.928336e+05</td>\n",
       "      <td>NaN</td>\n",
       "      <td>NaN</td>\n",
       "      <td>NaN</td>\n",
       "      <td>NaN</td>\n",
       "      <td>NaN</td>\n",
       "      <td>NaN</td>\n",
       "      <td>test</td>\n",
       "      <td>59708</td>\n",
       "    </tr>\n",
       "  </tbody>\n",
       "</table>\n",
       "<p>59709 rows × 11 columns</p>\n",
       "</div>"
      ],
      "text/plain": [
       "       event  var1          var2      var3  var4       var5      var6  var7  \\\n",
       "0          1   1.0  9.248254e+07  0.908051  13.0   0.133592  0.027241   NaN   \n",
       "1          1   NaN           NaN       NaN   4.0        NaN       NaN   NaN   \n",
       "2          1   1.0  6.718715e+06  7.035461  13.0  41.878073 -7.422937   NaN   \n",
       "3          1   1.0  3.576348e+06  0.483255  13.0  60.801780       NaN   NaN   \n",
       "4          1   1.0  8.443072e+06       NaN   NaN   0.525225       NaN   NaN   \n",
       "...      ...   ...           ...       ...   ...        ...       ...   ...   \n",
       "59704      1   1.0  1.060430e+06       NaN   NaN        NaN       NaN   NaN   \n",
       "59705      1   NaN           NaN       NaN   NaN        NaN       NaN   NaN   \n",
       "59706      1   1.0  1.593264e+07       NaN   NaN        NaN       NaN   NaN   \n",
       "59707      1   NaN           NaN       NaN   NaN        NaN       NaN   NaN   \n",
       "59708      1   1.0  9.928336e+05       NaN   NaN        NaN       NaN   NaN   \n",
       "\n",
       "            var8 split     id  \n",
       "0      73.041667  test      0  \n",
       "1            NaN  test      1  \n",
       "2      76.250000  test      2  \n",
       "3      80.083333  test      3  \n",
       "4      87.625000  test      4  \n",
       "...          ...   ...    ...  \n",
       "59704        NaN  test  59704  \n",
       "59705        NaN  test  59705  \n",
       "59706        NaN  test  59706  \n",
       "59707        NaN  test  59707  \n",
       "59708        NaN  test  59708  \n",
       "\n",
       "[59709 rows x 11 columns]"
      ]
     },
     "execution_count": 376,
     "metadata": {},
     "output_type": "execute_result"
    }
   ],
   "source": [
    "df_test = pd.read_csv('test.csv')\n",
    "df_test"
   ]
  },
  {
   "cell_type": "code",
   "execution_count": 377,
   "id": "547e251a",
   "metadata": {},
   "outputs": [
    {
     "data": {
      "text/html": [
       "<div>\n",
       "<style scoped>\n",
       "    .dataframe tbody tr th:only-of-type {\n",
       "        vertical-align: middle;\n",
       "    }\n",
       "\n",
       "    .dataframe tbody tr th {\n",
       "        vertical-align: top;\n",
       "    }\n",
       "\n",
       "    .dataframe thead th {\n",
       "        text-align: right;\n",
       "    }\n",
       "</style>\n",
       "<table border=\"1\" class=\"dataframe\">\n",
       "  <thead>\n",
       "    <tr style=\"text-align: right;\">\n",
       "      <th></th>\n",
       "      <th>event</th>\n",
       "      <th>var1</th>\n",
       "      <th>var2</th>\n",
       "      <th>var3</th>\n",
       "      <th>var4</th>\n",
       "      <th>var5</th>\n",
       "      <th>var6</th>\n",
       "      <th>var7</th>\n",
       "      <th>var8</th>\n",
       "    </tr>\n",
       "  </thead>\n",
       "  <tbody>\n",
       "    <tr>\n",
       "      <th>0</th>\n",
       "      <td>1</td>\n",
       "      <td>1.000000</td>\n",
       "      <td>9.248254e+07</td>\n",
       "      <td>0.908051</td>\n",
       "      <td>13.000000</td>\n",
       "      <td>0.133592</td>\n",
       "      <td>0.027241</td>\n",
       "      <td>20.713762</td>\n",
       "      <td>73.041667</td>\n",
       "    </tr>\n",
       "    <tr>\n",
       "      <th>1</th>\n",
       "      <td>1</td>\n",
       "      <td>1.879949</td>\n",
       "      <td>6.126271e+06</td>\n",
       "      <td>16.838853</td>\n",
       "      <td>4.000000</td>\n",
       "      <td>301.994295</td>\n",
       "      <td>16.551022</td>\n",
       "      <td>20.713762</td>\n",
       "      <td>58.518438</td>\n",
       "    </tr>\n",
       "    <tr>\n",
       "      <th>2</th>\n",
       "      <td>1</td>\n",
       "      <td>1.000000</td>\n",
       "      <td>6.718715e+06</td>\n",
       "      <td>7.035461</td>\n",
       "      <td>13.000000</td>\n",
       "      <td>41.878073</td>\n",
       "      <td>-7.422937</td>\n",
       "      <td>20.713762</td>\n",
       "      <td>76.250000</td>\n",
       "    </tr>\n",
       "    <tr>\n",
       "      <th>3</th>\n",
       "      <td>1</td>\n",
       "      <td>1.000000</td>\n",
       "      <td>3.576348e+06</td>\n",
       "      <td>0.483255</td>\n",
       "      <td>13.000000</td>\n",
       "      <td>60.801780</td>\n",
       "      <td>16.551022</td>\n",
       "      <td>20.713762</td>\n",
       "      <td>80.083333</td>\n",
       "    </tr>\n",
       "    <tr>\n",
       "      <th>4</th>\n",
       "      <td>1</td>\n",
       "      <td>1.000000</td>\n",
       "      <td>8.443072e+06</td>\n",
       "      <td>16.838853</td>\n",
       "      <td>11.602955</td>\n",
       "      <td>0.525225</td>\n",
       "      <td>16.551022</td>\n",
       "      <td>20.713762</td>\n",
       "      <td>87.625000</td>\n",
       "    </tr>\n",
       "    <tr>\n",
       "      <th>...</th>\n",
       "      <td>...</td>\n",
       "      <td>...</td>\n",
       "      <td>...</td>\n",
       "      <td>...</td>\n",
       "      <td>...</td>\n",
       "      <td>...</td>\n",
       "      <td>...</td>\n",
       "      <td>...</td>\n",
       "      <td>...</td>\n",
       "    </tr>\n",
       "    <tr>\n",
       "      <th>59704</th>\n",
       "      <td>1</td>\n",
       "      <td>1.000000</td>\n",
       "      <td>1.060430e+06</td>\n",
       "      <td>16.838853</td>\n",
       "      <td>11.602955</td>\n",
       "      <td>301.994295</td>\n",
       "      <td>16.551022</td>\n",
       "      <td>20.713762</td>\n",
       "      <td>58.518438</td>\n",
       "    </tr>\n",
       "    <tr>\n",
       "      <th>59705</th>\n",
       "      <td>1</td>\n",
       "      <td>1.879949</td>\n",
       "      <td>6.126271e+06</td>\n",
       "      <td>16.838853</td>\n",
       "      <td>11.602955</td>\n",
       "      <td>301.994295</td>\n",
       "      <td>16.551022</td>\n",
       "      <td>20.713762</td>\n",
       "      <td>58.518438</td>\n",
       "    </tr>\n",
       "    <tr>\n",
       "      <th>59706</th>\n",
       "      <td>1</td>\n",
       "      <td>1.000000</td>\n",
       "      <td>1.593264e+07</td>\n",
       "      <td>16.838853</td>\n",
       "      <td>11.602955</td>\n",
       "      <td>301.994295</td>\n",
       "      <td>16.551022</td>\n",
       "      <td>20.713762</td>\n",
       "      <td>58.518438</td>\n",
       "    </tr>\n",
       "    <tr>\n",
       "      <th>59707</th>\n",
       "      <td>1</td>\n",
       "      <td>1.879949</td>\n",
       "      <td>6.126271e+06</td>\n",
       "      <td>16.838853</td>\n",
       "      <td>11.602955</td>\n",
       "      <td>301.994295</td>\n",
       "      <td>16.551022</td>\n",
       "      <td>20.713762</td>\n",
       "      <td>58.518438</td>\n",
       "    </tr>\n",
       "    <tr>\n",
       "      <th>59708</th>\n",
       "      <td>1</td>\n",
       "      <td>1.000000</td>\n",
       "      <td>9.928336e+05</td>\n",
       "      <td>16.838853</td>\n",
       "      <td>11.602955</td>\n",
       "      <td>301.994295</td>\n",
       "      <td>16.551022</td>\n",
       "      <td>20.713762</td>\n",
       "      <td>58.518438</td>\n",
       "    </tr>\n",
       "  </tbody>\n",
       "</table>\n",
       "<p>59709 rows × 9 columns</p>\n",
       "</div>"
      ],
      "text/plain": [
       "       event      var1          var2       var3       var4        var5  \\\n",
       "0          1  1.000000  9.248254e+07   0.908051  13.000000    0.133592   \n",
       "1          1  1.879949  6.126271e+06  16.838853   4.000000  301.994295   \n",
       "2          1  1.000000  6.718715e+06   7.035461  13.000000   41.878073   \n",
       "3          1  1.000000  3.576348e+06   0.483255  13.000000   60.801780   \n",
       "4          1  1.000000  8.443072e+06  16.838853  11.602955    0.525225   \n",
       "...      ...       ...           ...        ...        ...         ...   \n",
       "59704      1  1.000000  1.060430e+06  16.838853  11.602955  301.994295   \n",
       "59705      1  1.879949  6.126271e+06  16.838853  11.602955  301.994295   \n",
       "59706      1  1.000000  1.593264e+07  16.838853  11.602955  301.994295   \n",
       "59707      1  1.879949  6.126271e+06  16.838853  11.602955  301.994295   \n",
       "59708      1  1.000000  9.928336e+05  16.838853  11.602955  301.994295   \n",
       "\n",
       "            var6       var7       var8  \n",
       "0       0.027241  20.713762  73.041667  \n",
       "1      16.551022  20.713762  58.518438  \n",
       "2      -7.422937  20.713762  76.250000  \n",
       "3      16.551022  20.713762  80.083333  \n",
       "4      16.551022  20.713762  87.625000  \n",
       "...          ...        ...        ...  \n",
       "59704  16.551022  20.713762  58.518438  \n",
       "59705  16.551022  20.713762  58.518438  \n",
       "59706  16.551022  20.713762  58.518438  \n",
       "59707  16.551022  20.713762  58.518438  \n",
       "59708  16.551022  20.713762  58.518438  \n",
       "\n",
       "[59709 rows x 9 columns]"
      ]
     },
     "execution_count": 377,
     "metadata": {},
     "output_type": "execute_result"
    }
   ],
   "source": [
    "\n",
    "df_test.drop(columns=['split','id'], inplace=True)\n",
    "\n",
    "colu_name = ['event','var1','var2','var3','var4','var8']\n",
    "#df_test = df_test.loc[:,colu_name]\n",
    "#Get rid of two unhelpful variables\n",
    "#fill all null value and show the dataset\n",
    "\n",
    "df_test=df_test.fillna(df_test.mean())\n",
    "\n",
    "df_test"
   ]
  },
  {
   "cell_type": "code",
   "execution_count": 396,
   "id": "c9379d54",
   "metadata": {},
   "outputs": [],
   "source": [
    "from sklearn.neighbors import KNeighborsClassifier\n",
    "import time\n",
    "from sklearn.model_selection import KFold, GridSearchCV\n",
    "tester = Tester('event')\n",
    "cv = KFold(n_splits=2, shuffle=True, random_state=2)\n",
    "tester.addDataset('test', df_test.dropna())\n",
    "tester.clearModels()\n"
   ]
  },
  {
   "cell_type": "code",
   "execution_count": 397,
   "id": "27efaa84",
   "metadata": {},
   "outputs": [
    {
     "name": "stdout",
     "output_type": "stream",
     "text": [
      "--- Top 10 Results ---\n",
      "('KNN k=7', 'test') --> AUC: 0.7746 (+/- 0.1839)\n",
      "('KNN k=8', 'test') --> AUC: 0.7173 (+/- 0.1217)\n",
      "('KNN k=1', 'test') --> AUC: 0.5474 (+/- 0.1117)\n",
      "('KNN k=3', 'test') --> AUC: 0.5458 (+/- 0.1207)\n",
      "('KNN k=5', 'test') --> AUC: 0.5188 (+/- 0.1182)\n",
      "('KNN k=9', 'test') --> AUC: 0.5144 (+/- 0.1747)\n",
      "('KNN k=2', 'test') --> AUC: 0.4967 (+/- 0.0041)\n",
      "('KNN k=4', 'test') --> AUC: 0.4820 (+/- 0.1943)\n",
      "('KNN k=6', 'test') --> AUC: 0.4737 (+/- 0.0159)\n"
     ]
    }
   ],
   "source": [
    "for i in range(1, 10):\n",
    "    neigh = KNeighborsClassifier(n_neighbors=i)\n",
    "    tester.addModel('KNN k=%d' % i, neigh)\n",
    "    \n",
    "tester.runTests(310)"
   ]
  },
  {
   "cell_type": "code",
   "execution_count": 398,
   "id": "3081e38d",
   "metadata": {},
   "outputs": [
    {
     "data": {
      "text/plain": [
       "0.9830001452979035"
      ]
     },
     "execution_count": 398,
     "metadata": {},
     "output_type": "execute_result"
    },
    {
     "data": {
      "text/plain": [
       "0.9666884389288047"
      ]
     },
     "execution_count": 398,
     "metadata": {},
     "output_type": "execute_result"
    },
    {
     "data": {
      "text/plain": [
       "0.9782427490005954"
      ]
     },
     "execution_count": 398,
     "metadata": {},
     "output_type": "execute_result"
    },
    {
     "data": {
      "text/plain": [
       "0.9878040401264258"
      ]
     },
     "execution_count": 398,
     "metadata": {},
     "output_type": "execute_result"
    }
   ],
   "source": [
    "from sklearn.metrics import f1_score\n",
    "from sklearn.metrics import accuracy_score\n",
    "from sklearn.metrics import recall_score\n",
    "from sklearn.metrics import precision_score\n",
    "\n",
    "f1_score(y_exam, pred_exam)\n",
    "accuracy_score(y_exam, pred_exam)\n",
    "precision_score(y_exam, pred_exam)\n",
    "recall_score(y_exam, pred_exam)"
   ]
  },
  {
   "cell_type": "markdown",
   "id": "aa935e0e",
   "metadata": {},
   "source": [
    "## 2.6 Deep Learning"
   ]
  },
  {
   "cell_type": "markdown",
   "id": "42362bf0",
   "metadata": {},
   "source": [
    "### 2.6.1 Train"
   ]
  },
  {
   "cell_type": "code",
   "execution_count": 22,
   "id": "0f304b63",
   "metadata": {},
   "outputs": [],
   "source": [
    "from sklearn.model_selection import train_test_split\n",
    "\n",
    "X_train_dl, X_test_dl, y_train_dl, y_test_dl = \\\n",
    "    train_test_split(X_train, y_train, \n",
    "                     test_size=0.20,\n",
    "                     stratify=y_train,\n",
    "                     random_state=1)"
   ]
  },
  {
   "cell_type": "code",
   "execution_count": 23,
   "id": "9f361797",
   "metadata": {},
   "outputs": [],
   "source": [
    "from keras import models\n",
    "from keras import layers\n",
    "\n",
    "n_inputs = X_train_dl.shape[1]\n",
    "\n",
    "model = models.Sequential()\n",
    "model.add(layers.Dense(16, activation ='relu', input_shape =(n_inputs, )))\n",
    "model.add(layers.Dense(32,activation = 'relu'))\n",
    "model.add(layers.Dense(1,activation ='sigmoid'))"
   ]
  },
  {
   "cell_type": "code",
   "execution_count": 24,
   "id": "77e60db0",
   "metadata": {},
   "outputs": [],
   "source": [
    "model.compile(optimizer = 'rmsprop',\n",
    "             loss= 'binary_crossentropy',\n",
    "             metrics = ['accuracy'])"
   ]
  },
  {
   "cell_type": "code",
   "execution_count": 25,
   "id": "13a76132",
   "metadata": {},
   "outputs": [
    {
     "name": "stdout",
     "output_type": "stream",
     "text": [
      "Epoch 1/150\n",
      "72/72 [==============================] - 1s 9ms/step - loss: 0.4961 - accuracy: 0.8524 - val_loss: 0.3612 - val_accuracy: 0.8817\n",
      "Epoch 2/150\n",
      "72/72 [==============================] - 0s 2ms/step - loss: 0.3229 - accuracy: 0.8881 - val_loss: 0.3117 - val_accuracy: 0.8874\n",
      "Epoch 3/150\n",
      "72/72 [==============================] - 0s 2ms/step - loss: 0.3057 - accuracy: 0.8897 - val_loss: 0.3070 - val_accuracy: 0.8879\n",
      "Epoch 4/150\n",
      "72/72 [==============================] - 0s 2ms/step - loss: 0.3028 - accuracy: 0.8898 - val_loss: 0.3058 - val_accuracy: 0.8878\n",
      "Epoch 5/150\n",
      "72/72 [==============================] - 0s 2ms/step - loss: 0.3018 - accuracy: 0.8899 - val_loss: 0.3054 - val_accuracy: 0.8875\n",
      "Epoch 6/150\n",
      "72/72 [==============================] - 0s 2ms/step - loss: 0.3012 - accuracy: 0.8898 - val_loss: 0.3054 - val_accuracy: 0.8878\n",
      "Epoch 7/150\n",
      "72/72 [==============================] - 0s 2ms/step - loss: 0.3010 - accuracy: 0.8898 - val_loss: 0.3049 - val_accuracy: 0.8878\n",
      "Epoch 8/150\n",
      "72/72 [==============================] - 0s 2ms/step - loss: 0.3006 - accuracy: 0.8899 - val_loss: 0.3048 - val_accuracy: 0.8878\n",
      "Epoch 9/150\n",
      "72/72 [==============================] - 0s 2ms/step - loss: 0.3005 - accuracy: 0.8902 - val_loss: 0.3046 - val_accuracy: 0.8875\n",
      "Epoch 10/150\n",
      "72/72 [==============================] - 0s 2ms/step - loss: 0.3004 - accuracy: 0.8900 - val_loss: 0.3047 - val_accuracy: 0.8876\n",
      "Epoch 11/150\n",
      "72/72 [==============================] - 0s 2ms/step - loss: 0.3003 - accuracy: 0.8901 - val_loss: 0.3044 - val_accuracy: 0.8876\n",
      "Epoch 12/150\n",
      "72/72 [==============================] - 0s 2ms/step - loss: 0.3001 - accuracy: 0.8899 - val_loss: 0.3049 - val_accuracy: 0.8879\n",
      "Epoch 13/150\n",
      "72/72 [==============================] - 0s 2ms/step - loss: 0.3000 - accuracy: 0.8900 - val_loss: 0.3041 - val_accuracy: 0.8876\n",
      "Epoch 14/150\n",
      "72/72 [==============================] - 0s 2ms/step - loss: 0.2999 - accuracy: 0.8899 - val_loss: 0.3042 - val_accuracy: 0.8876\n",
      "Epoch 15/150\n",
      "72/72 [==============================] - 0s 2ms/step - loss: 0.2998 - accuracy: 0.8900 - val_loss: 0.3044 - val_accuracy: 0.8879\n",
      "Epoch 16/150\n",
      "72/72 [==============================] - 0s 2ms/step - loss: 0.2997 - accuracy: 0.8900 - val_loss: 0.3042 - val_accuracy: 0.8878\n",
      "Epoch 17/150\n",
      "72/72 [==============================] - 0s 2ms/step - loss: 0.2995 - accuracy: 0.8898 - val_loss: 0.3038 - val_accuracy: 0.8875\n",
      "Epoch 18/150\n",
      "72/72 [==============================] - 0s 2ms/step - loss: 0.2996 - accuracy: 0.8899 - val_loss: 0.3038 - val_accuracy: 0.8880\n",
      "Epoch 19/150\n",
      "72/72 [==============================] - 0s 2ms/step - loss: 0.2994 - accuracy: 0.8902 - val_loss: 0.3037 - val_accuracy: 0.8878\n",
      "Epoch 20/150\n",
      "72/72 [==============================] - 0s 2ms/step - loss: 0.2993 - accuracy: 0.8898 - val_loss: 0.3036 - val_accuracy: 0.8876\n",
      "Epoch 21/150\n",
      "72/72 [==============================] - 0s 2ms/step - loss: 0.2992 - accuracy: 0.8900 - val_loss: 0.3037 - val_accuracy: 0.8880\n",
      "Epoch 22/150\n",
      "72/72 [==============================] - 0s 2ms/step - loss: 0.2991 - accuracy: 0.8902 - val_loss: 0.3040 - val_accuracy: 0.8887\n",
      "Epoch 23/150\n",
      "72/72 [==============================] - 0s 2ms/step - loss: 0.2990 - accuracy: 0.8899 - val_loss: 0.3034 - val_accuracy: 0.8880\n",
      "Epoch 24/150\n",
      "72/72 [==============================] - 0s 2ms/step - loss: 0.2991 - accuracy: 0.8899 - val_loss: 0.3033 - val_accuracy: 0.8881\n",
      "Epoch 25/150\n",
      "72/72 [==============================] - 0s 2ms/step - loss: 0.2990 - accuracy: 0.8900 - val_loss: 0.3038 - val_accuracy: 0.8878\n",
      "Epoch 26/150\n",
      "72/72 [==============================] - 0s 2ms/step - loss: 0.2989 - accuracy: 0.8899 - val_loss: 0.3032 - val_accuracy: 0.8875\n",
      "Epoch 27/150\n",
      "72/72 [==============================] - 0s 2ms/step - loss: 0.2989 - accuracy: 0.8901 - val_loss: 0.3035 - val_accuracy: 0.8876\n",
      "Epoch 28/150\n",
      "72/72 [==============================] - 0s 2ms/step - loss: 0.2988 - accuracy: 0.8899 - val_loss: 0.3032 - val_accuracy: 0.8876\n",
      "Epoch 29/150\n",
      "72/72 [==============================] - 0s 2ms/step - loss: 0.2987 - accuracy: 0.8897 - val_loss: 0.3031 - val_accuracy: 0.8876\n",
      "Epoch 30/150\n",
      "72/72 [==============================] - 0s 2ms/step - loss: 0.2986 - accuracy: 0.8902 - val_loss: 0.3029 - val_accuracy: 0.8879\n",
      "Epoch 31/150\n",
      "72/72 [==============================] - 0s 2ms/step - loss: 0.2986 - accuracy: 0.8900 - val_loss: 0.3032 - val_accuracy: 0.8876\n",
      "Epoch 32/150\n",
      "72/72 [==============================] - 0s 2ms/step - loss: 0.2986 - accuracy: 0.8901 - val_loss: 0.3029 - val_accuracy: 0.8875\n",
      "Epoch 33/150\n",
      "72/72 [==============================] - 0s 3ms/step - loss: 0.2986 - accuracy: 0.8902 - val_loss: 0.3028 - val_accuracy: 0.8879\n",
      "Epoch 34/150\n",
      "72/72 [==============================] - 0s 4ms/step - loss: 0.2985 - accuracy: 0.8902 - val_loss: 0.3032 - val_accuracy: 0.8879\n",
      "Epoch 35/150\n",
      "72/72 [==============================] - 0s 2ms/step - loss: 0.2984 - accuracy: 0.8899 - val_loss: 0.3029 - val_accuracy: 0.8878\n",
      "Epoch 36/150\n",
      "72/72 [==============================] - 0s 3ms/step - loss: 0.2984 - accuracy: 0.8901 - val_loss: 0.3029 - val_accuracy: 0.8875\n",
      "Epoch 37/150\n",
      "72/72 [==============================] - 0s 2ms/step - loss: 0.2984 - accuracy: 0.8900 - val_loss: 0.3032 - val_accuracy: 0.8883\n",
      "Epoch 38/150\n",
      "72/72 [==============================] - 0s 2ms/step - loss: 0.2984 - accuracy: 0.8902 - val_loss: 0.3029 - val_accuracy: 0.8881\n",
      "Epoch 39/150\n",
      "72/72 [==============================] - 0s 2ms/step - loss: 0.2982 - accuracy: 0.8903 - val_loss: 0.3031 - val_accuracy: 0.8882\n",
      "Epoch 40/150\n",
      "72/72 [==============================] - 0s 2ms/step - loss: 0.2983 - accuracy: 0.8899 - val_loss: 0.3029 - val_accuracy: 0.8881\n",
      "Epoch 41/150\n",
      "72/72 [==============================] - 0s 2ms/step - loss: 0.2981 - accuracy: 0.8902 - val_loss: 0.3029 - val_accuracy: 0.8885\n",
      "Epoch 42/150\n",
      "72/72 [==============================] - 0s 2ms/step - loss: 0.2982 - accuracy: 0.8903 - val_loss: 0.3028 - val_accuracy: 0.8883\n",
      "Epoch 43/150\n",
      "72/72 [==============================] - 0s 2ms/step - loss: 0.2981 - accuracy: 0.8902 - val_loss: 0.3025 - val_accuracy: 0.8881\n",
      "Epoch 44/150\n",
      "72/72 [==============================] - 0s 2ms/step - loss: 0.2980 - accuracy: 0.8902 - val_loss: 0.3025 - val_accuracy: 0.8885\n",
      "Epoch 45/150\n",
      "72/72 [==============================] - 0s 2ms/step - loss: 0.2980 - accuracy: 0.8904 - val_loss: 0.3024 - val_accuracy: 0.8883\n",
      "Epoch 46/150\n",
      "72/72 [==============================] - 0s 2ms/step - loss: 0.2980 - accuracy: 0.8903 - val_loss: 0.3030 - val_accuracy: 0.8882\n",
      "Epoch 47/150\n",
      "72/72 [==============================] - 0s 2ms/step - loss: 0.2979 - accuracy: 0.8908 - val_loss: 0.3025 - val_accuracy: 0.8882\n",
      "Epoch 48/150\n",
      "72/72 [==============================] - 0s 2ms/step - loss: 0.2980 - accuracy: 0.8903 - val_loss: 0.3026 - val_accuracy: 0.8880\n",
      "Epoch 49/150\n",
      "72/72 [==============================] - 0s 2ms/step - loss: 0.2978 - accuracy: 0.8901 - val_loss: 0.3033 - val_accuracy: 0.8898\n",
      "Epoch 50/150\n",
      "72/72 [==============================] - 0s 3ms/step - loss: 0.2979 - accuracy: 0.8904 - val_loss: 0.3029 - val_accuracy: 0.8882\n",
      "Epoch 51/150\n",
      "72/72 [==============================] - 0s 2ms/step - loss: 0.2978 - accuracy: 0.8903 - val_loss: 0.3025 - val_accuracy: 0.8885\n",
      "Epoch 52/150\n",
      "72/72 [==============================] - 0s 2ms/step - loss: 0.2978 - accuracy: 0.8908 - val_loss: 0.3025 - val_accuracy: 0.8882\n",
      "Epoch 53/150\n",
      "72/72 [==============================] - 0s 2ms/step - loss: 0.2977 - accuracy: 0.8901 - val_loss: 0.3030 - val_accuracy: 0.8881\n",
      "Epoch 54/150\n",
      "72/72 [==============================] - 0s 2ms/step - loss: 0.2977 - accuracy: 0.8908 - val_loss: 0.3025 - val_accuracy: 0.8890\n",
      "Epoch 55/150\n",
      "72/72 [==============================] - 0s 2ms/step - loss: 0.2977 - accuracy: 0.8906 - val_loss: 0.3031 - val_accuracy: 0.8895\n",
      "Epoch 56/150\n",
      "72/72 [==============================] - 0s 2ms/step - loss: 0.2976 - accuracy: 0.8905 - val_loss: 0.3026 - val_accuracy: 0.8881\n",
      "Epoch 57/150\n",
      "72/72 [==============================] - 0s 2ms/step - loss: 0.2976 - accuracy: 0.8905 - val_loss: 0.3032 - val_accuracy: 0.8894\n",
      "Epoch 58/150\n",
      "72/72 [==============================] - 0s 2ms/step - loss: 0.2976 - accuracy: 0.8907 - val_loss: 0.3025 - val_accuracy: 0.8878\n",
      "Epoch 59/150\n",
      "72/72 [==============================] - 0s 2ms/step - loss: 0.2976 - accuracy: 0.8907 - val_loss: 0.3023 - val_accuracy: 0.8879\n",
      "Epoch 60/150\n",
      "72/72 [==============================] - 0s 2ms/step - loss: 0.2975 - accuracy: 0.8906 - val_loss: 0.3022 - val_accuracy: 0.8882\n",
      "Epoch 61/150\n",
      "72/72 [==============================] - 0s 2ms/step - loss: 0.2976 - accuracy: 0.8904 - val_loss: 0.3024 - val_accuracy: 0.8886\n",
      "Epoch 62/150\n",
      "72/72 [==============================] - 0s 2ms/step - loss: 0.2974 - accuracy: 0.8907 - val_loss: 0.3022 - val_accuracy: 0.8899\n",
      "Epoch 63/150\n",
      "72/72 [==============================] - 0s 2ms/step - loss: 0.2974 - accuracy: 0.8907 - val_loss: 0.3026 - val_accuracy: 0.8883\n",
      "Epoch 64/150\n",
      "72/72 [==============================] - 0s 2ms/step - loss: 0.2975 - accuracy: 0.8904 - val_loss: 0.3024 - val_accuracy: 0.8882\n",
      "Epoch 65/150\n",
      "72/72 [==============================] - 0s 2ms/step - loss: 0.2974 - accuracy: 0.8908 - val_loss: 0.3031 - val_accuracy: 0.8901\n",
      "Epoch 66/150\n",
      "72/72 [==============================] - 0s 2ms/step - loss: 0.2973 - accuracy: 0.8906 - val_loss: 0.3032 - val_accuracy: 0.8901\n",
      "Epoch 67/150\n",
      "72/72 [==============================] - 0s 2ms/step - loss: 0.2973 - accuracy: 0.8902 - val_loss: 0.3025 - val_accuracy: 0.8897\n",
      "Epoch 68/150\n",
      "72/72 [==============================] - 0s 2ms/step - loss: 0.2973 - accuracy: 0.8906 - val_loss: 0.3024 - val_accuracy: 0.8904\n",
      "Epoch 69/150\n",
      "72/72 [==============================] - 0s 2ms/step - loss: 0.2973 - accuracy: 0.8908 - val_loss: 0.3024 - val_accuracy: 0.8880\n",
      "Epoch 70/150\n",
      "72/72 [==============================] - 0s 2ms/step - loss: 0.2972 - accuracy: 0.8905 - val_loss: 0.3025 - val_accuracy: 0.8884\n",
      "Epoch 71/150\n",
      "72/72 [==============================] - 0s 2ms/step - loss: 0.2972 - accuracy: 0.8913 - val_loss: 0.3026 - val_accuracy: 0.8904\n",
      "Epoch 72/150\n",
      "72/72 [==============================] - 0s 2ms/step - loss: 0.2972 - accuracy: 0.8905 - val_loss: 0.3023 - val_accuracy: 0.8882\n",
      "Epoch 73/150\n",
      "72/72 [==============================] - 0s 2ms/step - loss: 0.2972 - accuracy: 0.8905 - val_loss: 0.3025 - val_accuracy: 0.8899\n",
      "Epoch 74/150\n",
      "72/72 [==============================] - 0s 2ms/step - loss: 0.2972 - accuracy: 0.8905 - val_loss: 0.3021 - val_accuracy: 0.8884\n",
      "Epoch 75/150\n",
      "72/72 [==============================] - 0s 2ms/step - loss: 0.2970 - accuracy: 0.8912 - val_loss: 0.3025 - val_accuracy: 0.8901\n",
      "Epoch 76/150\n",
      "72/72 [==============================] - 0s 2ms/step - loss: 0.2971 - accuracy: 0.8909 - val_loss: 0.3027 - val_accuracy: 0.8883\n",
      "Epoch 77/150\n",
      "72/72 [==============================] - 0s 2ms/step - loss: 0.2971 - accuracy: 0.8907 - val_loss: 0.3030 - val_accuracy: 0.8883\n",
      "Epoch 78/150\n",
      "72/72 [==============================] - 0s 2ms/step - loss: 0.2972 - accuracy: 0.8905 - val_loss: 0.3021 - val_accuracy: 0.8883\n",
      "Epoch 79/150\n",
      "72/72 [==============================] - 0s 2ms/step - loss: 0.2969 - accuracy: 0.8909 - val_loss: 0.3023 - val_accuracy: 0.8897\n",
      "Epoch 80/150\n",
      "72/72 [==============================] - 0s 2ms/step - loss: 0.2970 - accuracy: 0.8908 - val_loss: 0.3024 - val_accuracy: 0.8899\n",
      "Epoch 81/150\n",
      "72/72 [==============================] - 0s 2ms/step - loss: 0.2970 - accuracy: 0.8911 - val_loss: 0.3022 - val_accuracy: 0.8895\n",
      "Epoch 82/150\n",
      "72/72 [==============================] - 0s 2ms/step - loss: 0.2969 - accuracy: 0.8915 - val_loss: 0.3023 - val_accuracy: 0.8903\n",
      "Epoch 83/150\n",
      "72/72 [==============================] - 0s 2ms/step - loss: 0.2969 - accuracy: 0.8908 - val_loss: 0.3024 - val_accuracy: 0.8904\n",
      "Epoch 84/150\n",
      "72/72 [==============================] - 0s 2ms/step - loss: 0.2969 - accuracy: 0.8911 - val_loss: 0.3025 - val_accuracy: 0.8878\n",
      "Epoch 85/150\n",
      "72/72 [==============================] - 0s 2ms/step - loss: 0.2969 - accuracy: 0.8909 - val_loss: 0.3025 - val_accuracy: 0.8882\n",
      "Epoch 86/150\n",
      "72/72 [==============================] - 0s 3ms/step - loss: 0.2970 - accuracy: 0.8911 - val_loss: 0.3022 - val_accuracy: 0.8880\n",
      "Epoch 87/150\n",
      "72/72 [==============================] - 0s 2ms/step - loss: 0.2969 - accuracy: 0.8907 - val_loss: 0.3022 - val_accuracy: 0.8880\n",
      "Epoch 88/150\n",
      "72/72 [==============================] - 0s 2ms/step - loss: 0.2969 - accuracy: 0.8909 - val_loss: 0.3022 - val_accuracy: 0.8882\n",
      "Epoch 89/150\n",
      "72/72 [==============================] - 0s 4ms/step - loss: 0.2969 - accuracy: 0.8909 - val_loss: 0.3022 - val_accuracy: 0.8884\n",
      "Epoch 90/150\n",
      "72/72 [==============================] - 0s 3ms/step - loss: 0.2968 - accuracy: 0.8912 - val_loss: 0.3022 - val_accuracy: 0.8905\n",
      "Epoch 91/150\n",
      "72/72 [==============================] - 0s 2ms/step - loss: 0.2969 - accuracy: 0.8910 - val_loss: 0.3019 - val_accuracy: 0.8885\n",
      "Epoch 92/150\n",
      "72/72 [==============================] - 0s 2ms/step - loss: 0.2968 - accuracy: 0.8910 - val_loss: 0.3022 - val_accuracy: 0.8897\n",
      "Epoch 93/150\n",
      "72/72 [==============================] - 0s 4ms/step - loss: 0.2967 - accuracy: 0.8913 - val_loss: 0.3026 - val_accuracy: 0.8897\n",
      "Epoch 94/150\n",
      "72/72 [==============================] - 0s 3ms/step - loss: 0.2967 - accuracy: 0.8914 - val_loss: 0.3024 - val_accuracy: 0.8899\n",
      "Epoch 95/150\n",
      "72/72 [==============================] - 0s 2ms/step - loss: 0.2968 - accuracy: 0.8909 - val_loss: 0.3022 - val_accuracy: 0.8903\n",
      "Epoch 96/150\n",
      "72/72 [==============================] - 0s 2ms/step - loss: 0.2967 - accuracy: 0.8911 - val_loss: 0.3023 - val_accuracy: 0.8901\n",
      "Epoch 97/150\n",
      "72/72 [==============================] - 0s 2ms/step - loss: 0.2967 - accuracy: 0.8914 - val_loss: 0.3020 - val_accuracy: 0.8895\n",
      "Epoch 98/150\n",
      "72/72 [==============================] - 0s 3ms/step - loss: 0.2968 - accuracy: 0.8910 - val_loss: 0.3022 - val_accuracy: 0.8896\n",
      "Epoch 99/150\n",
      "72/72 [==============================] - 0s 2ms/step - loss: 0.2966 - accuracy: 0.8912 - val_loss: 0.3024 - val_accuracy: 0.8878\n",
      "Epoch 100/150\n",
      "72/72 [==============================] - 0s 3ms/step - loss: 0.2966 - accuracy: 0.8913 - val_loss: 0.3022 - val_accuracy: 0.8896\n",
      "Epoch 101/150\n",
      "72/72 [==============================] - 0s 2ms/step - loss: 0.2966 - accuracy: 0.8911 - val_loss: 0.3022 - val_accuracy: 0.8901\n",
      "Epoch 102/150\n",
      "72/72 [==============================] - 0s 2ms/step - loss: 0.2966 - accuracy: 0.8912 - val_loss: 0.3022 - val_accuracy: 0.8902\n",
      "Epoch 103/150\n",
      "72/72 [==============================] - 0s 5ms/step - loss: 0.2964 - accuracy: 0.8915 - val_loss: 0.3023 - val_accuracy: 0.8904\n",
      "Epoch 104/150\n",
      "72/72 [==============================] - 0s 2ms/step - loss: 0.2966 - accuracy: 0.8912 - val_loss: 0.3022 - val_accuracy: 0.8881\n",
      "Epoch 105/150\n",
      "72/72 [==============================] - 0s 2ms/step - loss: 0.2965 - accuracy: 0.8916 - val_loss: 0.3023 - val_accuracy: 0.8880\n",
      "Epoch 106/150\n",
      "72/72 [==============================] - 0s 2ms/step - loss: 0.2965 - accuracy: 0.8911 - val_loss: 0.3024 - val_accuracy: 0.8879\n",
      "Epoch 107/150\n",
      "72/72 [==============================] - 0s 2ms/step - loss: 0.2966 - accuracy: 0.8916 - val_loss: 0.3023 - val_accuracy: 0.8883\n",
      "Epoch 108/150\n",
      "72/72 [==============================] - 0s 2ms/step - loss: 0.2964 - accuracy: 0.8915 - val_loss: 0.3024 - val_accuracy: 0.8905\n",
      "Epoch 109/150\n",
      "72/72 [==============================] - 0s 3ms/step - loss: 0.2965 - accuracy: 0.8910 - val_loss: 0.3021 - val_accuracy: 0.8881\n",
      "Epoch 110/150\n",
      "72/72 [==============================] - 0s 3ms/step - loss: 0.2964 - accuracy: 0.8915 - val_loss: 0.3021 - val_accuracy: 0.8882\n",
      "Epoch 111/150\n",
      "72/72 [==============================] - 0s 3ms/step - loss: 0.2962 - accuracy: 0.8911 - val_loss: 0.3028 - val_accuracy: 0.8903\n",
      "Epoch 112/150\n",
      "72/72 [==============================] - 0s 3ms/step - loss: 0.2964 - accuracy: 0.8909 - val_loss: 0.3022 - val_accuracy: 0.8901\n",
      "Epoch 113/150\n",
      "72/72 [==============================] - 0s 3ms/step - loss: 0.2963 - accuracy: 0.8912 - val_loss: 0.3021 - val_accuracy: 0.8905\n",
      "Epoch 114/150\n",
      "72/72 [==============================] - 0s 3ms/step - loss: 0.2962 - accuracy: 0.8916 - val_loss: 0.3017 - val_accuracy: 0.8880\n",
      "Epoch 115/150\n",
      "72/72 [==============================] - 0s 3ms/step - loss: 0.2964 - accuracy: 0.8917 - val_loss: 0.3020 - val_accuracy: 0.8882\n",
      "Epoch 116/150\n",
      "72/72 [==============================] - 0s 3ms/step - loss: 0.2962 - accuracy: 0.8914 - val_loss: 0.3026 - val_accuracy: 0.8881\n",
      "Epoch 117/150\n",
      "72/72 [==============================] - 0s 3ms/step - loss: 0.2962 - accuracy: 0.8911 - val_loss: 0.3020 - val_accuracy: 0.8895\n",
      "Epoch 118/150\n",
      "72/72 [==============================] - 0s 3ms/step - loss: 0.2963 - accuracy: 0.8911 - val_loss: 0.3019 - val_accuracy: 0.8896\n",
      "Epoch 119/150\n",
      "72/72 [==============================] - 0s 3ms/step - loss: 0.2962 - accuracy: 0.8915 - val_loss: 0.3024 - val_accuracy: 0.8895\n",
      "Epoch 120/150\n",
      "72/72 [==============================] - 0s 3ms/step - loss: 0.2962 - accuracy: 0.8918 - val_loss: 0.3021 - val_accuracy: 0.8902\n",
      "Epoch 121/150\n",
      "72/72 [==============================] - 0s 3ms/step - loss: 0.2961 - accuracy: 0.8916 - val_loss: 0.3028 - val_accuracy: 0.8896\n",
      "Epoch 122/150\n",
      "72/72 [==============================] - 0s 2ms/step - loss: 0.2962 - accuracy: 0.8917 - val_loss: 0.3025 - val_accuracy: 0.8880\n",
      "Epoch 123/150\n",
      "72/72 [==============================] - 0s 2ms/step - loss: 0.2961 - accuracy: 0.8913 - val_loss: 0.3021 - val_accuracy: 0.8899\n",
      "Epoch 124/150\n",
      "72/72 [==============================] - 0s 2ms/step - loss: 0.2961 - accuracy: 0.8916 - val_loss: 0.3019 - val_accuracy: 0.8879\n",
      "Epoch 125/150\n",
      "72/72 [==============================] - 0s 2ms/step - loss: 0.2961 - accuracy: 0.8916 - val_loss: 0.3023 - val_accuracy: 0.8881\n",
      "Epoch 126/150\n",
      "72/72 [==============================] - 0s 2ms/step - loss: 0.2960 - accuracy: 0.8916 - val_loss: 0.3023 - val_accuracy: 0.8905\n",
      "Epoch 127/150\n",
      "72/72 [==============================] - 0s 3ms/step - loss: 0.2962 - accuracy: 0.8915 - val_loss: 0.3019 - val_accuracy: 0.8896\n",
      "Epoch 128/150\n",
      "72/72 [==============================] - 0s 3ms/step - loss: 0.2959 - accuracy: 0.8913 - val_loss: 0.3019 - val_accuracy: 0.8896\n",
      "Epoch 129/150\n",
      "72/72 [==============================] - 0s 2ms/step - loss: 0.2960 - accuracy: 0.8922 - val_loss: 0.3019 - val_accuracy: 0.8882\n",
      "Epoch 130/150\n",
      "72/72 [==============================] - 0s 2ms/step - loss: 0.2959 - accuracy: 0.8917 - val_loss: 0.3018 - val_accuracy: 0.8891\n",
      "Epoch 131/150\n",
      "72/72 [==============================] - 0s 2ms/step - loss: 0.2960 - accuracy: 0.8916 - val_loss: 0.3022 - val_accuracy: 0.8904\n",
      "Epoch 132/150\n",
      "72/72 [==============================] - 0s 2ms/step - loss: 0.2959 - accuracy: 0.8915 - val_loss: 0.3031 - val_accuracy: 0.8885\n",
      "Epoch 133/150\n",
      "72/72 [==============================] - 0s 3ms/step - loss: 0.2960 - accuracy: 0.8917 - val_loss: 0.3021 - val_accuracy: 0.8898\n",
      "Epoch 134/150\n",
      "72/72 [==============================] - 0s 2ms/step - loss: 0.2959 - accuracy: 0.8916 - val_loss: 0.3019 - val_accuracy: 0.8881\n",
      "Epoch 135/150\n",
      "72/72 [==============================] - 0s 2ms/step - loss: 0.2959 - accuracy: 0.8917 - val_loss: 0.3023 - val_accuracy: 0.8880\n",
      "Epoch 136/150\n",
      "72/72 [==============================] - 0s 3ms/step - loss: 0.2959 - accuracy: 0.8918 - val_loss: 0.3019 - val_accuracy: 0.8882\n",
      "Epoch 137/150\n",
      "72/72 [==============================] - 0s 2ms/step - loss: 0.2959 - accuracy: 0.8918 - val_loss: 0.3017 - val_accuracy: 0.8882\n",
      "Epoch 138/150\n",
      "72/72 [==============================] - 0s 3ms/step - loss: 0.2959 - accuracy: 0.8918 - val_loss: 0.3017 - val_accuracy: 0.8901\n",
      "Epoch 139/150\n",
      "72/72 [==============================] - 0s 3ms/step - loss: 0.2958 - accuracy: 0.8918 - val_loss: 0.3021 - val_accuracy: 0.8879\n",
      "Epoch 140/150\n",
      "72/72 [==============================] - 0s 2ms/step - loss: 0.2958 - accuracy: 0.8913 - val_loss: 0.3020 - val_accuracy: 0.8894\n",
      "Epoch 141/150\n",
      "72/72 [==============================] - 0s 2ms/step - loss: 0.2958 - accuracy: 0.8918 - val_loss: 0.3020 - val_accuracy: 0.8883\n",
      "Epoch 142/150\n",
      "72/72 [==============================] - 0s 2ms/step - loss: 0.2956 - accuracy: 0.8918 - val_loss: 0.3030 - val_accuracy: 0.8882\n",
      "Epoch 143/150\n",
      "72/72 [==============================] - 0s 2ms/step - loss: 0.2958 - accuracy: 0.8915 - val_loss: 0.3022 - val_accuracy: 0.8892\n",
      "Epoch 144/150\n",
      "72/72 [==============================] - 0s 2ms/step - loss: 0.2957 - accuracy: 0.8921 - val_loss: 0.3022 - val_accuracy: 0.8891\n",
      "Epoch 145/150\n",
      "72/72 [==============================] - 0s 2ms/step - loss: 0.2957 - accuracy: 0.8916 - val_loss: 0.3020 - val_accuracy: 0.8897\n",
      "Epoch 146/150\n",
      "72/72 [==============================] - 0s 3ms/step - loss: 0.2957 - accuracy: 0.8919 - val_loss: 0.3019 - val_accuracy: 0.8879\n",
      "Epoch 147/150\n",
      "72/72 [==============================] - 0s 3ms/step - loss: 0.2957 - accuracy: 0.8913 - val_loss: 0.3021 - val_accuracy: 0.8905\n",
      "Epoch 148/150\n",
      "72/72 [==============================] - 0s 3ms/step - loss: 0.2957 - accuracy: 0.8915 - val_loss: 0.3014 - val_accuracy: 0.8889\n",
      "Epoch 149/150\n",
      "72/72 [==============================] - 0s 3ms/step - loss: 0.2957 - accuracy: 0.8918 - val_loss: 0.3019 - val_accuracy: 0.8896\n",
      "Epoch 150/150\n",
      "72/72 [==============================] - 0s 3ms/step - loss: 0.2957 - accuracy: 0.8917 - val_loss: 0.3019 - val_accuracy: 0.8894\n"
     ]
    }
   ],
   "source": [
    "history = model.fit(X_train_dl,\n",
    "                   y_train_dl,\n",
    "                   epochs=150,\n",
    "                   batch_size=512,\n",
    "                   validation_data=(X_test_dl,y_test_dl))"
   ]
  },
  {
   "cell_type": "markdown",
   "id": "6dcf3b61",
   "metadata": {},
   "source": [
    "### 2.6.2 Test"
   ]
  },
  {
   "cell_type": "code",
   "execution_count": 35,
   "id": "20053db1",
   "metadata": {},
   "outputs": [
    {
     "name": "stdout",
     "output_type": "stream",
     "text": [
      "1866/1866 [==============================] - 1s 663us/step\n",
      "The AUC of the Test model is  0.6956760148891428\n"
     ]
    }
   ],
   "source": [
    "from sklearn.metrics import roc_curve\n",
    "from sklearn.metrics import auc\n",
    "\n",
    "pred_exam6  = model.predict(x_exam_woe)\n",
    "fpr, tpr, thresholds = roc_curve(y_exam, pred_exam6)\n",
    "roc_auc = auc(fpr, tpr)\n",
    "print(\"The AUC of the Test model is \", roc_auc)"
   ]
  },
  {
   "cell_type": "code",
   "execution_count": 36,
   "id": "a8ad9c43",
   "metadata": {},
   "outputs": [],
   "source": [
    "pred_exam6 = pred_exam6.round()"
   ]
  },
  {
   "cell_type": "code",
   "execution_count": 38,
   "id": "df9b66dc",
   "metadata": {},
   "outputs": [
    {
     "data": {
      "text/plain": [
       "0.9836538790011273"
      ]
     },
     "execution_count": 38,
     "metadata": {},
     "output_type": "execute_result"
    },
    {
     "data": {
      "text/plain": [
       "0.9679445309752298"
      ]
     },
     "execution_count": 38,
     "metadata": {},
     "output_type": "execute_result"
    },
    {
     "data": {
      "text/plain": [
       "0.9781404986751817"
      ]
     },
     "execution_count": 38,
     "metadata": {},
     "output_type": "execute_result"
    },
    {
     "data": {
      "text/plain": [
       "0.9892297650130548"
      ]
     },
     "execution_count": 38,
     "metadata": {},
     "output_type": "execute_result"
    }
   ],
   "source": [
    "from sklearn.metrics import f1_score\n",
    "from sklearn.metrics import accuracy_score\n",
    "from sklearn.metrics import recall_score\n",
    "from sklearn.metrics import precision_score\n",
    "\n",
    "f1_score(y_exam, pred_exam6)\n",
    "accuracy_score(y_exam, pred_exam6)\n",
    "precision_score(y_exam, pred_exam6)\n",
    "recall_score(y_exam, pred_exam6)"
   ]
  },
  {
   "cell_type": "markdown",
   "id": "3b8f3a20",
   "metadata": {},
   "source": [
    "# 3.Conclusion"
   ]
  },
  {
   "cell_type": "code",
   "execution_count": 39,
   "id": "39bdbcff",
   "metadata": {},
   "outputs": [],
   "source": [
    "Logictic_regresion_metrics = {'f1_score':0.981,'accuracy':0.962 , 'precision':0.979, 'recall':0.983,'roc':0.72}\n",
    "random_forest_metrics      = {'f1_score':0.984,'accuracy':0.968, 'precision':0.978, 'recall': 0.989,'roc':0.71}\n",
    "xgboost_metrics            = {'f1_score':0.984,'accuracy':0.969, 'precision':0.978, 'recall': 0.990,'roc':0.69}\n",
    "decision_tree_metrics      = {'f1_score':0.984,'accuracy':0.969, 'precision':0.978, 'recall': 0.990,'roc':0.66}\n",
    "K_means                    = {'f1_score':0.983,'accuracy':0.967, 'precision':0.977, 'recall': 0.987,'roc':0.66}\n",
    "deep_learning              = {'f1_score':0.984,'accuracy':0.967, 'precision':0.978, 'recall': 0.989,'roc':0.69}"
   ]
  },
  {
   "cell_type": "code",
   "execution_count": 40,
   "id": "84fc7b5e",
   "metadata": {},
   "outputs": [
    {
     "name": "stdout",
     "output_type": "stream",
     "text": [
      "                    f1_score  accuracy  precision  recall   roc\n",
      "Logictic_regresion     0.981     0.962      0.979   0.983  0.72\n",
      "Random_forest          0.984     0.968      0.978   0.989  0.71\n",
      "XGboost                0.984     0.969      0.978   0.990  0.69\n",
      "Decision_tree          0.984     0.969      0.978   0.990  0.66\n",
      "K_means                0.983     0.967      0.977   0.987  0.66\n",
      "deep_learning          0.984     0.967      0.978   0.989  0.69\n"
     ]
    }
   ],
   "source": [
    "metrics_dict = {\n",
    "    'Logictic_regresion':Logictic_regresion_metrics,\n",
    "    'Random_forest': random_forest_metrics,\n",
    "    'XGboost': xgboost_metrics,\n",
    "    'Decision_tree':decision_tree_metrics,\n",
    "    'K_means ':K_means ,\n",
    "    'deep_learning ': deep_learning ,\n",
    "}\n",
    "\n",
    "metrics_df = pd.DataFrame.from_dict(metrics_dict, orient='index')\n",
    "\n",
    "# 输出结果\n",
    "print(metrics_df)\n"
   ]
  },
  {
   "cell_type": "code",
   "execution_count": null,
   "id": "5ae9be56",
   "metadata": {},
   "outputs": [],
   "source": []
  }
 ],
 "metadata": {
  "kernelspec": {
   "display_name": "Python 3 (ipykernel)",
   "language": "python",
   "name": "python3"
  },
  "language_info": {
   "codemirror_mode": {
    "name": "ipython",
    "version": 3
   },
   "file_extension": ".py",
   "mimetype": "text/x-python",
   "name": "python",
   "nbconvert_exporter": "python",
   "pygments_lexer": "ipython3",
   "version": "3.9.13"
  },
  "vscode": {
   "interpreter": {
    "hash": "641c236c4d4a6beade88c707545eaff8f7290950488eed8288cf1f2d42036a39"
   }
  }
 },
 "nbformat": 4,
 "nbformat_minor": 5
}
